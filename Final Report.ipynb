{
 "cells": [
  {
   "cell_type": "markdown",
   "id": "749e91f1",
   "metadata": {},
   "source": [
    "# Telco Churn Analysis"
   ]
  },
  {
   "cell_type": "markdown",
   "id": "d5c68746",
   "metadata": {},
   "source": [
    "## Goals\n",
    "- To discover the main drivers of churn within Telco\n",
    "- Use the drivers to develop a ML program that predicts churn with at least 80% accuracy\n",
    "- Deliver a report to a non techinical supervisor in a digestable manner"
   ]
  },
  {
   "cell_type": "code",
   "execution_count": 1,
   "id": "b1834481",
   "metadata": {},
   "outputs": [],
   "source": [
    "import pandas as pd\n",
    "import seaborn as sns\n",
    "import new_lib as nl\n",
    "import numpy as np\n",
    "import matplotlib.pyplot as plt\n",
    "from scipy import stats\n",
    "from sklearn.model_selection import train_test_split\n",
    "import acquire\n",
    "import warnings\n",
    "warnings.filterwarnings(\"ignore\")\n",
    "from sklearn.tree import DecisionTreeClassifier, plot_tree\n",
    "from sklearn.metrics import classification_report\n",
    "from sklearn.metrics import confusion_matrix\n",
    "from sklearn.ensemble import RandomForestClassifier\n",
    "from sklearn.linear_model import LogisticRegression\n",
    "import acquire as a\n",
    "import prepare as p"
   ]
  },
  {
   "cell_type": "markdown",
   "id": "b56f9d65",
   "metadata": {},
   "source": [
    "## Acquire\n",
    "- Data acquired from Telco\n",
    "- Each row represents a single customer\n",
    "- Columns represent the different information concering each customer"
   ]
  },
  {
   "cell_type": "markdown",
   "id": "40b40383",
   "metadata": {},
   "source": [
    "## Preperation\n",
    "- Removed any unecessary columns\n",
    "- Changing data types into workable form\n",
    "- Removed any null values\n",
    "- Specified target variable\n",
    "- Split data into train test validate sets\n",
    "- Created functions for replication of experiment"
   ]
  },
  {
   "cell_type": "code",
   "execution_count": 2,
   "id": "79e27f84",
   "metadata": {},
   "outputs": [
    {
     "data": {
      "text/html": [
       "<div>\n",
       "<style scoped>\n",
       "    .dataframe tbody tr th:only-of-type {\n",
       "        vertical-align: middle;\n",
       "    }\n",
       "\n",
       "    .dataframe tbody tr th {\n",
       "        vertical-align: top;\n",
       "    }\n",
       "\n",
       "    .dataframe thead th {\n",
       "        text-align: right;\n",
       "    }\n",
       "</style>\n",
       "<table border=\"1\" class=\"dataframe\">\n",
       "  <thead>\n",
       "    <tr style=\"text-align: right;\">\n",
       "      <th></th>\n",
       "      <th>payment_type_id</th>\n",
       "      <th>contract_type_id</th>\n",
       "      <th>dependents</th>\n",
       "      <th>tenure</th>\n",
       "      <th>monthly_charges</th>\n",
       "      <th>total_charges</th>\n",
       "      <th>churn</th>\n",
       "      <th>contract_type</th>\n",
       "      <th>payment_type</th>\n",
       "    </tr>\n",
       "  </thead>\n",
       "  <tbody>\n",
       "    <tr>\n",
       "      <th>0</th>\n",
       "      <td>2</td>\n",
       "      <td>2</td>\n",
       "      <td>Yes</td>\n",
       "      <td>9</td>\n",
       "      <td>65.6</td>\n",
       "      <td>593.30</td>\n",
       "      <td>No</td>\n",
       "      <td>One year</td>\n",
       "      <td>Mailed check</td>\n",
       "    </tr>\n",
       "    <tr>\n",
       "      <th>1</th>\n",
       "      <td>2</td>\n",
       "      <td>1</td>\n",
       "      <td>No</td>\n",
       "      <td>9</td>\n",
       "      <td>59.9</td>\n",
       "      <td>542.40</td>\n",
       "      <td>No</td>\n",
       "      <td>Month-to-month</td>\n",
       "      <td>Mailed check</td>\n",
       "    </tr>\n",
       "    <tr>\n",
       "      <th>2</th>\n",
       "      <td>1</td>\n",
       "      <td>1</td>\n",
       "      <td>No</td>\n",
       "      <td>4</td>\n",
       "      <td>73.9</td>\n",
       "      <td>280.85</td>\n",
       "      <td>Yes</td>\n",
       "      <td>Month-to-month</td>\n",
       "      <td>Electronic check</td>\n",
       "    </tr>\n",
       "    <tr>\n",
       "      <th>3</th>\n",
       "      <td>1</td>\n",
       "      <td>1</td>\n",
       "      <td>No</td>\n",
       "      <td>13</td>\n",
       "      <td>98.0</td>\n",
       "      <td>1237.85</td>\n",
       "      <td>Yes</td>\n",
       "      <td>Month-to-month</td>\n",
       "      <td>Electronic check</td>\n",
       "    </tr>\n",
       "    <tr>\n",
       "      <th>4</th>\n",
       "      <td>2</td>\n",
       "      <td>1</td>\n",
       "      <td>No</td>\n",
       "      <td>3</td>\n",
       "      <td>83.9</td>\n",
       "      <td>267.40</td>\n",
       "      <td>Yes</td>\n",
       "      <td>Month-to-month</td>\n",
       "      <td>Mailed check</td>\n",
       "    </tr>\n",
       "  </tbody>\n",
       "</table>\n",
       "</div>"
      ],
      "text/plain": [
       "   payment_type_id  contract_type_id dependents  tenure  monthly_charges  \\\n",
       "0                2                 2        Yes       9             65.6   \n",
       "1                2                 1         No       9             59.9   \n",
       "2                1                 1         No       4             73.9   \n",
       "3                1                 1         No      13             98.0   \n",
       "4                2                 1         No       3             83.9   \n",
       "\n",
       "   total_charges churn   contract_type      payment_type  \n",
       "0         593.30    No        One year      Mailed check  \n",
       "1         542.40    No  Month-to-month      Mailed check  \n",
       "2         280.85   Yes  Month-to-month  Electronic check  \n",
       "3        1237.85   Yes  Month-to-month  Electronic check  \n",
       "4         267.40   Yes  Month-to-month      Mailed check  "
      ]
     },
     "execution_count": 2,
     "metadata": {},
     "output_type": "execute_result"
    }
   ],
   "source": [
    "telco = a.data('telco')\n",
    "telco.head()\n",
    "#Aquired data and briefly look to make sure its correct"
   ]
  },
  {
   "cell_type": "code",
   "execution_count": 3,
   "id": "336646d8",
   "metadata": {},
   "outputs": [
    {
     "data": {
      "text/html": [
       "<div>\n",
       "<style scoped>\n",
       "    .dataframe tbody tr th:only-of-type {\n",
       "        vertical-align: middle;\n",
       "    }\n",
       "\n",
       "    .dataframe tbody tr th {\n",
       "        vertical-align: top;\n",
       "    }\n",
       "\n",
       "    .dataframe thead th {\n",
       "        text-align: right;\n",
       "    }\n",
       "</style>\n",
       "<table border=\"1\" class=\"dataframe\">\n",
       "  <thead>\n",
       "    <tr style=\"text-align: right;\">\n",
       "      <th></th>\n",
       "      <th>payment_type_id</th>\n",
       "      <th>contract_type_id</th>\n",
       "      <th>tenure</th>\n",
       "      <th>monthly_charges</th>\n",
       "      <th>total_charges</th>\n",
       "    </tr>\n",
       "  </thead>\n",
       "  <tbody>\n",
       "    <tr>\n",
       "      <th>count</th>\n",
       "      <td>7043.000000</td>\n",
       "      <td>7043.000000</td>\n",
       "      <td>7043.000000</td>\n",
       "      <td>7043.000000</td>\n",
       "      <td>7043.000000</td>\n",
       "    </tr>\n",
       "    <tr>\n",
       "      <th>mean</th>\n",
       "      <td>2.315633</td>\n",
       "      <td>1.690473</td>\n",
       "      <td>32.371149</td>\n",
       "      <td>64.761692</td>\n",
       "      <td>2279.734304</td>\n",
       "    </tr>\n",
       "    <tr>\n",
       "      <th>std</th>\n",
       "      <td>1.148907</td>\n",
       "      <td>0.833755</td>\n",
       "      <td>24.559481</td>\n",
       "      <td>30.090047</td>\n",
       "      <td>2266.794470</td>\n",
       "    </tr>\n",
       "    <tr>\n",
       "      <th>min</th>\n",
       "      <td>1.000000</td>\n",
       "      <td>1.000000</td>\n",
       "      <td>0.000000</td>\n",
       "      <td>18.250000</td>\n",
       "      <td>0.000000</td>\n",
       "    </tr>\n",
       "    <tr>\n",
       "      <th>25%</th>\n",
       "      <td>1.000000</td>\n",
       "      <td>1.000000</td>\n",
       "      <td>9.000000</td>\n",
       "      <td>35.500000</td>\n",
       "      <td>398.550000</td>\n",
       "    </tr>\n",
       "    <tr>\n",
       "      <th>50%</th>\n",
       "      <td>2.000000</td>\n",
       "      <td>1.000000</td>\n",
       "      <td>29.000000</td>\n",
       "      <td>70.350000</td>\n",
       "      <td>1394.550000</td>\n",
       "    </tr>\n",
       "    <tr>\n",
       "      <th>75%</th>\n",
       "      <td>3.000000</td>\n",
       "      <td>2.000000</td>\n",
       "      <td>55.000000</td>\n",
       "      <td>89.850000</td>\n",
       "      <td>3786.600000</td>\n",
       "    </tr>\n",
       "    <tr>\n",
       "      <th>max</th>\n",
       "      <td>4.000000</td>\n",
       "      <td>3.000000</td>\n",
       "      <td>72.000000</td>\n",
       "      <td>118.750000</td>\n",
       "      <td>8684.800000</td>\n",
       "    </tr>\n",
       "  </tbody>\n",
       "</table>\n",
       "</div>"
      ],
      "text/plain": [
       "       payment_type_id  contract_type_id       tenure  monthly_charges  \\\n",
       "count      7043.000000       7043.000000  7043.000000      7043.000000   \n",
       "mean          2.315633          1.690473    32.371149        64.761692   \n",
       "std           1.148907          0.833755    24.559481        30.090047   \n",
       "min           1.000000          1.000000     0.000000        18.250000   \n",
       "25%           1.000000          1.000000     9.000000        35.500000   \n",
       "50%           2.000000          1.000000    29.000000        70.350000   \n",
       "75%           3.000000          2.000000    55.000000        89.850000   \n",
       "max           4.000000          3.000000    72.000000       118.750000   \n",
       "\n",
       "       total_charges  \n",
       "count    7043.000000  \n",
       "mean     2279.734304  \n",
       "std      2266.794470  \n",
       "min         0.000000  \n",
       "25%       398.550000  \n",
       "50%      1394.550000  \n",
       "75%      3786.600000  \n",
       "max      8684.800000  "
      ]
     },
     "execution_count": 3,
     "metadata": {},
     "output_type": "execute_result"
    }
   ],
   "source": [
    "telco.describe()\n",
    "# sumerrized data that we have acquired"
   ]
  },
  {
   "cell_type": "markdown",
   "id": "d8ed663e",
   "metadata": {},
   "source": [
    "## Explore"
   ]
  },
  {
   "cell_type": "markdown",
   "id": "0e237752",
   "metadata": {},
   "source": [
    "### Does contract type impact churn?"
   ]
  },
  {
   "cell_type": "code",
   "execution_count": 4,
   "id": "539652af",
   "metadata": {},
   "outputs": [
    {
     "name": "stdout",
     "output_type": "stream",
     "text": [
      "Comparing relationship between churn and contract_type_id\n",
      "1184.5965720837926 5.863038300673391e-258\n",
      "------------------\n",
      "\n",
      "\n"
     ]
    }
   ],
   "source": [
    "p.chi2('contract_type_id', telco)\n",
    "# chi2 test for contract type\n",
    "# find that it is also incredibly relevant to churn"
   ]
  },
  {
   "cell_type": "code",
   "execution_count": 5,
   "id": "70356bd4",
   "metadata": {},
   "outputs": [
    {
     "data": {
      "image/png": "[encoded data removed]",
      "text/plain": [
       "<Figure size 640x480 with 1 Axes>"
      ]
     },
     "metadata": {},
     "output_type": "display_data"
    }
   ],
   "source": [
    "p.contract_plot(telco, 'contract_type', 'churn')\n",
    "# count plot for contract type that shows the count of churned"
   ]
  },
  {
   "cell_type": "markdown",
   "id": "e53ba663",
   "metadata": {},
   "source": [
    "- As you can see, Month to Month contracts have by far the greatest churn\n",
    "- The statistical test combined with the visual show that this is an excellent driver for churn"
   ]
  },
  {
   "cell_type": "markdown",
   "id": "b7f45406",
   "metadata": {},
   "source": [
    "### Does payment type impact churn?"
   ]
  },
  {
   "cell_type": "code",
   "execution_count": 6,
   "id": "9f3e73de",
   "metadata": {
    "scrolled": true
   },
   "outputs": [
    {
     "name": "stdout",
     "output_type": "stream",
     "text": [
      "Comparing relationship between churn and payment_type_id\n",
      "648.1423274814 3.6823546520097993e-140\n",
      "------------------\n",
      "\n",
      "\n"
     ]
    }
   ],
   "source": [
    "p.chi2('payment_type_id', telco)\n",
    "# chi2 test for payment_types\n",
    "# find that it is incredibly relevant"
   ]
  },
  {
   "cell_type": "code",
   "execution_count": 7,
   "id": "69e401fe",
   "metadata": {},
   "outputs": [
    {
     "data": {
      "image/png": "[encoded data removed]",
      "text/plain": [
       "<Figure size 640x480 with 1 Axes>"
      ]
     },
     "metadata": {},
     "output_type": "display_data"
    }
   ],
   "source": [
    "p.payment_plot(telco, 'payment_type', 'churn')\n",
    "# payment type plot"
   ]
  },
  {
   "cell_type": "markdown",
   "id": "024df58c",
   "metadata": {},
   "source": [
    "- This shows another strong indicator of churn\n",
    "- Electronic checks are by far the most likely customers to churn\n",
    "- This is another great driver for churn\n",
    "- The company should consider why so many people who pay using check are leaving"
   ]
  },
  {
   "cell_type": "markdown",
   "id": "674f6431",
   "metadata": {},
   "source": [
    "### Does dependents status impact churn?"
   ]
  },
  {
   "cell_type": "code",
   "execution_count": 8,
   "id": "2d7d0f63",
   "metadata": {
    "scrolled": true
   },
   "outputs": [
    {
     "name": "stdout",
     "output_type": "stream",
     "text": [
      "Comparing relationship between churn and dependents\n",
      "189.12924940423474 4.9249216612154196e-43\n",
      "------------------\n",
      "\n",
      "\n"
     ]
    }
   ],
   "source": [
    "p.chi2('dependents', telco)\n",
    "# chi2 test for dependents\n",
    "# it is also very relevant but not as much as the other two chi2 tests"
   ]
  },
  {
   "cell_type": "code",
   "execution_count": 9,
   "id": "13dcf9ec",
   "metadata": {},
   "outputs": [
    {
     "data": {
      "image/png": "[encoded data removed]",
      "text/plain": [
       "<Figure size 640x480 with 1 Axes>"
      ]
     },
     "metadata": {},
     "output_type": "display_data"
    }
   ],
   "source": [
    "p.dependents_plot(telco, 'dependents', 'churn')\n",
    "# creating a dependents count plot"
   ]
  },
  {
   "cell_type": "markdown",
   "id": "b5eedd9c",
   "metadata": {},
   "source": [
    "- While this is a less valuable indicator than the previous two, there is still a large gap indicating churn\n",
    "- Likely the reason for not churn could be that having a dependent leads to multiple lines and older individuals who prefer stability and loyalty to a brand\n",
    "- The company should consider this,  however it isnt the most important indicator"
   ]
  },
  {
   "cell_type": "markdown",
   "id": "98f80500",
   "metadata": {},
   "source": [
    "### Do monthly charges impact churn?"
   ]
  },
  {
   "cell_type": "code",
   "execution_count": 10,
   "id": "8983a21b",
   "metadata": {},
   "outputs": [
    {
     "name": "stdout",
     "output_type": "stream",
     "text": [
      "Comparing relationship between churn and monthly_charges\n",
      "18.407526676414673 8.59244933154705e-73\n",
      "------------------\n",
      "\n",
      "\n"
     ]
    }
   ],
   "source": [
    "p.t_test('monthly_charges', telco)\n",
    "# t_test for monthly charges\n",
    "# it is very relevant to churn"
   ]
  },
  {
   "cell_type": "code",
   "execution_count": 11,
   "id": "4efb5ae3",
   "metadata": {},
   "outputs": [
    {
     "data": {
      "image/png": "[encoded data removed]",
      "text/plain": [
       "<Figure size 640x480 with 1 Axes>"
      ]
     },
     "metadata": {},
     "output_type": "display_data"
    }
   ],
   "source": [
    "p.hist_plot(telco, 'churn', 'monthly_charges', 'red', 'blue', .5, .1, 'black', 'Churned', 'Retained', \n",
    "            'Monthly Charges', 'Customers Churned', 'Customers Churned by Monthly Charges')"
   ]
  },
  {
   "cell_type": "markdown",
   "id": "6394c12e",
   "metadata": {},
   "source": [
    "- A clear trend of churn increasing as monthly charges reaches around 70 can be seen\n",
    "- The overlayed histogram also shows a strong outlier of under 30 a month accounting for most of the customers\n",
    "- Company should pay attention to not only what is causing the churn but also the vast range of monthly charges"
   ]
  },
  {
   "cell_type": "markdown",
   "id": "bd6bd378",
   "metadata": {},
   "source": [
    "## Do total charges impact churn?"
   ]
  },
  {
   "cell_type": "code",
   "execution_count": 12,
   "id": "ea87914a",
   "metadata": {},
   "outputs": [
    {
     "name": "stdout",
     "output_type": "stream",
     "text": [
      "Comparing relationship between churn and total_charges\n",
      "-18.70661828817703 5.902580609073978e-75\n",
      "------------------\n",
      "\n",
      "\n"
     ]
    }
   ],
   "source": [
    "p.t_test('total_charges', telco)\n",
    "# t_test for total charges\n",
    "# it is also very relevant to churn"
   ]
  },
  {
   "cell_type": "code",
   "execution_count": 13,
   "id": "7ed04dc8",
   "metadata": {},
   "outputs": [
    {
     "data": {
      "image/png": "[encoded data removed]",
      "text/plain": [
       "<Figure size 640x480 with 1 Axes>"
      ]
     },
     "metadata": {},
     "output_type": "display_data"
    }
   ],
   "source": [
    "p.hist_plot(telco, 'churn', 'total_charges', 'red', 'blue', .5, .1, 'black', 'Churned', 'Retained', \n",
    "            'Total Charges', 'Customers Churned', 'Customers Churned by Total Charges')"
   ]
  },
  {
   "cell_type": "markdown",
   "id": "e0241ecc",
   "metadata": {},
   "source": [
    "- As expected customers with higher total charges tend not to churn\n",
    "- This is the result of longer contracts meaning that they are already committed to the company long term\n",
    "- Not a great indicator of churn as this is more of an indicator of what contract type customers might have"
   ]
  },
  {
   "cell_type": "markdown",
   "id": "e6d5ba3f",
   "metadata": {},
   "source": [
    "### What is the best indicator of churn?\n",
    "- It appears that contract type is the best indicator of churn"
   ]
  },
  {
   "cell_type": "markdown",
   "id": "2b670ffc",
   "metadata": {},
   "source": [
    "## Exploration Summary"
   ]
  },
  {
   "cell_type": "markdown",
   "id": "31ec656d",
   "metadata": {},
   "source": [
    "- Every single feature seems to have some level of relevance to churn\n",
    "- Contract type is the best predictor\n",
    "- While my hypothesis that customers with dependents would churn less is true, it is the least important driver in the feature set chosen"
   ]
  },
  {
   "cell_type": "markdown",
   "id": "da8104f1",
   "metadata": {},
   "source": [
    "## Modeling"
   ]
  },
  {
   "cell_type": "markdown",
   "id": "55acd8a2",
   "metadata": {},
   "source": [
    "### Moving forward with all features to modeling since they are all relevant to a high degree"
   ]
  },
  {
   "cell_type": "markdown",
   "id": "968f2c82",
   "metadata": {},
   "source": [
    "#### Accuracy is the evaluation metric\n",
    "#### The goal is to get 80% accuracy"
   ]
  },
  {
   "cell_type": "code",
   "execution_count": 14,
   "id": "286c3409",
   "metadata": {},
   "outputs": [
    {
     "data": {
      "text/plain": [
       "0.7346301292063041"
      ]
     },
     "execution_count": 14,
     "metadata": {},
     "output_type": "execute_result"
    }
   ],
   "source": [
    "p.baseline(telco, 'churn')\n",
    "# Creating a baseline for the models to compare against"
   ]
  },
  {
   "cell_type": "markdown",
   "id": "59a493d0",
   "metadata": {},
   "source": [
    "Creating a baseline to evaluate the models against\n",
    "The goal is to improve to 80%"
   ]
  },
  {
   "cell_type": "code",
   "execution_count": 15,
   "id": "4fb29678",
   "metadata": {},
   "outputs": [],
   "source": [
    "p.make_binary(telco, 'dependents')"
   ]
  },
  {
   "cell_type": "code",
   "execution_count": 16,
   "id": "fa9fc274",
   "metadata": {},
   "outputs": [],
   "source": [
    "telco = p.drop_cols(telco, 'contract_type', 'payment_type', 1)"
   ]
  },
  {
   "cell_type": "code",
   "execution_count": 17,
   "id": "1b6e4fb1",
   "metadata": {},
   "outputs": [
    {
     "data": {
      "text/html": [
       "<div>\n",
       "<style scoped>\n",
       "    .dataframe tbody tr th:only-of-type {\n",
       "        vertical-align: middle;\n",
       "    }\n",
       "\n",
       "    .dataframe tbody tr th {\n",
       "        vertical-align: top;\n",
       "    }\n",
       "\n",
       "    .dataframe thead th {\n",
       "        text-align: right;\n",
       "    }\n",
       "</style>\n",
       "<table border=\"1\" class=\"dataframe\">\n",
       "  <thead>\n",
       "    <tr style=\"text-align: right;\">\n",
       "      <th></th>\n",
       "      <th>payment_type_id</th>\n",
       "      <th>contract_type_id</th>\n",
       "      <th>dependents</th>\n",
       "      <th>tenure</th>\n",
       "      <th>monthly_charges</th>\n",
       "      <th>total_charges</th>\n",
       "    </tr>\n",
       "  </thead>\n",
       "  <tbody>\n",
       "    <tr>\n",
       "      <th>1320</th>\n",
       "      <td>2</td>\n",
       "      <td>1</td>\n",
       "      <td>0</td>\n",
       "      <td>1</td>\n",
       "      <td>20.40</td>\n",
       "      <td>20.40</td>\n",
       "    </tr>\n",
       "    <tr>\n",
       "      <th>6590</th>\n",
       "      <td>2</td>\n",
       "      <td>1</td>\n",
       "      <td>0</td>\n",
       "      <td>4</td>\n",
       "      <td>20.70</td>\n",
       "      <td>73.05</td>\n",
       "    </tr>\n",
       "    <tr>\n",
       "      <th>3490</th>\n",
       "      <td>3</td>\n",
       "      <td>1</td>\n",
       "      <td>0</td>\n",
       "      <td>28</td>\n",
       "      <td>59.55</td>\n",
       "      <td>1646.45</td>\n",
       "    </tr>\n",
       "    <tr>\n",
       "      <th>4745</th>\n",
       "      <td>3</td>\n",
       "      <td>3</td>\n",
       "      <td>1</td>\n",
       "      <td>60</td>\n",
       "      <td>20.95</td>\n",
       "      <td>1270.55</td>\n",
       "    </tr>\n",
       "    <tr>\n",
       "      <th>3268</th>\n",
       "      <td>4</td>\n",
       "      <td>3</td>\n",
       "      <td>0</td>\n",
       "      <td>63</td>\n",
       "      <td>79.85</td>\n",
       "      <td>4861.45</td>\n",
       "    </tr>\n",
       "    <tr>\n",
       "      <th>...</th>\n",
       "      <td>...</td>\n",
       "      <td>...</td>\n",
       "      <td>...</td>\n",
       "      <td>...</td>\n",
       "      <td>...</td>\n",
       "      <td>...</td>\n",
       "    </tr>\n",
       "    <tr>\n",
       "      <th>4890</th>\n",
       "      <td>1</td>\n",
       "      <td>1</td>\n",
       "      <td>0</td>\n",
       "      <td>4</td>\n",
       "      <td>91.65</td>\n",
       "      <td>365.40</td>\n",
       "    </tr>\n",
       "    <tr>\n",
       "      <th>1831</th>\n",
       "      <td>4</td>\n",
       "      <td>1</td>\n",
       "      <td>0</td>\n",
       "      <td>41</td>\n",
       "      <td>81.30</td>\n",
       "      <td>3190.65</td>\n",
       "    </tr>\n",
       "    <tr>\n",
       "      <th>4341</th>\n",
       "      <td>2</td>\n",
       "      <td>1</td>\n",
       "      <td>0</td>\n",
       "      <td>1</td>\n",
       "      <td>19.75</td>\n",
       "      <td>19.75</td>\n",
       "    </tr>\n",
       "    <tr>\n",
       "      <th>996</th>\n",
       "      <td>1</td>\n",
       "      <td>3</td>\n",
       "      <td>0</td>\n",
       "      <td>57</td>\n",
       "      <td>95.25</td>\n",
       "      <td>5464.65</td>\n",
       "    </tr>\n",
       "    <tr>\n",
       "      <th>1124</th>\n",
       "      <td>1</td>\n",
       "      <td>1</td>\n",
       "      <td>1</td>\n",
       "      <td>32</td>\n",
       "      <td>100.40</td>\n",
       "      <td>3217.65</td>\n",
       "    </tr>\n",
       "  </tbody>\n",
       "</table>\n",
       "<p>3943 rows × 6 columns</p>\n",
       "</div>"
      ],
      "text/plain": [
       "      payment_type_id  contract_type_id  dependents  tenure  monthly_charges  \\\n",
       "1320                2                 1           0       1            20.40   \n",
       "6590                2                 1           0       4            20.70   \n",
       "3490                3                 1           0      28            59.55   \n",
       "4745                3                 3           1      60            20.95   \n",
       "3268                4                 3           0      63            79.85   \n",
       "...               ...               ...         ...     ...              ...   \n",
       "4890                1                 1           0       4            91.65   \n",
       "1831                4                 1           0      41            81.30   \n",
       "4341                2                 1           0       1            19.75   \n",
       "996                 1                 3           0      57            95.25   \n",
       "1124                1                 1           1      32           100.40   \n",
       "\n",
       "      total_charges  \n",
       "1320          20.40  \n",
       "6590          73.05  \n",
       "3490        1646.45  \n",
       "4745        1270.55  \n",
       "3268        4861.45  \n",
       "...             ...  \n",
       "4890         365.40  \n",
       "1831        3190.65  \n",
       "4341          19.75  \n",
       "996         5464.65  \n",
       "1124        3217.65  \n",
       "\n",
       "[3943 rows x 6 columns]"
      ]
     },
     "execution_count": 17,
     "metadata": {},
     "output_type": "execute_result"
    }
   ],
   "source": [
    "train, validate, test, X_train, y_train, X_val, y_val, X_test, y_test = p.data_split(telco, 'churn')\n",
    "# split the data into train validate and test sets\n",
    "X_train"
   ]
  },
  {
   "cell_type": "markdown",
   "id": "3157bdde",
   "metadata": {},
   "source": [
    "## Decision Tree"
   ]
  },
  {
   "cell_type": "code",
   "execution_count": 21,
   "id": "90b8a9bd",
   "metadata": {},
   "outputs": [
    {
     "data": {
      "text/html": [
       "<style>#sk-container-id-3 {color: black;background-color: white;}#sk-container-id-3 pre{padding: 0;}#sk-container-id-3 div.sk-toggleable {background-color: white;}#sk-container-id-3 label.sk-toggleable__label {cursor: pointer;display: block;width: 100%;margin-bottom: 0;padding: 0.3em;box-sizing: border-box;text-align: center;}#sk-container-id-3 label.sk-toggleable__label-arrow:before {content: \"▸\";float: left;margin-right: 0.25em;color: #696969;}#sk-container-id-3 label.sk-toggleable__label-arrow:hover:before {color: black;}#sk-container-id-3 div.sk-estimator:hover label.sk-toggleable__label-arrow:before {color: black;}#sk-container-id-3 div.sk-toggleable__content {max-height: 0;max-width: 0;overflow: hidden;text-align: left;background-color: #f0f8ff;}#sk-container-id-3 div.sk-toggleable__content pre {margin: 0.2em;color: black;border-radius: 0.25em;background-color: #f0f8ff;}#sk-container-id-3 input.sk-toggleable__control:checked~div.sk-toggleable__content {max-height: 200px;max-width: 100%;overflow: auto;}#sk-container-id-3 input.sk-toggleable__control:checked~label.sk-toggleable__label-arrow:before {content: \"▾\";}#sk-container-id-3 div.sk-estimator input.sk-toggleable__control:checked~label.sk-toggleable__label {background-color: #d4ebff;}#sk-container-id-3 div.sk-label input.sk-toggleable__control:checked~label.sk-toggleable__label {background-color: #d4ebff;}#sk-container-id-3 input.sk-hidden--visually {border: 0;clip: rect(1px 1px 1px 1px);clip: rect(1px, 1px, 1px, 1px);height: 1px;margin: -1px;overflow: hidden;padding: 0;position: absolute;width: 1px;}#sk-container-id-3 div.sk-estimator {font-family: monospace;background-color: #f0f8ff;border: 1px dotted black;border-radius: 0.25em;box-sizing: border-box;margin-bottom: 0.5em;}#sk-container-id-3 div.sk-estimator:hover {background-color: #d4ebff;}#sk-container-id-3 div.sk-parallel-item::after {content: \"\";width: 100%;border-bottom: 1px solid gray;flex-grow: 1;}#sk-container-id-3 div.sk-label:hover label.sk-toggleable__label {background-color: #d4ebff;}#sk-container-id-3 div.sk-serial::before {content: \"\";position: absolute;border-left: 1px solid gray;box-sizing: border-box;top: 0;bottom: 0;left: 50%;z-index: 0;}#sk-container-id-3 div.sk-serial {display: flex;flex-direction: column;align-items: center;background-color: white;padding-right: 0.2em;padding-left: 0.2em;position: relative;}#sk-container-id-3 div.sk-item {position: relative;z-index: 1;}#sk-container-id-3 div.sk-parallel {display: flex;align-items: stretch;justify-content: center;background-color: white;position: relative;}#sk-container-id-3 div.sk-item::before, #sk-container-id-3 div.sk-parallel-item::before {content: \"\";position: absolute;border-left: 1px solid gray;box-sizing: border-box;top: 0;bottom: 0;left: 50%;z-index: -1;}#sk-container-id-3 div.sk-parallel-item {display: flex;flex-direction: column;z-index: 1;position: relative;background-color: white;}#sk-container-id-3 div.sk-parallel-item:first-child::after {align-self: flex-end;width: 50%;}#sk-container-id-3 div.sk-parallel-item:last-child::after {align-self: flex-start;width: 50%;}#sk-container-id-3 div.sk-parallel-item:only-child::after {width: 0;}#sk-container-id-3 div.sk-dashed-wrapped {border: 1px dashed gray;margin: 0 0.4em 0.5em 0.4em;box-sizing: border-box;padding-bottom: 0.4em;background-color: white;}#sk-container-id-3 div.sk-label label {font-family: monospace;font-weight: bold;display: inline-block;line-height: 1.2em;}#sk-container-id-3 div.sk-label-container {text-align: center;}#sk-container-id-3 div.sk-container {/* jupyter's `normalize.less` sets `[hidden] { display: none; }` but bootstrap.min.css set `[hidden] { display: none !important; }` so we also need the `!important` here to be able to override the default hidden behavior on the sphinx rendered scikit-learn.org. See: https://github.com/scikit-learn/scikit-learn/issues/21755 */display: inline-block !important;position: relative;}#sk-container-id-3 div.sk-text-repr-fallback {display: none;}</style><div id=\"sk-container-id-3\" class=\"sk-top-container\"><div class=\"sk-text-repr-fallback\"><pre>DecisionTreeClassifier(max_depth=7, random_state=77)</pre><b>In a Jupyter environment, please rerun this cell to show the HTML representation or trust the notebook. <br />On GitHub, the HTML representation is unable to render, please try loading this page with nbviewer.org.</b></div><div class=\"sk-container\" hidden><div class=\"sk-item\"><div class=\"sk-estimator sk-toggleable\"><input class=\"sk-toggleable__control sk-hidden--visually\" id=\"sk-estimator-id-3\" type=\"checkbox\" checked><label for=\"sk-estimator-id-3\" class=\"sk-toggleable__label sk-toggleable__label-arrow\">DecisionTreeClassifier</label><div class=\"sk-toggleable__content\"><pre>DecisionTreeClassifier(max_depth=7, random_state=77)</pre></div></div></div></div></div>"
      ],
      "text/plain": [
       "DecisionTreeClassifier(max_depth=7, random_state=77)"
      ]
     },
     "execution_count": 21,
     "metadata": {},
     "output_type": "execute_result"
    },
    {
     "data": {
      "image/png": "[encoded data removed]",
      "text/plain": [
       "<Figure size 1300x700 with 1 Axes>"
      ]
     },
     "metadata": {},
     "output_type": "display_data"
    }
   ],
   "source": [
    "p.dec_tree(X_train, y_train, 7, X_train, y_train)\n",
    "# create and visualize a decision tree on the train set"
   ]
  },
  {
   "cell_type": "markdown",
   "id": "730dfe96",
   "metadata": {},
   "source": [
    "Found that depth 7 leads to the most accurate results without overfitting the model"
   ]
  },
  {
   "cell_type": "code",
   "execution_count": 22,
   "id": "38412e9a",
   "metadata": {},
   "outputs": [
    {
     "data": {
      "text/plain": [
       "0.7899219304471257"
      ]
     },
     "execution_count": 22,
     "metadata": {},
     "output_type": "execute_result"
    }
   ],
   "source": [
    "p.tree_score(X_test, y_test, 7, X_train, y_train)\n",
    "# tests the model on the test set"
   ]
  },
  {
   "cell_type": "markdown",
   "id": "39324571",
   "metadata": {},
   "source": [
    "Decision tree model results in 79% accuracy\n",
    "While it is a 5% increase from the baseline it is not a huge improvment"
   ]
  },
  {
   "cell_type": "code",
   "execution_count": 23,
   "id": "d01252ec",
   "metadata": {},
   "outputs": [
    {
     "data": {
      "text/html": [
       "<div>\n",
       "<style scoped>\n",
       "    .dataframe tbody tr th:only-of-type {\n",
       "        vertical-align: middle;\n",
       "    }\n",
       "\n",
       "    .dataframe tbody tr th {\n",
       "        vertical-align: top;\n",
       "    }\n",
       "\n",
       "    .dataframe thead th {\n",
       "        text-align: right;\n",
       "    }\n",
       "</style>\n",
       "<table border=\"1\" class=\"dataframe\">\n",
       "  <thead>\n",
       "    <tr style=\"text-align: right;\">\n",
       "      <th></th>\n",
       "      <th>No</th>\n",
       "      <th>Yes</th>\n",
       "    </tr>\n",
       "  </thead>\n",
       "  <tbody>\n",
       "    <tr>\n",
       "      <th>No</th>\n",
       "      <td>896</td>\n",
       "      <td>139</td>\n",
       "    </tr>\n",
       "    <tr>\n",
       "      <th>Yes</th>\n",
       "      <td>157</td>\n",
       "      <td>217</td>\n",
       "    </tr>\n",
       "  </tbody>\n",
       "</table>\n",
       "</div>"
      ],
      "text/plain": [
       "      No  Yes\n",
       "No   896  139\n",
       "Yes  157  217"
      ]
     },
     "execution_count": 23,
     "metadata": {},
     "output_type": "execute_result"
    }
   ],
   "source": [
    "p.tree_matrix(X_test, y_test, 7, X_train, y_train)\n",
    "# creates a decision matrix from the test set"
   ]
  },
  {
   "cell_type": "markdown",
   "id": "9e12d045",
   "metadata": {},
   "source": [
    "- The confusion matrix shows the numerical results of all the test set customers\n",
    "- While the False negative is rather low, the false positive is pretty high"
   ]
  },
  {
   "cell_type": "code",
   "execution_count": 25,
   "id": "77c1ad8b",
   "metadata": {},
   "outputs": [
    {
     "name": "stdout",
     "output_type": "stream",
     "text": [
      "              precision    recall  f1-score   support\n",
      "\n",
      "          No       0.85      0.87      0.86      1035\n",
      "         Yes       0.61      0.58      0.59       374\n",
      "\n",
      "    accuracy                           0.79      1409\n",
      "   macro avg       0.73      0.72      0.73      1409\n",
      "weighted avg       0.79      0.79      0.79      1409\n",
      "\n"
     ]
    }
   ],
   "source": [
    "p.tree_report(X_test, y_test, 7, X_train, y_train)\n",
    "# Creates a comprehensive report that details all other scores not just accuracy"
   ]
  },
  {
   "cell_type": "markdown",
   "id": "9edb7355",
   "metadata": {},
   "source": [
    "## Random Forest"
   ]
  },
  {
   "cell_type": "code",
   "execution_count": 31,
   "id": "326ff018",
   "metadata": {},
   "outputs": [
    {
     "data": {
      "text/plain": [
       "0.7892122072391767"
      ]
     },
     "execution_count": 31,
     "metadata": {},
     "output_type": "execute_result"
    }
   ],
   "source": [
    "p.ran_score(X_test, y_test, 7, X_train, y_train)\n",
    "# Create a random forest score for the test set"
   ]
  },
  {
   "cell_type": "markdown",
   "id": "996fa282",
   "metadata": {},
   "source": [
    "Creates a random forest test score. Using the test set the accuracy is also about 79% which is a 5% improvement from baseline"
   ]
  },
  {
   "cell_type": "code",
   "execution_count": 32,
   "id": "ff832096",
   "metadata": {},
   "outputs": [
    {
     "data": {
      "text/html": [
       "<div>\n",
       "<style scoped>\n",
       "    .dataframe tbody tr th:only-of-type {\n",
       "        vertical-align: middle;\n",
       "    }\n",
       "\n",
       "    .dataframe tbody tr th {\n",
       "        vertical-align: top;\n",
       "    }\n",
       "\n",
       "    .dataframe thead th {\n",
       "        text-align: right;\n",
       "    }\n",
       "</style>\n",
       "<table border=\"1\" class=\"dataframe\">\n",
       "  <thead>\n",
       "    <tr style=\"text-align: right;\">\n",
       "      <th></th>\n",
       "      <th>No</th>\n",
       "      <th>Yes</th>\n",
       "    </tr>\n",
       "  </thead>\n",
       "  <tbody>\n",
       "    <tr>\n",
       "      <th>No</th>\n",
       "      <td>924</td>\n",
       "      <td>111</td>\n",
       "    </tr>\n",
       "    <tr>\n",
       "      <th>Yes</th>\n",
       "      <td>186</td>\n",
       "      <td>188</td>\n",
       "    </tr>\n",
       "  </tbody>\n",
       "</table>\n",
       "</div>"
      ],
      "text/plain": [
       "      No  Yes\n",
       "No   924  111\n",
       "Yes  186  188"
      ]
     },
     "execution_count": 32,
     "metadata": {},
     "output_type": "execute_result"
    }
   ],
   "source": [
    "p.ran_matrix(X_test, y_test, 7, X_train, y_train)\n",
    "# Creates a matrix detailing the random forest predictions"
   ]
  },
  {
   "cell_type": "markdown",
   "id": "8fe92056",
   "metadata": {},
   "source": [
    "Matrix that shows the predictions based on the random forest model, like the decision tree it also has a concerningly high amount of false positives"
   ]
  },
  {
   "cell_type": "code",
   "execution_count": 33,
   "id": "c27723dc",
   "metadata": {},
   "outputs": [
    {
     "name": "stdout",
     "output_type": "stream",
     "text": [
      "              precision    recall  f1-score   support\n",
      "\n",
      "          No       0.83      0.89      0.86      1035\n",
      "         Yes       0.63      0.50      0.56       374\n",
      "\n",
      "    accuracy                           0.79      1409\n",
      "   macro avg       0.73      0.70      0.71      1409\n",
      "weighted avg       0.78      0.79      0.78      1409\n",
      "\n"
     ]
    }
   ],
   "source": [
    "p.ran_report(X_test, y_test, 7, X_train, y_train)\n",
    "# Creates a comprehensive report for the random forest model"
   ]
  },
  {
   "cell_type": "markdown",
   "id": "3e0172a3",
   "metadata": {},
   "source": [
    "## Logistic Regression"
   ]
  },
  {
   "cell_type": "code",
   "execution_count": 35,
   "id": "e19d5e5b",
   "metadata": {},
   "outputs": [
    {
     "data": {
      "text/plain": [
       "0.7877927608232789"
      ]
     },
     "execution_count": 35,
     "metadata": {},
     "output_type": "execute_result"
    }
   ],
   "source": [
    "p.log_reg_score(X_test, y_test, 1, X_train, y_train)\n",
    "# Creates a model and accuracy score for a logistical regression model"
   ]
  },
  {
   "cell_type": "markdown",
   "id": "66fd665b",
   "metadata": {},
   "source": [
    "This model scores a 78% accuracy making the models all within 1% of each other"
   ]
  },
  {
   "cell_type": "code",
   "execution_count": 36,
   "id": "a935d16b",
   "metadata": {},
   "outputs": [
    {
     "data": {
      "text/html": [
       "<div>\n",
       "<style scoped>\n",
       "    .dataframe tbody tr th:only-of-type {\n",
       "        vertical-align: middle;\n",
       "    }\n",
       "\n",
       "    .dataframe tbody tr th {\n",
       "        vertical-align: top;\n",
       "    }\n",
       "\n",
       "    .dataframe thead th {\n",
       "        text-align: right;\n",
       "    }\n",
       "</style>\n",
       "<table border=\"1\" class=\"dataframe\">\n",
       "  <thead>\n",
       "    <tr style=\"text-align: right;\">\n",
       "      <th></th>\n",
       "      <th>No</th>\n",
       "      <th>Yes</th>\n",
       "    </tr>\n",
       "  </thead>\n",
       "  <tbody>\n",
       "    <tr>\n",
       "      <th>No</th>\n",
       "      <td>918</td>\n",
       "      <td>117</td>\n",
       "    </tr>\n",
       "    <tr>\n",
       "      <th>Yes</th>\n",
       "      <td>182</td>\n",
       "      <td>192</td>\n",
       "    </tr>\n",
       "  </tbody>\n",
       "</table>\n",
       "</div>"
      ],
      "text/plain": [
       "      No  Yes\n",
       "No   918  117\n",
       "Yes  182  192"
      ]
     },
     "execution_count": 36,
     "metadata": {},
     "output_type": "execute_result"
    }
   ],
   "source": [
    "p.log_matrix(X_test, y_test, 1, X_train, y_train)\n",
    "# Creates a matrix for the logistical regression model"
   ]
  },
  {
   "cell_type": "markdown",
   "id": "d163510a",
   "metadata": {},
   "source": [
    "This model as well has a high rate of false positives"
   ]
  },
  {
   "cell_type": "code",
   "execution_count": 37,
   "id": "65e6a661",
   "metadata": {},
   "outputs": [
    {
     "name": "stdout",
     "output_type": "stream",
     "text": [
      "              precision    recall  f1-score   support\n",
      "\n",
      "          No       0.83      0.89      0.86      1035\n",
      "         Yes       0.62      0.51      0.56       374\n",
      "\n",
      "    accuracy                           0.79      1409\n",
      "   macro avg       0.73      0.70      0.71      1409\n",
      "weighted avg       0.78      0.79      0.78      1409\n",
      "\n"
     ]
    }
   ],
   "source": [
    "p.log_report(X_test, y_test, 1, X_train, y_train)\n",
    "# Creates the comprehensive report for the logistical regression model"
   ]
  },
  {
   "cell_type": "markdown",
   "id": "b63640e2",
   "metadata": {},
   "source": [
    "## Modeling Summary"
   ]
  },
  {
   "cell_type": "markdown",
   "id": "f6cc5dcd",
   "metadata": {},
   "source": [
    "The most accurate model was the decision tree model with 79% accuracy"
   ]
  },
  {
   "cell_type": "markdown",
   "id": "38844302",
   "metadata": {},
   "source": [
    "The random forest model was also quite accurate at 79% however the logistical regression was less accurate at 78.7%"
   ]
  },
  {
   "cell_type": "markdown",
   "id": "6c16cae8",
   "metadata": {},
   "source": [
    "All models did a good job of prediciting retention however they all struggled to accurately predict churn"
   ]
  },
  {
   "cell_type": "markdown",
   "id": "94cc8d2d",
   "metadata": {},
   "source": [
    "## Conclusion"
   ]
  },
  {
   "cell_type": "markdown",
   "id": "6ed16f15",
   "metadata": {},
   "source": [
    "### Exploration"
   ]
  },
  {
   "cell_type": "markdown",
   "id": "f06a5a91",
   "metadata": {},
   "source": [
    "- The feature set selected all were relevant to the target\n",
    "- Based on the visuals and statistics tests there are some very clear trends among the data\n",
    "- The contract type seems to be the best indicator of churn"
   ]
  },
  {
   "cell_type": "markdown",
   "id": "3d807a8b",
   "metadata": {},
   "source": [
    "### Modeling"
   ]
  },
  {
   "cell_type": "markdown",
   "id": "9a394624",
   "metadata": {},
   "source": [
    "- None of the models significantly outperformed the baseline\n",
    "- The models all failed to reach the 80% goal also\n",
    "- The models also all failed to account for false positives very well\n",
    "- Perhaps the models would be better at accounting for false positives "
   ]
  },
  {
   "cell_type": "markdown",
   "id": "2dd8fca3",
   "metadata": {},
   "source": [
    "### Recommendations"
   ]
  },
  {
   "cell_type": "markdown",
   "id": "df54612c",
   "metadata": {},
   "source": [
    "- The company should recognize that the contract type the customer signs will greatly influence their retention rate\n",
    "- The company should consider how best to incentivize customers to sign long term contracts\n",
    "- The company should also consider how to standardize monthly costs as well to increase stability"
   ]
  },
  {
   "cell_type": "markdown",
   "id": "3bbc563f",
   "metadata": {},
   "source": [
    "### Next Steps"
   ]
  },
  {
   "cell_type": "markdown",
   "id": "992ee3f6",
   "metadata": {},
   "source": [
    "- The next steps would be to consider which other drivers might better produce models that can predict accuracy higher than 80%\n",
    "- We should also consider ways to better graph and represent total and monthly costs\n",
    "- I would also like to take a deeper dive into why exactly the false positive rate is so high in all the models"
   ]
  }
 ],
 "metadata": {
  "kernelspec": {
   "display_name": "Python 3 (ipykernel)",
   "language": "python",
   "name": "python3"
  },
  "language_info": {
   "codemirror_mode": {
    "name": "ipython",
    "version": 3
   },
   "file_extension": ".py",
   "mimetype": "text/x-python",
   "name": "python",
   "nbconvert_exporter": "python",
   "pygments_lexer": "ipython3",
   "version": "3.9.13"
  }
 },
 "nbformat": 4,
 "nbformat_minor": 5
}
