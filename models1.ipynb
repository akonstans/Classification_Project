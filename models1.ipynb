{
 "cells": [
  {
   "cell_type": "code",
   "execution_count": 1,
   "id": "0cfc7e08",
   "metadata": {},
   "outputs": [],
   "source": [
    "import pandas as pd\n",
    "import seaborn as sns\n",
    "import new_lib as nl\n",
    "import numpy as np\n",
    "import matplotlib.pyplot as plt\n",
    "from scipy import stats\n",
    "from sklearn.model_selection import train_test_split\n",
    "import acquire\n",
    "import warnings\n",
    "warnings.filterwarnings(\"ignore\")\n",
    "from sklearn.tree import DecisionTreeClassifier, plot_tree\n",
    "from sklearn.metrics import classification_report\n",
    "from sklearn.metrics import confusion_matrix\n",
    "from sklearn.ensemble import RandomForestClassifier\n",
    "from sklearn.linear_model import LogisticRegression"
   ]
  },
  {
   "cell_type": "code",
   "execution_count": 2,
   "id": "8d0be367",
   "metadata": {},
   "outputs": [
    {
     "data": {
      "text/html": [
       "<div>\n",
       "<style scoped>\n",
       "    .dataframe tbody tr th:only-of-type {\n",
       "        vertical-align: middle;\n",
       "    }\n",
       "\n",
       "    .dataframe tbody tr th {\n",
       "        vertical-align: top;\n",
       "    }\n",
       "\n",
       "    .dataframe thead th {\n",
       "        text-align: right;\n",
       "    }\n",
       "</style>\n",
       "<table border=\"1\" class=\"dataframe\">\n",
       "  <thead>\n",
       "    <tr style=\"text-align: right;\">\n",
       "      <th></th>\n",
       "      <th>payment_type_id</th>\n",
       "      <th>contract_type_id</th>\n",
       "      <th>dependents</th>\n",
       "      <th>tenure</th>\n",
       "      <th>multiple_lines</th>\n",
       "      <th>monthly_charges</th>\n",
       "      <th>total_charges</th>\n",
       "      <th>churn</th>\n",
       "    </tr>\n",
       "  </thead>\n",
       "  <tbody>\n",
       "    <tr>\n",
       "      <th>0</th>\n",
       "      <td>2</td>\n",
       "      <td>2</td>\n",
       "      <td>Yes</td>\n",
       "      <td>9</td>\n",
       "      <td>No</td>\n",
       "      <td>65.60</td>\n",
       "      <td>593.3</td>\n",
       "      <td>No</td>\n",
       "    </tr>\n",
       "    <tr>\n",
       "      <th>1</th>\n",
       "      <td>2</td>\n",
       "      <td>1</td>\n",
       "      <td>No</td>\n",
       "      <td>9</td>\n",
       "      <td>Yes</td>\n",
       "      <td>59.90</td>\n",
       "      <td>542.4</td>\n",
       "      <td>No</td>\n",
       "    </tr>\n",
       "    <tr>\n",
       "      <th>2</th>\n",
       "      <td>1</td>\n",
       "      <td>1</td>\n",
       "      <td>No</td>\n",
       "      <td>4</td>\n",
       "      <td>No</td>\n",
       "      <td>73.90</td>\n",
       "      <td>280.85</td>\n",
       "      <td>Yes</td>\n",
       "    </tr>\n",
       "    <tr>\n",
       "      <th>3</th>\n",
       "      <td>1</td>\n",
       "      <td>1</td>\n",
       "      <td>No</td>\n",
       "      <td>13</td>\n",
       "      <td>No</td>\n",
       "      <td>98.00</td>\n",
       "      <td>1237.85</td>\n",
       "      <td>Yes</td>\n",
       "    </tr>\n",
       "    <tr>\n",
       "      <th>4</th>\n",
       "      <td>2</td>\n",
       "      <td>1</td>\n",
       "      <td>No</td>\n",
       "      <td>3</td>\n",
       "      <td>No</td>\n",
       "      <td>83.90</td>\n",
       "      <td>267.4</td>\n",
       "      <td>Yes</td>\n",
       "    </tr>\n",
       "    <tr>\n",
       "      <th>...</th>\n",
       "      <td>...</td>\n",
       "      <td>...</td>\n",
       "      <td>...</td>\n",
       "      <td>...</td>\n",
       "      <td>...</td>\n",
       "      <td>...</td>\n",
       "      <td>...</td>\n",
       "      <td>...</td>\n",
       "    </tr>\n",
       "    <tr>\n",
       "      <th>7038</th>\n",
       "      <td>2</td>\n",
       "      <td>2</td>\n",
       "      <td>No</td>\n",
       "      <td>13</td>\n",
       "      <td>No</td>\n",
       "      <td>55.15</td>\n",
       "      <td>742.9</td>\n",
       "      <td>No</td>\n",
       "    </tr>\n",
       "    <tr>\n",
       "      <th>7039</th>\n",
       "      <td>1</td>\n",
       "      <td>1</td>\n",
       "      <td>No</td>\n",
       "      <td>22</td>\n",
       "      <td>Yes</td>\n",
       "      <td>85.10</td>\n",
       "      <td>1873.7</td>\n",
       "      <td>Yes</td>\n",
       "    </tr>\n",
       "    <tr>\n",
       "      <th>7040</th>\n",
       "      <td>2</td>\n",
       "      <td>1</td>\n",
       "      <td>No</td>\n",
       "      <td>2</td>\n",
       "      <td>No</td>\n",
       "      <td>50.30</td>\n",
       "      <td>92.75</td>\n",
       "      <td>No</td>\n",
       "    </tr>\n",
       "    <tr>\n",
       "      <th>7041</th>\n",
       "      <td>2</td>\n",
       "      <td>3</td>\n",
       "      <td>Yes</td>\n",
       "      <td>67</td>\n",
       "      <td>No</td>\n",
       "      <td>67.85</td>\n",
       "      <td>4627.65</td>\n",
       "      <td>No</td>\n",
       "    </tr>\n",
       "    <tr>\n",
       "      <th>7042</th>\n",
       "      <td>1</td>\n",
       "      <td>3</td>\n",
       "      <td>Yes</td>\n",
       "      <td>63</td>\n",
       "      <td>No phone service</td>\n",
       "      <td>59.00</td>\n",
       "      <td>3707.6</td>\n",
       "      <td>No</td>\n",
       "    </tr>\n",
       "  </tbody>\n",
       "</table>\n",
       "<p>7043 rows × 8 columns</p>\n",
       "</div>"
      ],
      "text/plain": [
       "      payment_type_id  contract_type_id dependents  tenure    multiple_lines  \\\n",
       "0                   2                 2        Yes       9                No   \n",
       "1                   2                 1         No       9               Yes   \n",
       "2                   1                 1         No       4                No   \n",
       "3                   1                 1         No      13                No   \n",
       "4                   2                 1         No       3                No   \n",
       "...               ...               ...        ...     ...               ...   \n",
       "7038                2                 2         No      13                No   \n",
       "7039                1                 1         No      22               Yes   \n",
       "7040                2                 1         No       2                No   \n",
       "7041                2                 3        Yes      67                No   \n",
       "7042                1                 3        Yes      63  No phone service   \n",
       "\n",
       "      monthly_charges total_charges churn  \n",
       "0               65.60         593.3    No  \n",
       "1               59.90         542.4    No  \n",
       "2               73.90        280.85   Yes  \n",
       "3               98.00       1237.85   Yes  \n",
       "4               83.90         267.4   Yes  \n",
       "...               ...           ...   ...  \n",
       "7038            55.15         742.9    No  \n",
       "7039            85.10        1873.7   Yes  \n",
       "7040            50.30         92.75    No  \n",
       "7041            67.85       4627.65    No  \n",
       "7042            59.00        3707.6    No  \n",
       "\n",
       "[7043 rows x 8 columns]"
      ]
     },
     "execution_count": 2,
     "metadata": {},
     "output_type": "execute_result"
    }
   ],
   "source": [
    "telco = acquire.get_telco_data(nl.get_db_url)\n",
    "telco = telco.iloc[:, 1:]\n",
    "telco = telco.drop(['gender', 'senior_citizen', 'partner', 'phone_service', 'tech_support', 'streaming_tv', \n",
    "                    'streaming_movies', 'paperless_billing', 'internet_service_type', 'online_security', 'online_backup', \n",
    "                    'device_protection', 'internet_service_type_id', 'customer_id', 'contract_type', 'payment_type'], axis =1)\n",
    "telco\n",
    "\n",
    "# Aquiring the Telco data and dropping the Unnamed 0 column to give a dataframe containing the dataset"
   ]
  },
  {
   "cell_type": "code",
   "execution_count": 3,
   "id": "84273931",
   "metadata": {},
   "outputs": [],
   "source": [
    "telco = telco.dropna()\n",
    "telco.total_charges = telco.total_charges.replace(' ', 0).astype(float)\n",
    "# Dropping any null values and converting all the remaining numbers into floats\n",
    "# Makes it easier to use stats to ttest the charges and churn"
   ]
  },
  {
   "cell_type": "code",
   "execution_count": 4,
   "id": "21b40b39",
   "metadata": {},
   "outputs": [],
   "source": [
    "telco.dependents = np.where(telco.dependents == 'Yes', 1, 0)"
   ]
  },
  {
   "cell_type": "code",
   "execution_count": 5,
   "id": "156768f4",
   "metadata": {},
   "outputs": [
    {
     "data": {
      "text/html": [
       "<div>\n",
       "<style scoped>\n",
       "    .dataframe tbody tr th:only-of-type {\n",
       "        vertical-align: middle;\n",
       "    }\n",
       "\n",
       "    .dataframe tbody tr th {\n",
       "        vertical-align: top;\n",
       "    }\n",
       "\n",
       "    .dataframe thead th {\n",
       "        text-align: right;\n",
       "    }\n",
       "</style>\n",
       "<table border=\"1\" class=\"dataframe\">\n",
       "  <thead>\n",
       "    <tr style=\"text-align: right;\">\n",
       "      <th></th>\n",
       "      <th>payment_type_id</th>\n",
       "      <th>contract_type_id</th>\n",
       "      <th>dependents</th>\n",
       "      <th>tenure</th>\n",
       "      <th>multiple_lines</th>\n",
       "      <th>monthly_charges</th>\n",
       "      <th>total_charges</th>\n",
       "      <th>churn</th>\n",
       "    </tr>\n",
       "  </thead>\n",
       "  <tbody>\n",
       "    <tr>\n",
       "      <th>0</th>\n",
       "      <td>2</td>\n",
       "      <td>2</td>\n",
       "      <td>1</td>\n",
       "      <td>9</td>\n",
       "      <td>No</td>\n",
       "      <td>65.60</td>\n",
       "      <td>593.30</td>\n",
       "      <td>No</td>\n",
       "    </tr>\n",
       "    <tr>\n",
       "      <th>1</th>\n",
       "      <td>2</td>\n",
       "      <td>1</td>\n",
       "      <td>0</td>\n",
       "      <td>9</td>\n",
       "      <td>Yes</td>\n",
       "      <td>59.90</td>\n",
       "      <td>542.40</td>\n",
       "      <td>No</td>\n",
       "    </tr>\n",
       "    <tr>\n",
       "      <th>2</th>\n",
       "      <td>1</td>\n",
       "      <td>1</td>\n",
       "      <td>0</td>\n",
       "      <td>4</td>\n",
       "      <td>No</td>\n",
       "      <td>73.90</td>\n",
       "      <td>280.85</td>\n",
       "      <td>Yes</td>\n",
       "    </tr>\n",
       "    <tr>\n",
       "      <th>3</th>\n",
       "      <td>1</td>\n",
       "      <td>1</td>\n",
       "      <td>0</td>\n",
       "      <td>13</td>\n",
       "      <td>No</td>\n",
       "      <td>98.00</td>\n",
       "      <td>1237.85</td>\n",
       "      <td>Yes</td>\n",
       "    </tr>\n",
       "    <tr>\n",
       "      <th>4</th>\n",
       "      <td>2</td>\n",
       "      <td>1</td>\n",
       "      <td>0</td>\n",
       "      <td>3</td>\n",
       "      <td>No</td>\n",
       "      <td>83.90</td>\n",
       "      <td>267.40</td>\n",
       "      <td>Yes</td>\n",
       "    </tr>\n",
       "    <tr>\n",
       "      <th>...</th>\n",
       "      <td>...</td>\n",
       "      <td>...</td>\n",
       "      <td>...</td>\n",
       "      <td>...</td>\n",
       "      <td>...</td>\n",
       "      <td>...</td>\n",
       "      <td>...</td>\n",
       "      <td>...</td>\n",
       "    </tr>\n",
       "    <tr>\n",
       "      <th>7038</th>\n",
       "      <td>2</td>\n",
       "      <td>2</td>\n",
       "      <td>0</td>\n",
       "      <td>13</td>\n",
       "      <td>No</td>\n",
       "      <td>55.15</td>\n",
       "      <td>742.90</td>\n",
       "      <td>No</td>\n",
       "    </tr>\n",
       "    <tr>\n",
       "      <th>7039</th>\n",
       "      <td>1</td>\n",
       "      <td>1</td>\n",
       "      <td>0</td>\n",
       "      <td>22</td>\n",
       "      <td>Yes</td>\n",
       "      <td>85.10</td>\n",
       "      <td>1873.70</td>\n",
       "      <td>Yes</td>\n",
       "    </tr>\n",
       "    <tr>\n",
       "      <th>7040</th>\n",
       "      <td>2</td>\n",
       "      <td>1</td>\n",
       "      <td>0</td>\n",
       "      <td>2</td>\n",
       "      <td>No</td>\n",
       "      <td>50.30</td>\n",
       "      <td>92.75</td>\n",
       "      <td>No</td>\n",
       "    </tr>\n",
       "    <tr>\n",
       "      <th>7041</th>\n",
       "      <td>2</td>\n",
       "      <td>3</td>\n",
       "      <td>1</td>\n",
       "      <td>67</td>\n",
       "      <td>No</td>\n",
       "      <td>67.85</td>\n",
       "      <td>4627.65</td>\n",
       "      <td>No</td>\n",
       "    </tr>\n",
       "    <tr>\n",
       "      <th>7042</th>\n",
       "      <td>1</td>\n",
       "      <td>3</td>\n",
       "      <td>1</td>\n",
       "      <td>63</td>\n",
       "      <td>No phone service</td>\n",
       "      <td>59.00</td>\n",
       "      <td>3707.60</td>\n",
       "      <td>No</td>\n",
       "    </tr>\n",
       "  </tbody>\n",
       "</table>\n",
       "<p>7043 rows × 8 columns</p>\n",
       "</div>"
      ],
      "text/plain": [
       "      payment_type_id  contract_type_id  dependents  tenure    multiple_lines  \\\n",
       "0                   2                 2           1       9                No   \n",
       "1                   2                 1           0       9               Yes   \n",
       "2                   1                 1           0       4                No   \n",
       "3                   1                 1           0      13                No   \n",
       "4                   2                 1           0       3                No   \n",
       "...               ...               ...         ...     ...               ...   \n",
       "7038                2                 2           0      13                No   \n",
       "7039                1                 1           0      22               Yes   \n",
       "7040                2                 1           0       2                No   \n",
       "7041                2                 3           1      67                No   \n",
       "7042                1                 3           1      63  No phone service   \n",
       "\n",
       "      monthly_charges  total_charges churn  \n",
       "0               65.60         593.30    No  \n",
       "1               59.90         542.40    No  \n",
       "2               73.90         280.85   Yes  \n",
       "3               98.00        1237.85   Yes  \n",
       "4               83.90         267.40   Yes  \n",
       "...               ...            ...   ...  \n",
       "7038            55.15         742.90    No  \n",
       "7039            85.10        1873.70   Yes  \n",
       "7040            50.30          92.75    No  \n",
       "7041            67.85        4627.65    No  \n",
       "7042            59.00        3707.60    No  \n",
       "\n",
       "[7043 rows x 8 columns]"
      ]
     },
     "execution_count": 5,
     "metadata": {},
     "output_type": "execute_result"
    }
   ],
   "source": [
    "telco"
   ]
  },
  {
   "cell_type": "code",
   "execution_count": 6,
   "id": "9f514b8b",
   "metadata": {},
   "outputs": [
    {
     "data": {
      "text/html": [
       "<div>\n",
       "<style scoped>\n",
       "    .dataframe tbody tr th:only-of-type {\n",
       "        vertical-align: middle;\n",
       "    }\n",
       "\n",
       "    .dataframe tbody tr th {\n",
       "        vertical-align: top;\n",
       "    }\n",
       "\n",
       "    .dataframe thead th {\n",
       "        text-align: right;\n",
       "    }\n",
       "</style>\n",
       "<table border=\"1\" class=\"dataframe\">\n",
       "  <thead>\n",
       "    <tr style=\"text-align: right;\">\n",
       "      <th></th>\n",
       "      <th>payment_type_id</th>\n",
       "      <th>contract_type_id</th>\n",
       "      <th>dependents</th>\n",
       "      <th>tenure</th>\n",
       "      <th>multiple_lines</th>\n",
       "      <th>monthly_charges</th>\n",
       "      <th>total_charges</th>\n",
       "      <th>churn</th>\n",
       "    </tr>\n",
       "  </thead>\n",
       "  <tbody>\n",
       "    <tr>\n",
       "      <th>0</th>\n",
       "      <td>2</td>\n",
       "      <td>2</td>\n",
       "      <td>1</td>\n",
       "      <td>9</td>\n",
       "      <td>0</td>\n",
       "      <td>65.60</td>\n",
       "      <td>593.30</td>\n",
       "      <td>No</td>\n",
       "    </tr>\n",
       "    <tr>\n",
       "      <th>1</th>\n",
       "      <td>2</td>\n",
       "      <td>1</td>\n",
       "      <td>0</td>\n",
       "      <td>9</td>\n",
       "      <td>1</td>\n",
       "      <td>59.90</td>\n",
       "      <td>542.40</td>\n",
       "      <td>No</td>\n",
       "    </tr>\n",
       "    <tr>\n",
       "      <th>2</th>\n",
       "      <td>1</td>\n",
       "      <td>1</td>\n",
       "      <td>0</td>\n",
       "      <td>4</td>\n",
       "      <td>0</td>\n",
       "      <td>73.90</td>\n",
       "      <td>280.85</td>\n",
       "      <td>Yes</td>\n",
       "    </tr>\n",
       "    <tr>\n",
       "      <th>3</th>\n",
       "      <td>1</td>\n",
       "      <td>1</td>\n",
       "      <td>0</td>\n",
       "      <td>13</td>\n",
       "      <td>0</td>\n",
       "      <td>98.00</td>\n",
       "      <td>1237.85</td>\n",
       "      <td>Yes</td>\n",
       "    </tr>\n",
       "    <tr>\n",
       "      <th>4</th>\n",
       "      <td>2</td>\n",
       "      <td>1</td>\n",
       "      <td>0</td>\n",
       "      <td>3</td>\n",
       "      <td>0</td>\n",
       "      <td>83.90</td>\n",
       "      <td>267.40</td>\n",
       "      <td>Yes</td>\n",
       "    </tr>\n",
       "    <tr>\n",
       "      <th>...</th>\n",
       "      <td>...</td>\n",
       "      <td>...</td>\n",
       "      <td>...</td>\n",
       "      <td>...</td>\n",
       "      <td>...</td>\n",
       "      <td>...</td>\n",
       "      <td>...</td>\n",
       "      <td>...</td>\n",
       "    </tr>\n",
       "    <tr>\n",
       "      <th>7038</th>\n",
       "      <td>2</td>\n",
       "      <td>2</td>\n",
       "      <td>0</td>\n",
       "      <td>13</td>\n",
       "      <td>0</td>\n",
       "      <td>55.15</td>\n",
       "      <td>742.90</td>\n",
       "      <td>No</td>\n",
       "    </tr>\n",
       "    <tr>\n",
       "      <th>7039</th>\n",
       "      <td>1</td>\n",
       "      <td>1</td>\n",
       "      <td>0</td>\n",
       "      <td>22</td>\n",
       "      <td>1</td>\n",
       "      <td>85.10</td>\n",
       "      <td>1873.70</td>\n",
       "      <td>Yes</td>\n",
       "    </tr>\n",
       "    <tr>\n",
       "      <th>7040</th>\n",
       "      <td>2</td>\n",
       "      <td>1</td>\n",
       "      <td>0</td>\n",
       "      <td>2</td>\n",
       "      <td>0</td>\n",
       "      <td>50.30</td>\n",
       "      <td>92.75</td>\n",
       "      <td>No</td>\n",
       "    </tr>\n",
       "    <tr>\n",
       "      <th>7041</th>\n",
       "      <td>2</td>\n",
       "      <td>3</td>\n",
       "      <td>1</td>\n",
       "      <td>67</td>\n",
       "      <td>0</td>\n",
       "      <td>67.85</td>\n",
       "      <td>4627.65</td>\n",
       "      <td>No</td>\n",
       "    </tr>\n",
       "    <tr>\n",
       "      <th>7042</th>\n",
       "      <td>1</td>\n",
       "      <td>3</td>\n",
       "      <td>1</td>\n",
       "      <td>63</td>\n",
       "      <td>0</td>\n",
       "      <td>59.00</td>\n",
       "      <td>3707.60</td>\n",
       "      <td>No</td>\n",
       "    </tr>\n",
       "  </tbody>\n",
       "</table>\n",
       "<p>7043 rows × 8 columns</p>\n",
       "</div>"
      ],
      "text/plain": [
       "      payment_type_id  contract_type_id  dependents  tenure  multiple_lines  \\\n",
       "0                   2                 2           1       9               0   \n",
       "1                   2                 1           0       9               1   \n",
       "2                   1                 1           0       4               0   \n",
       "3                   1                 1           0      13               0   \n",
       "4                   2                 1           0       3               0   \n",
       "...               ...               ...         ...     ...             ...   \n",
       "7038                2                 2           0      13               0   \n",
       "7039                1                 1           0      22               1   \n",
       "7040                2                 1           0       2               0   \n",
       "7041                2                 3           1      67               0   \n",
       "7042                1                 3           1      63               0   \n",
       "\n",
       "      monthly_charges  total_charges churn  \n",
       "0               65.60         593.30    No  \n",
       "1               59.90         542.40    No  \n",
       "2               73.90         280.85   Yes  \n",
       "3               98.00        1237.85   Yes  \n",
       "4               83.90         267.40   Yes  \n",
       "...               ...            ...   ...  \n",
       "7038            55.15         742.90    No  \n",
       "7039            85.10        1873.70   Yes  \n",
       "7040            50.30          92.75    No  \n",
       "7041            67.85        4627.65    No  \n",
       "7042            59.00        3707.60    No  \n",
       "\n",
       "[7043 rows x 8 columns]"
      ]
     },
     "execution_count": 6,
     "metadata": {},
     "output_type": "execute_result"
    }
   ],
   "source": [
    "telco.multiple_lines = np.where(telco.multiple_lines == 'Yes', 1, 0)\n",
    "telco"
   ]
  },
  {
   "cell_type": "code",
   "execution_count": 7,
   "id": "5c523a9f",
   "metadata": {},
   "outputs": [],
   "source": [
    "train, validate, test, X_train, y_train, X_val, y_val, X_test, y_test = nl.train_vailidate_test_split(telco, 'churn')\n",
    "# Creating splits for the data using custom libraray function"
   ]
  },
  {
   "cell_type": "code",
   "execution_count": 8,
   "id": "edbf82dc",
   "metadata": {},
   "outputs": [
    {
     "data": {
      "text/plain": [
       "0.7347197565305605"
      ]
     },
     "execution_count": 8,
     "metadata": {},
     "output_type": "execute_result"
    }
   ],
   "source": [
    "baseline = len(train[train.churn == 'No'])/ len(train)\n",
    "baseline"
   ]
  },
  {
   "cell_type": "code",
   "execution_count": 9,
   "id": "f283985c",
   "metadata": {},
   "outputs": [
    {
     "name": "stdout",
     "output_type": "stream",
     "text": [
      "<class 'pandas.core.frame.DataFrame'>\n",
      "Int64Index: 3943 entries, 1320 to 1124\n",
      "Data columns (total 7 columns):\n",
      " #   Column            Non-Null Count  Dtype  \n",
      "---  ------            --------------  -----  \n",
      " 0   payment_type_id   3943 non-null   int64  \n",
      " 1   contract_type_id  3943 non-null   int64  \n",
      " 2   dependents        3943 non-null   int64  \n",
      " 3   tenure            3943 non-null   int64  \n",
      " 4   multiple_lines    3943 non-null   int64  \n",
      " 5   monthly_charges   3943 non-null   float64\n",
      " 6   total_charges     3943 non-null   float64\n",
      "dtypes: float64(2), int64(5)\n",
      "memory usage: 246.4 KB\n"
     ]
    }
   ],
   "source": [
    "X_train.info()"
   ]
  },
  {
   "cell_type": "code",
   "execution_count": 10,
   "id": "0e6f836a",
   "metadata": {},
   "outputs": [],
   "source": [
    "train_tree = DecisionTreeClassifier(max_depth=6, random_state=77)"
   ]
  },
  {
   "cell_type": "code",
   "execution_count": 11,
   "id": "228bacbb",
   "metadata": {},
   "outputs": [
    {
     "data": {
      "text/html": [
       "<style>#sk-container-id-1 {color: black;background-color: white;}#sk-container-id-1 pre{padding: 0;}#sk-container-id-1 div.sk-toggleable {background-color: white;}#sk-container-id-1 label.sk-toggleable__label {cursor: pointer;display: block;width: 100%;margin-bottom: 0;padding: 0.3em;box-sizing: border-box;text-align: center;}#sk-container-id-1 label.sk-toggleable__label-arrow:before {content: \"▸\";float: left;margin-right: 0.25em;color: #696969;}#sk-container-id-1 label.sk-toggleable__label-arrow:hover:before {color: black;}#sk-container-id-1 div.sk-estimator:hover label.sk-toggleable__label-arrow:before {color: black;}#sk-container-id-1 div.sk-toggleable__content {max-height: 0;max-width: 0;overflow: hidden;text-align: left;background-color: #f0f8ff;}#sk-container-id-1 div.sk-toggleable__content pre {margin: 0.2em;color: black;border-radius: 0.25em;background-color: #f0f8ff;}#sk-container-id-1 input.sk-toggleable__control:checked~div.sk-toggleable__content {max-height: 200px;max-width: 100%;overflow: auto;}#sk-container-id-1 input.sk-toggleable__control:checked~label.sk-toggleable__label-arrow:before {content: \"▾\";}#sk-container-id-1 div.sk-estimator input.sk-toggleable__control:checked~label.sk-toggleable__label {background-color: #d4ebff;}#sk-container-id-1 div.sk-label input.sk-toggleable__control:checked~label.sk-toggleable__label {background-color: #d4ebff;}#sk-container-id-1 input.sk-hidden--visually {border: 0;clip: rect(1px 1px 1px 1px);clip: rect(1px, 1px, 1px, 1px);height: 1px;margin: -1px;overflow: hidden;padding: 0;position: absolute;width: 1px;}#sk-container-id-1 div.sk-estimator {font-family: monospace;background-color: #f0f8ff;border: 1px dotted black;border-radius: 0.25em;box-sizing: border-box;margin-bottom: 0.5em;}#sk-container-id-1 div.sk-estimator:hover {background-color: #d4ebff;}#sk-container-id-1 div.sk-parallel-item::after {content: \"\";width: 100%;border-bottom: 1px solid gray;flex-grow: 1;}#sk-container-id-1 div.sk-label:hover label.sk-toggleable__label {background-color: #d4ebff;}#sk-container-id-1 div.sk-serial::before {content: \"\";position: absolute;border-left: 1px solid gray;box-sizing: border-box;top: 0;bottom: 0;left: 50%;z-index: 0;}#sk-container-id-1 div.sk-serial {display: flex;flex-direction: column;align-items: center;background-color: white;padding-right: 0.2em;padding-left: 0.2em;position: relative;}#sk-container-id-1 div.sk-item {position: relative;z-index: 1;}#sk-container-id-1 div.sk-parallel {display: flex;align-items: stretch;justify-content: center;background-color: white;position: relative;}#sk-container-id-1 div.sk-item::before, #sk-container-id-1 div.sk-parallel-item::before {content: \"\";position: absolute;border-left: 1px solid gray;box-sizing: border-box;top: 0;bottom: 0;left: 50%;z-index: -1;}#sk-container-id-1 div.sk-parallel-item {display: flex;flex-direction: column;z-index: 1;position: relative;background-color: white;}#sk-container-id-1 div.sk-parallel-item:first-child::after {align-self: flex-end;width: 50%;}#sk-container-id-1 div.sk-parallel-item:last-child::after {align-self: flex-start;width: 50%;}#sk-container-id-1 div.sk-parallel-item:only-child::after {width: 0;}#sk-container-id-1 div.sk-dashed-wrapped {border: 1px dashed gray;margin: 0 0.4em 0.5em 0.4em;box-sizing: border-box;padding-bottom: 0.4em;background-color: white;}#sk-container-id-1 div.sk-label label {font-family: monospace;font-weight: bold;display: inline-block;line-height: 1.2em;}#sk-container-id-1 div.sk-label-container {text-align: center;}#sk-container-id-1 div.sk-container {/* jupyter's `normalize.less` sets `[hidden] { display: none; }` but bootstrap.min.css set `[hidden] { display: none !important; }` so we also need the `!important` here to be able to override the default hidden behavior on the sphinx rendered scikit-learn.org. See: https://github.com/scikit-learn/scikit-learn/issues/21755 */display: inline-block !important;position: relative;}#sk-container-id-1 div.sk-text-repr-fallback {display: none;}</style><div id=\"sk-container-id-1\" class=\"sk-top-container\"><div class=\"sk-text-repr-fallback\"><pre>DecisionTreeClassifier(max_depth=6, random_state=77)</pre><b>In a Jupyter environment, please rerun this cell to show the HTML representation or trust the notebook. <br />On GitHub, the HTML representation is unable to render, please try loading this page with nbviewer.org.</b></div><div class=\"sk-container\" hidden><div class=\"sk-item\"><div class=\"sk-estimator sk-toggleable\"><input class=\"sk-toggleable__control sk-hidden--visually\" id=\"sk-estimator-id-1\" type=\"checkbox\" checked><label for=\"sk-estimator-id-1\" class=\"sk-toggleable__label sk-toggleable__label-arrow\">DecisionTreeClassifier</label><div class=\"sk-toggleable__content\"><pre>DecisionTreeClassifier(max_depth=6, random_state=77)</pre></div></div></div></div></div>"
      ],
      "text/plain": [
       "DecisionTreeClassifier(max_depth=6, random_state=77)"
      ]
     },
     "execution_count": 11,
     "metadata": {},
     "output_type": "execute_result"
    }
   ],
   "source": [
    "train_tree = train_tree.fit(X_train, y_train)\n",
    "train_tree"
   ]
  },
  {
   "cell_type": "code",
   "execution_count": 12,
   "id": "149844ba",
   "metadata": {},
   "outputs": [
    {
     "data": {
      "text/plain": [
       "[Text(0.561875, 0.9285714285714286, 'contract_type_id <= 1.5\\ngini = 0.39\\nsamples = 3943\\nvalue = [2897, 1046]\\nclass = No'),\n",
       " Text(0.29125, 0.7857142857142857, 'monthly_charges <= 67.6\\ngini = 0.49\\nsamples = 2173\\nvalue = [1240, 933]\\nclass = No'),\n",
       " Text(0.1425, 0.6428571428571429, 'tenure <= 4.5\\ngini = 0.415\\nsamples = 899\\nvalue = [635, 264]\\nclass = No'),\n",
       " Text(0.08, 0.5, 'monthly_charges <= 22.275\\ngini = 0.495\\nsamples = 350\\nvalue = [193, 157]\\nclass = No'),\n",
       " Text(0.04, 0.35714285714285715, 'total_charges <= 37.0\\ngini = 0.413\\nsamples = 127\\nvalue = [90, 37]\\nclass = No'),\n",
       " Text(0.02, 0.21428571428571427, 'total_charges <= 20.1\\ngini = 0.472\\nsamples = 84\\nvalue = [52, 32]\\nclass = No'),\n",
       " Text(0.01, 0.07142857142857142, 'gini = 0.408\\nsamples = 42\\nvalue = [30, 12]\\nclass = No'),\n",
       " Text(0.03, 0.07142857142857142, 'gini = 0.499\\nsamples = 42\\nvalue = [22, 20]\\nclass = No'),\n",
       " Text(0.06, 0.21428571428571427, 'monthly_charges <= 20.9\\ngini = 0.206\\nsamples = 43\\nvalue = [38, 5]\\nclass = No'),\n",
       " Text(0.05, 0.07142857142857142, 'gini = 0.172\\nsamples = 42\\nvalue = [38, 4]\\nclass = No'),\n",
       " Text(0.07, 0.07142857142857142, 'gini = 0.0\\nsamples = 1\\nvalue = [0, 1]\\nclass = Yes'),\n",
       " Text(0.12, 0.35714285714285715, 'total_charges <= 201.675\\ngini = 0.497\\nsamples = 223\\nvalue = [103, 120]\\nclass = Yes'),\n",
       " Text(0.1, 0.21428571428571427, 'total_charges <= 81.7\\ngini = 0.492\\nsamples = 206\\nvalue = [90, 116]\\nclass = Yes'),\n",
       " Text(0.09, 0.07142857142857142, 'gini = 0.478\\nsamples = 134\\nvalue = [53, 81]\\nclass = Yes'),\n",
       " Text(0.11, 0.07142857142857142, 'gini = 0.5\\nsamples = 72\\nvalue = [37, 35]\\nclass = No'),\n",
       " Text(0.14, 0.21428571428571427, 'total_charges <= 262.575\\ngini = 0.36\\nsamples = 17\\nvalue = [13, 4]\\nclass = No'),\n",
       " Text(0.13, 0.07142857142857142, 'gini = 0.305\\nsamples = 16\\nvalue = [13, 3]\\nclass = No'),\n",
       " Text(0.15, 0.07142857142857142, 'gini = 0.0\\nsamples = 1\\nvalue = [0, 1]\\nclass = Yes'),\n",
       " Text(0.205, 0.5, 'payment_type_id <= 1.5\\ngini = 0.314\\nsamples = 549\\nvalue = [442, 107]\\nclass = No'),\n",
       " Text(0.17, 0.35714285714285715, 'total_charges <= 140.05\\ngini = 0.413\\nsamples = 165\\nvalue = [117, 48]\\nclass = No'),\n",
       " Text(0.16, 0.21428571428571427, 'gini = 0.0\\nsamples = 3\\nvalue = [0, 3]\\nclass = Yes'),\n",
       " Text(0.18, 0.21428571428571427, 'monthly_charges <= 29.25\\ngini = 0.401\\nsamples = 162\\nvalue = [117, 45]\\nclass = No'),\n",
       " Text(0.17, 0.07142857142857142, 'gini = 0.083\\nsamples = 23\\nvalue = [22, 1]\\nclass = No'),\n",
       " Text(0.19, 0.07142857142857142, 'gini = 0.433\\nsamples = 139\\nvalue = [95, 44]\\nclass = No'),\n",
       " Text(0.24, 0.35714285714285715, 'monthly_charges <= 25.325\\ngini = 0.26\\nsamples = 384\\nvalue = [325, 59]\\nclass = No'),\n",
       " Text(0.22, 0.21428571428571427, 'tenure <= 58.0\\ngini = 0.168\\nsamples = 130\\nvalue = [118, 12]\\nclass = No'),\n",
       " Text(0.21, 0.07142857142857142, 'gini = 0.156\\nsamples = 129\\nvalue = [118, 11]\\nclass = No'),\n",
       " Text(0.23, 0.07142857142857142, 'gini = 0.0\\nsamples = 1\\nvalue = [0, 1]\\nclass = Yes'),\n",
       " Text(0.26, 0.21428571428571427, 'total_charges <= 1455.125\\ngini = 0.302\\nsamples = 254\\nvalue = [207, 47]\\nclass = No'),\n",
       " Text(0.25, 0.07142857142857142, 'gini = 0.343\\nsamples = 182\\nvalue = [142, 40]\\nclass = No'),\n",
       " Text(0.27, 0.07142857142857142, 'gini = 0.176\\nsamples = 72\\nvalue = [65, 7]\\nclass = No'),\n",
       " Text(0.44, 0.6428571428571429, 'tenure <= 14.5\\ngini = 0.499\\nsamples = 1274\\nvalue = [605, 669]\\nclass = Yes'),\n",
       " Text(0.36, 0.5, 'total_charges <= 120.0\\ngini = 0.436\\nsamples = 576\\nvalue = [185, 391]\\nclass = Yes'),\n",
       " Text(0.32, 0.35714285714285715, 'total_charges <= 75.2\\ngini = 0.26\\nsamples = 137\\nvalue = [21, 116]\\nclass = Yes'),\n",
       " Text(0.3, 0.21428571428571427, 'monthly_charges <= 69.875\\ngini = 0.344\\nsamples = 68\\nvalue = [15, 53]\\nclass = Yes'),\n",
       " Text(0.29, 0.07142857142857142, 'gini = 0.0\\nsamples = 16\\nvalue = [0, 16]\\nclass = Yes'),\n",
       " Text(0.31, 0.07142857142857142, 'gini = 0.411\\nsamples = 52\\nvalue = [15, 37]\\nclass = Yes'),\n",
       " Text(0.34, 0.21428571428571427, 'monthly_charges <= 80.525\\ngini = 0.159\\nsamples = 69\\nvalue = [6, 63]\\nclass = Yes'),\n",
       " Text(0.33, 0.07142857142857142, 'gini = 0.0\\nsamples = 28\\nvalue = [0, 28]\\nclass = Yes'),\n",
       " Text(0.35, 0.07142857142857142, 'gini = 0.25\\nsamples = 41\\nvalue = [6, 35]\\nclass = Yes'),\n",
       " Text(0.4, 0.35714285714285715, 'monthly_charges <= 80.55\\ngini = 0.468\\nsamples = 439\\nvalue = [164, 275]\\nclass = Yes'),\n",
       " Text(0.38, 0.21428571428571427, 'total_charges <= 553.175\\ngini = 0.499\\nsamples = 230\\nvalue = [109, 121]\\nclass = Yes'),\n",
       " Text(0.37, 0.07142857142857142, 'gini = 0.484\\nsamples = 149\\nvalue = [61, 88]\\nclass = Yes'),\n",
       " Text(0.39, 0.07142857142857142, 'gini = 0.483\\nsamples = 81\\nvalue = [48, 33]\\nclass = No'),\n",
       " Text(0.42, 0.21428571428571427, 'monthly_charges <= 94.15\\ngini = 0.388\\nsamples = 209\\nvalue = [55, 154]\\nclass = Yes'),\n",
       " Text(0.41, 0.07142857142857142, 'gini = 0.439\\nsamples = 135\\nvalue = [44, 91]\\nclass = Yes'),\n",
       " Text(0.43, 0.07142857142857142, 'gini = 0.253\\nsamples = 74\\nvalue = [11, 63]\\nclass = Yes'),\n",
       " Text(0.52, 0.5, 'tenure <= 54.5\\ngini = 0.479\\nsamples = 698\\nvalue = [420, 278]\\nclass = No'),\n",
       " Text(0.48, 0.35714285714285715, 'payment_type_id <= 1.5\\ngini = 0.492\\nsamples = 593\\nvalue = [335, 258]\\nclass = No'),\n",
       " Text(0.46, 0.21428571428571427, 'total_charges <= 3201.5\\ngini = 0.5\\nsamples = 323\\nvalue = [160, 163]\\nclass = Yes'),\n",
       " Text(0.45, 0.07142857142857142, 'gini = 0.495\\nsamples = 215\\nvalue = [97, 118]\\nclass = Yes'),\n",
       " Text(0.47, 0.07142857142857142, 'gini = 0.486\\nsamples = 108\\nvalue = [63, 45]\\nclass = No'),\n",
       " Text(0.5, 0.21428571428571427, 'monthly_charges <= 102.8\\ngini = 0.456\\nsamples = 270\\nvalue = [175, 95]\\nclass = No'),\n",
       " Text(0.49, 0.07142857142857142, 'gini = 0.444\\nsamples = 244\\nvalue = [163, 81]\\nclass = No'),\n",
       " Text(0.51, 0.07142857142857142, 'gini = 0.497\\nsamples = 26\\nvalue = [12, 14]\\nclass = Yes'),\n",
       " Text(0.56, 0.35714285714285715, 'monthly_charges <= 99.425\\ngini = 0.308\\nsamples = 105\\nvalue = [85, 20]\\nclass = No'),\n",
       " Text(0.54, 0.21428571428571427, 'tenure <= 55.5\\ngini = 0.148\\nsamples = 62\\nvalue = [57, 5]\\nclass = No'),\n",
       " Text(0.53, 0.07142857142857142, 'gini = 0.42\\nsamples = 10\\nvalue = [7, 3]\\nclass = No'),\n",
       " Text(0.55, 0.07142857142857142, 'gini = 0.074\\nsamples = 52\\nvalue = [50, 2]\\nclass = No'),\n",
       " Text(0.58, 0.21428571428571427, 'tenure <= 64.5\\ngini = 0.454\\nsamples = 43\\nvalue = [28, 15]\\nclass = No'),\n",
       " Text(0.57, 0.07142857142857142, 'gini = 0.355\\nsamples = 26\\nvalue = [20, 6]\\nclass = No'),\n",
       " Text(0.59, 0.07142857142857142, 'gini = 0.498\\nsamples = 17\\nvalue = [8, 9]\\nclass = Yes'),\n",
       " Text(0.8325, 0.7857142857142857, 'monthly_charges <= 92.375\\ngini = 0.12\\nsamples = 1770\\nvalue = [1657, 113]\\nclass = No'),\n",
       " Text(0.735, 0.6428571428571429, 'contract_type_id <= 2.5\\ngini = 0.07\\nsamples = 1324\\nvalue = [1276, 48]\\nclass = No'),\n",
       " Text(0.68, 0.5, 'monthly_charges <= 25.25\\ngini = 0.121\\nsamples = 616\\nvalue = [576, 40]\\nclass = No'),\n",
       " Text(0.64, 0.35714285714285715, 'payment_type_id <= 1.5\\ngini = 0.028\\nsamples = 210\\nvalue = [207, 3]\\nclass = No'),\n",
       " Text(0.62, 0.21428571428571427, 'tenure <= 44.5\\ngini = 0.091\\nsamples = 21\\nvalue = [20, 1]\\nclass = No'),\n",
       " Text(0.61, 0.07142857142857142, 'gini = 0.0\\nsamples = 12\\nvalue = [12, 0]\\nclass = No'),\n",
       " Text(0.63, 0.07142857142857142, 'gini = 0.198\\nsamples = 9\\nvalue = [8, 1]\\nclass = No'),\n",
       " Text(0.66, 0.21428571428571427, 'tenure <= 18.5\\ngini = 0.021\\nsamples = 189\\nvalue = [187, 2]\\nclass = No'),\n",
       " Text(0.65, 0.07142857142857142, 'gini = 0.056\\nsamples = 70\\nvalue = [68, 2]\\nclass = No'),\n",
       " Text(0.67, 0.07142857142857142, 'gini = 0.0\\nsamples = 119\\nvalue = [119, 0]\\nclass = No'),\n",
       " Text(0.72, 0.35714285714285715, 'tenure <= 48.5\\ngini = 0.166\\nsamples = 406\\nvalue = [369, 37]\\nclass = No'),\n",
       " Text(0.7, 0.21428571428571427, 'monthly_charges <= 25.375\\ngini = 0.221\\nsamples = 253\\nvalue = [221, 32]\\nclass = No'),\n",
       " Text(0.69, 0.07142857142857142, 'gini = 0.0\\nsamples = 1\\nvalue = [0, 1]\\nclass = Yes'),\n",
       " Text(0.71, 0.07142857142857142, 'gini = 0.216\\nsamples = 252\\nvalue = [221, 31]\\nclass = No'),\n",
       " Text(0.74, 0.21428571428571427, 'total_charges <= 5343.0\\ngini = 0.063\\nsamples = 153\\nvalue = [148, 5]\\nclass = No'),\n",
       " Text(0.73, 0.07142857142857142, 'gini = 0.03\\nsamples = 130\\nvalue = [128, 2]\\nclass = No'),\n",
       " Text(0.75, 0.07142857142857142, 'gini = 0.227\\nsamples = 23\\nvalue = [20, 3]\\nclass = No'),\n",
       " Text(0.79, 0.5, 'payment_type_id <= 1.5\\ngini = 0.022\\nsamples = 708\\nvalue = [700, 8]\\nclass = No'),\n",
       " Text(0.77, 0.35714285714285715, 'total_charges <= 3136.975\\ngini = 0.159\\nsamples = 46\\nvalue = [42, 4]\\nclass = No'),\n",
       " Text(0.76, 0.21428571428571427, 'gini = 0.0\\nsamples = 19\\nvalue = [19, 0]\\nclass = No'),\n",
       " Text(0.78, 0.21428571428571427, 'total_charges <= 3205.95\\ngini = 0.252\\nsamples = 27\\nvalue = [23, 4]\\nclass = No'),\n",
       " Text(0.77, 0.07142857142857142, 'gini = 0.444\\nsamples = 3\\nvalue = [1, 2]\\nclass = Yes'),\n",
       " Text(0.79, 0.07142857142857142, 'gini = 0.153\\nsamples = 24\\nvalue = [22, 2]\\nclass = No'),\n",
       " Text(0.81, 0.35714285714285715, 'total_charges <= 3042.475\\ngini = 0.012\\nsamples = 662\\nvalue = [658, 4]\\nclass = No'),\n",
       " Text(0.8, 0.21428571428571427, 'gini = 0.0\\nsamples = 401\\nvalue = [401, 0]\\nclass = No'),\n",
       " Text(0.82, 0.21428571428571427, 'total_charges <= 3046.775\\ngini = 0.03\\nsamples = 261\\nvalue = [257, 4]\\nclass = No'),\n",
       " Text(0.81, 0.07142857142857142, 'gini = 0.0\\nsamples = 1\\nvalue = [0, 1]\\nclass = Yes'),\n",
       " Text(0.83, 0.07142857142857142, 'gini = 0.023\\nsamples = 260\\nvalue = [257, 3]\\nclass = No'),\n",
       " Text(0.93, 0.6428571428571429, 'total_charges <= 6586.1\\ngini = 0.249\\nsamples = 446\\nvalue = [381, 65]\\nclass = No'),\n",
       " Text(0.89, 0.5, 'tenure <= 19.5\\ngini = 0.339\\nsamples = 217\\nvalue = [170, 47]\\nclass = No'),\n",
       " Text(0.87, 0.35714285714285715, 'payment_type_id <= 3.5\\ngini = 0.469\\nsamples = 8\\nvalue = [3, 5]\\nclass = Yes'),\n",
       " Text(0.86, 0.21428571428571427, 'payment_type_id <= 1.5\\ngini = 0.408\\nsamples = 7\\nvalue = [2, 5]\\nclass = Yes'),\n",
       " Text(0.85, 0.07142857142857142, 'gini = 0.5\\nsamples = 4\\nvalue = [2, 2]\\nclass = No'),\n",
       " Text(0.87, 0.07142857142857142, 'gini = 0.0\\nsamples = 3\\nvalue = [0, 3]\\nclass = Yes'),\n",
       " Text(0.88, 0.21428571428571427, 'gini = 0.0\\nsamples = 1\\nvalue = [1, 0]\\nclass = No'),\n",
       " Text(0.91, 0.35714285714285715, 'total_charges <= 6569.825\\ngini = 0.321\\nsamples = 209\\nvalue = [167, 42]\\nclass = No'),\n",
       " Text(0.9, 0.21428571428571427, 'monthly_charges <= 104.525\\ngini = 0.312\\nsamples = 207\\nvalue = [167, 40]\\nclass = No'),\n",
       " Text(0.89, 0.07142857142857142, 'gini = 0.248\\nsamples = 145\\nvalue = [124, 21]\\nclass = No'),\n",
       " Text(0.91, 0.07142857142857142, 'gini = 0.425\\nsamples = 62\\nvalue = [43, 19]\\nclass = No'),\n",
       " Text(0.92, 0.21428571428571427, 'gini = 0.0\\nsamples = 2\\nvalue = [0, 2]\\nclass = Yes'),\n",
       " Text(0.97, 0.5, 'total_charges <= 8678.625\\ngini = 0.145\\nsamples = 229\\nvalue = [211, 18]\\nclass = No'),\n",
       " Text(0.96, 0.35714285714285715, 'tenure <= 70.5\\ngini = 0.138\\nsamples = 228\\nvalue = [211, 17]\\nclass = No'),\n",
       " Text(0.94, 0.21428571428571427, 'monthly_charges <= 116.1\\ngini = 0.232\\nsamples = 112\\nvalue = [97, 15]\\nclass = No'),\n",
       " Text(0.93, 0.07142857142857142, 'gini = 0.22\\nsamples = 111\\nvalue = [97, 14]\\nclass = No'),\n",
       " Text(0.95, 0.07142857142857142, 'gini = 0.0\\nsamples = 1\\nvalue = [0, 1]\\nclass = Yes'),\n",
       " Text(0.98, 0.21428571428571427, 'monthly_charges <= 106.05\\ngini = 0.034\\nsamples = 116\\nvalue = [114, 2]\\nclass = No'),\n",
       " Text(0.97, 0.07142857142857142, 'gini = 0.097\\nsamples = 39\\nvalue = [37, 2]\\nclass = No'),\n",
       " Text(0.99, 0.07142857142857142, 'gini = 0.0\\nsamples = 77\\nvalue = [77, 0]\\nclass = No'),\n",
       " Text(0.98, 0.35714285714285715, 'gini = 0.0\\nsamples = 1\\nvalue = [0, 1]\\nclass = Yes')]"
      ]
     },
     "execution_count": 12,
     "metadata": {},
     "output_type": "execute_result"
    },
    {
     "data": {
      "image/png": "[encoded data removed]",
      "text/plain": [
       "<Figure size 1300x700 with 1 Axes>"
      ]
     },
     "metadata": {},
     "output_type": "display_data"
    }
   ],
   "source": [
    "plt.figure(figsize=(13, 7))\n",
    "plot_tree(train_tree, feature_names=X_train.columns, class_names=train_tree.classes_, rounded=True)\n"
   ]
  },
  {
   "cell_type": "code",
   "execution_count": 13,
   "id": "79078f7b",
   "metadata": {},
   "outputs": [
    {
     "data": {
      "text/plain": [
       "array(['No', 'No', 'No', 'No', 'No', 'No', 'No'], dtype=object)"
      ]
     },
     "execution_count": 13,
     "metadata": {},
     "output_type": "execute_result"
    }
   ],
   "source": [
    "# make prediction on train obeservations\n",
    "\n",
    "y_pred = train_tree.predict(X_train)\n",
    "y_pred[0:7]\n"
   ]
  },
  {
   "cell_type": "code",
   "execution_count": 14,
   "id": "4737a772",
   "metadata": {},
   "outputs": [
    {
     "data": {
      "text/plain": [
       "array([[0.52380952, 0.47619048],\n",
       "       [0.9047619 , 0.0952381 ],\n",
       "       [0.90277778, 0.09722222],\n",
       "       [1.        , 0.        ],\n",
       "       [0.98846154, 0.01153846],\n",
       "       [0.66803279, 0.33196721],\n",
       "       [1.        , 0.        ]])"
      ]
     },
     "execution_count": 14,
     "metadata": {},
     "output_type": "execute_result"
    }
   ],
   "source": [
    "y_pred_proba = train_tree.predict_proba(X_train)\n",
    "y_pred_proba[0:7]\n"
   ]
  },
  {
   "cell_type": "code",
   "execution_count": 15,
   "id": "c911495a",
   "metadata": {},
   "outputs": [
    {
     "data": {
      "text/plain": [
       "0.8080142023839716"
      ]
     },
     "execution_count": 15,
     "metadata": {},
     "output_type": "execute_result"
    }
   ],
   "source": [
    "train_tree.score(X_train, y_train)"
   ]
  },
  {
   "cell_type": "code",
   "execution_count": 16,
   "id": "227908d8",
   "metadata": {},
   "outputs": [
    {
     "data": {
      "text/plain": [
       "array([[2589,  308],\n",
       "       [ 449,  597]])"
      ]
     },
     "execution_count": 16,
     "metadata": {},
     "output_type": "execute_result"
    }
   ],
   "source": [
    "# confusion matrix\n",
    "\n",
    "confusion_matrix(y_train, y_pred)\n"
   ]
  },
  {
   "cell_type": "code",
   "execution_count": 17,
   "id": "d1ccf775",
   "metadata": {},
   "outputs": [
    {
     "data": {
      "text/html": [
       "<div>\n",
       "<style scoped>\n",
       "    .dataframe tbody tr th:only-of-type {\n",
       "        vertical-align: middle;\n",
       "    }\n",
       "\n",
       "    .dataframe tbody tr th {\n",
       "        vertical-align: top;\n",
       "    }\n",
       "\n",
       "    .dataframe thead th {\n",
       "        text-align: right;\n",
       "    }\n",
       "</style>\n",
       "<table border=\"1\" class=\"dataframe\">\n",
       "  <thead>\n",
       "    <tr style=\"text-align: right;\">\n",
       "      <th></th>\n",
       "      <th>No</th>\n",
       "      <th>Yes</th>\n",
       "    </tr>\n",
       "  </thead>\n",
       "  <tbody>\n",
       "    <tr>\n",
       "      <th>No</th>\n",
       "      <td>2589</td>\n",
       "      <td>308</td>\n",
       "    </tr>\n",
       "    <tr>\n",
       "      <th>Yes</th>\n",
       "      <td>449</td>\n",
       "      <td>597</td>\n",
       "    </tr>\n",
       "  </tbody>\n",
       "</table>\n",
       "</div>"
      ],
      "text/plain": [
       "       No  Yes\n",
       "No   2589  308\n",
       "Yes   449  597"
      ]
     },
     "execution_count": 17,
     "metadata": {},
     "output_type": "execute_result"
    }
   ],
   "source": [
    "labels = sorted(y_train.unique())\n",
    "pd.DataFrame(confusion_matrix(y_train, y_pred), index=labels, columns=labels)"
   ]
  },
  {
   "cell_type": "code",
   "execution_count": 18,
   "id": "cb698a01",
   "metadata": {},
   "outputs": [
    {
     "name": "stdout",
     "output_type": "stream",
     "text": [
      "              precision    recall  f1-score   support\n",
      "\n",
      "          No       0.85      0.89      0.87      2897\n",
      "         Yes       0.66      0.57      0.61      1046\n",
      "\n",
      "    accuracy                           0.81      3943\n",
      "   macro avg       0.76      0.73      0.74      3943\n",
      "weighted avg       0.80      0.81      0.80      3943\n",
      "\n"
     ]
    }
   ],
   "source": [
    "print(classification_report(y_train, y_pred))"
   ]
  },
  {
   "cell_type": "code",
   "execution_count": 19,
   "id": "2fc448b2",
   "metadata": {},
   "outputs": [
    {
     "data": {
      "text/plain": [
       "0.7965700768775872"
      ]
     },
     "execution_count": 19,
     "metadata": {},
     "output_type": "execute_result"
    }
   ],
   "source": [
    "train_tree.score(X_val, y_val)"
   ]
  },
  {
   "cell_type": "code",
   "execution_count": 20,
   "id": "e5d58bcb",
   "metadata": {},
   "outputs": [
    {
     "name": "stdout",
     "output_type": "stream",
     "text": [
      "              precision    recall  f1-score   support\n",
      "\n",
      "          No       0.84      0.89      0.87      1242\n",
      "         Yes       0.64      0.54      0.59       449\n",
      "\n",
      "    accuracy                           0.80      1691\n",
      "   macro avg       0.74      0.72      0.73      1691\n",
      "weighted avg       0.79      0.80      0.79      1691\n",
      "\n"
     ]
    }
   ],
   "source": [
    "y_pred = train_tree.predict(X_val)\n",
    "print(classification_report(y_val, y_pred))"
   ]
  },
  {
   "cell_type": "code",
   "execution_count": 21,
   "id": "a9551dd2",
   "metadata": {},
   "outputs": [],
   "source": [
    "rf = RandomForestClassifier(bootstrap=True, \n",
    "                            class_weight=None, \n",
    "                            criterion='gini',\n",
    "                            min_samples_leaf=3,\n",
    "                            n_estimators=100,\n",
    "                            max_depth=6, \n",
    "                            random_state=77)\n"
   ]
  },
  {
   "cell_type": "code",
   "execution_count": 22,
   "id": "023de91f",
   "metadata": {},
   "outputs": [
    {
     "data": {
      "text/html": [
       "<style>#sk-container-id-2 {color: black;background-color: white;}#sk-container-id-2 pre{padding: 0;}#sk-container-id-2 div.sk-toggleable {background-color: white;}#sk-container-id-2 label.sk-toggleable__label {cursor: pointer;display: block;width: 100%;margin-bottom: 0;padding: 0.3em;box-sizing: border-box;text-align: center;}#sk-container-id-2 label.sk-toggleable__label-arrow:before {content: \"▸\";float: left;margin-right: 0.25em;color: #696969;}#sk-container-id-2 label.sk-toggleable__label-arrow:hover:before {color: black;}#sk-container-id-2 div.sk-estimator:hover label.sk-toggleable__label-arrow:before {color: black;}#sk-container-id-2 div.sk-toggleable__content {max-height: 0;max-width: 0;overflow: hidden;text-align: left;background-color: #f0f8ff;}#sk-container-id-2 div.sk-toggleable__content pre {margin: 0.2em;color: black;border-radius: 0.25em;background-color: #f0f8ff;}#sk-container-id-2 input.sk-toggleable__control:checked~div.sk-toggleable__content {max-height: 200px;max-width: 100%;overflow: auto;}#sk-container-id-2 input.sk-toggleable__control:checked~label.sk-toggleable__label-arrow:before {content: \"▾\";}#sk-container-id-2 div.sk-estimator input.sk-toggleable__control:checked~label.sk-toggleable__label {background-color: #d4ebff;}#sk-container-id-2 div.sk-label input.sk-toggleable__control:checked~label.sk-toggleable__label {background-color: #d4ebff;}#sk-container-id-2 input.sk-hidden--visually {border: 0;clip: rect(1px 1px 1px 1px);clip: rect(1px, 1px, 1px, 1px);height: 1px;margin: -1px;overflow: hidden;padding: 0;position: absolute;width: 1px;}#sk-container-id-2 div.sk-estimator {font-family: monospace;background-color: #f0f8ff;border: 1px dotted black;border-radius: 0.25em;box-sizing: border-box;margin-bottom: 0.5em;}#sk-container-id-2 div.sk-estimator:hover {background-color: #d4ebff;}#sk-container-id-2 div.sk-parallel-item::after {content: \"\";width: 100%;border-bottom: 1px solid gray;flex-grow: 1;}#sk-container-id-2 div.sk-label:hover label.sk-toggleable__label {background-color: #d4ebff;}#sk-container-id-2 div.sk-serial::before {content: \"\";position: absolute;border-left: 1px solid gray;box-sizing: border-box;top: 0;bottom: 0;left: 50%;z-index: 0;}#sk-container-id-2 div.sk-serial {display: flex;flex-direction: column;align-items: center;background-color: white;padding-right: 0.2em;padding-left: 0.2em;position: relative;}#sk-container-id-2 div.sk-item {position: relative;z-index: 1;}#sk-container-id-2 div.sk-parallel {display: flex;align-items: stretch;justify-content: center;background-color: white;position: relative;}#sk-container-id-2 div.sk-item::before, #sk-container-id-2 div.sk-parallel-item::before {content: \"\";position: absolute;border-left: 1px solid gray;box-sizing: border-box;top: 0;bottom: 0;left: 50%;z-index: -1;}#sk-container-id-2 div.sk-parallel-item {display: flex;flex-direction: column;z-index: 1;position: relative;background-color: white;}#sk-container-id-2 div.sk-parallel-item:first-child::after {align-self: flex-end;width: 50%;}#sk-container-id-2 div.sk-parallel-item:last-child::after {align-self: flex-start;width: 50%;}#sk-container-id-2 div.sk-parallel-item:only-child::after {width: 0;}#sk-container-id-2 div.sk-dashed-wrapped {border: 1px dashed gray;margin: 0 0.4em 0.5em 0.4em;box-sizing: border-box;padding-bottom: 0.4em;background-color: white;}#sk-container-id-2 div.sk-label label {font-family: monospace;font-weight: bold;display: inline-block;line-height: 1.2em;}#sk-container-id-2 div.sk-label-container {text-align: center;}#sk-container-id-2 div.sk-container {/* jupyter's `normalize.less` sets `[hidden] { display: none; }` but bootstrap.min.css set `[hidden] { display: none !important; }` so we also need the `!important` here to be able to override the default hidden behavior on the sphinx rendered scikit-learn.org. See: https://github.com/scikit-learn/scikit-learn/issues/21755 */display: inline-block !important;position: relative;}#sk-container-id-2 div.sk-text-repr-fallback {display: none;}</style><div id=\"sk-container-id-2\" class=\"sk-top-container\"><div class=\"sk-text-repr-fallback\"><pre>RandomForestClassifier(max_depth=6, min_samples_leaf=3, random_state=77)</pre><b>In a Jupyter environment, please rerun this cell to show the HTML representation or trust the notebook. <br />On GitHub, the HTML representation is unable to render, please try loading this page with nbviewer.org.</b></div><div class=\"sk-container\" hidden><div class=\"sk-item\"><div class=\"sk-estimator sk-toggleable\"><input class=\"sk-toggleable__control sk-hidden--visually\" id=\"sk-estimator-id-2\" type=\"checkbox\" checked><label for=\"sk-estimator-id-2\" class=\"sk-toggleable__label sk-toggleable__label-arrow\">RandomForestClassifier</label><div class=\"sk-toggleable__content\"><pre>RandomForestClassifier(max_depth=6, min_samples_leaf=3, random_state=77)</pre></div></div></div></div></div>"
      ],
      "text/plain": [
       "RandomForestClassifier(max_depth=6, min_samples_leaf=3, random_state=77)"
      ]
     },
     "execution_count": 22,
     "metadata": {},
     "output_type": "execute_result"
    }
   ],
   "source": [
    "rf.fit(X_train, y_train)"
   ]
  },
  {
   "cell_type": "code",
   "execution_count": 23,
   "id": "c3499c8d",
   "metadata": {},
   "outputs": [
    {
     "name": "stdout",
     "output_type": "stream",
     "text": [
      "[0.11495013 0.26946347 0.01537157 0.21821368 0.01550409 0.19286582\n",
      " 0.17363124]\n"
     ]
    }
   ],
   "source": [
    "print(rf.feature_importances_)"
   ]
  },
  {
   "cell_type": "code",
   "execution_count": 24,
   "id": "a6d7e69f",
   "metadata": {},
   "outputs": [],
   "source": [
    "y_pred = rf.predict(X_train)"
   ]
  },
  {
   "cell_type": "code",
   "execution_count": 25,
   "id": "a2de2ebd",
   "metadata": {},
   "outputs": [
    {
     "data": {
      "text/plain": [
       "0.8141009383717981"
      ]
     },
     "execution_count": 25,
     "metadata": {},
     "output_type": "execute_result"
    }
   ],
   "source": [
    "rf.score(X_train, y_train)"
   ]
  },
  {
   "cell_type": "code",
   "execution_count": 26,
   "id": "b66c6906",
   "metadata": {},
   "outputs": [
    {
     "data": {
      "text/html": [
       "<div>\n",
       "<style scoped>\n",
       "    .dataframe tbody tr th:only-of-type {\n",
       "        vertical-align: middle;\n",
       "    }\n",
       "\n",
       "    .dataframe tbody tr th {\n",
       "        vertical-align: top;\n",
       "    }\n",
       "\n",
       "    .dataframe thead th {\n",
       "        text-align: right;\n",
       "    }\n",
       "</style>\n",
       "<table border=\"1\" class=\"dataframe\">\n",
       "  <thead>\n",
       "    <tr style=\"text-align: right;\">\n",
       "      <th></th>\n",
       "      <th>No</th>\n",
       "      <th>Yes</th>\n",
       "    </tr>\n",
       "  </thead>\n",
       "  <tbody>\n",
       "    <tr>\n",
       "      <th>No</th>\n",
       "      <td>2679</td>\n",
       "      <td>218</td>\n",
       "    </tr>\n",
       "    <tr>\n",
       "      <th>Yes</th>\n",
       "      <td>515</td>\n",
       "      <td>531</td>\n",
       "    </tr>\n",
       "  </tbody>\n",
       "</table>\n",
       "</div>"
      ],
      "text/plain": [
       "       No  Yes\n",
       "No   2679  218\n",
       "Yes   515  531"
      ]
     },
     "execution_count": 26,
     "metadata": {},
     "output_type": "execute_result"
    }
   ],
   "source": [
    "labels = sorted(y_train.unique())\n",
    "pd.DataFrame(confusion_matrix(y_train, y_pred), index=labels, columns=labels)"
   ]
  },
  {
   "cell_type": "code",
   "execution_count": 27,
   "id": "ef619bc1",
   "metadata": {},
   "outputs": [
    {
     "name": "stdout",
     "output_type": "stream",
     "text": [
      "              precision    recall  f1-score   support\n",
      "\n",
      "          No       0.84      0.92      0.88      2897\n",
      "         Yes       0.71      0.51      0.59      1046\n",
      "\n",
      "    accuracy                           0.81      3943\n",
      "   macro avg       0.77      0.72      0.74      3943\n",
      "weighted avg       0.80      0.81      0.80      3943\n",
      "\n"
     ]
    }
   ],
   "source": [
    "print(classification_report(y_train, y_pred))"
   ]
  },
  {
   "cell_type": "code",
   "execution_count": 28,
   "id": "496b15bf",
   "metadata": {},
   "outputs": [
    {
     "data": {
      "text/plain": [
       "0.8024837374334713"
      ]
     },
     "execution_count": 28,
     "metadata": {},
     "output_type": "execute_result"
    }
   ],
   "source": [
    "rf.score(X_val, y_val)"
   ]
  },
  {
   "cell_type": "code",
   "execution_count": 29,
   "id": "e690631e",
   "metadata": {},
   "outputs": [],
   "source": [
    "logit = LogisticRegression(C=1, random_state=77, intercept_scaling=1, solver='lbfgs')"
   ]
  },
  {
   "cell_type": "code",
   "execution_count": 30,
   "id": "0035b9bd",
   "metadata": {},
   "outputs": [
    {
     "data": {
      "text/html": [
       "<style>#sk-container-id-3 {color: black;background-color: white;}#sk-container-id-3 pre{padding: 0;}#sk-container-id-3 div.sk-toggleable {background-color: white;}#sk-container-id-3 label.sk-toggleable__label {cursor: pointer;display: block;width: 100%;margin-bottom: 0;padding: 0.3em;box-sizing: border-box;text-align: center;}#sk-container-id-3 label.sk-toggleable__label-arrow:before {content: \"▸\";float: left;margin-right: 0.25em;color: #696969;}#sk-container-id-3 label.sk-toggleable__label-arrow:hover:before {color: black;}#sk-container-id-3 div.sk-estimator:hover label.sk-toggleable__label-arrow:before {color: black;}#sk-container-id-3 div.sk-toggleable__content {max-height: 0;max-width: 0;overflow: hidden;text-align: left;background-color: #f0f8ff;}#sk-container-id-3 div.sk-toggleable__content pre {margin: 0.2em;color: black;border-radius: 0.25em;background-color: #f0f8ff;}#sk-container-id-3 input.sk-toggleable__control:checked~div.sk-toggleable__content {max-height: 200px;max-width: 100%;overflow: auto;}#sk-container-id-3 input.sk-toggleable__control:checked~label.sk-toggleable__label-arrow:before {content: \"▾\";}#sk-container-id-3 div.sk-estimator input.sk-toggleable__control:checked~label.sk-toggleable__label {background-color: #d4ebff;}#sk-container-id-3 div.sk-label input.sk-toggleable__control:checked~label.sk-toggleable__label {background-color: #d4ebff;}#sk-container-id-3 input.sk-hidden--visually {border: 0;clip: rect(1px 1px 1px 1px);clip: rect(1px, 1px, 1px, 1px);height: 1px;margin: -1px;overflow: hidden;padding: 0;position: absolute;width: 1px;}#sk-container-id-3 div.sk-estimator {font-family: monospace;background-color: #f0f8ff;border: 1px dotted black;border-radius: 0.25em;box-sizing: border-box;margin-bottom: 0.5em;}#sk-container-id-3 div.sk-estimator:hover {background-color: #d4ebff;}#sk-container-id-3 div.sk-parallel-item::after {content: \"\";width: 100%;border-bottom: 1px solid gray;flex-grow: 1;}#sk-container-id-3 div.sk-label:hover label.sk-toggleable__label {background-color: #d4ebff;}#sk-container-id-3 div.sk-serial::before {content: \"\";position: absolute;border-left: 1px solid gray;box-sizing: border-box;top: 0;bottom: 0;left: 50%;z-index: 0;}#sk-container-id-3 div.sk-serial {display: flex;flex-direction: column;align-items: center;background-color: white;padding-right: 0.2em;padding-left: 0.2em;position: relative;}#sk-container-id-3 div.sk-item {position: relative;z-index: 1;}#sk-container-id-3 div.sk-parallel {display: flex;align-items: stretch;justify-content: center;background-color: white;position: relative;}#sk-container-id-3 div.sk-item::before, #sk-container-id-3 div.sk-parallel-item::before {content: \"\";position: absolute;border-left: 1px solid gray;box-sizing: border-box;top: 0;bottom: 0;left: 50%;z-index: -1;}#sk-container-id-3 div.sk-parallel-item {display: flex;flex-direction: column;z-index: 1;position: relative;background-color: white;}#sk-container-id-3 div.sk-parallel-item:first-child::after {align-self: flex-end;width: 50%;}#sk-container-id-3 div.sk-parallel-item:last-child::after {align-self: flex-start;width: 50%;}#sk-container-id-3 div.sk-parallel-item:only-child::after {width: 0;}#sk-container-id-3 div.sk-dashed-wrapped {border: 1px dashed gray;margin: 0 0.4em 0.5em 0.4em;box-sizing: border-box;padding-bottom: 0.4em;background-color: white;}#sk-container-id-3 div.sk-label label {font-family: monospace;font-weight: bold;display: inline-block;line-height: 1.2em;}#sk-container-id-3 div.sk-label-container {text-align: center;}#sk-container-id-3 div.sk-container {/* jupyter's `normalize.less` sets `[hidden] { display: none; }` but bootstrap.min.css set `[hidden] { display: none !important; }` so we also need the `!important` here to be able to override the default hidden behavior on the sphinx rendered scikit-learn.org. See: https://github.com/scikit-learn/scikit-learn/issues/21755 */display: inline-block !important;position: relative;}#sk-container-id-3 div.sk-text-repr-fallback {display: none;}</style><div id=\"sk-container-id-3\" class=\"sk-top-container\"><div class=\"sk-text-repr-fallback\"><pre>LogisticRegression(C=1, random_state=77)</pre><b>In a Jupyter environment, please rerun this cell to show the HTML representation or trust the notebook. <br />On GitHub, the HTML representation is unable to render, please try loading this page with nbviewer.org.</b></div><div class=\"sk-container\" hidden><div class=\"sk-item\"><div class=\"sk-estimator sk-toggleable\"><input class=\"sk-toggleable__control sk-hidden--visually\" id=\"sk-estimator-id-3\" type=\"checkbox\" checked><label for=\"sk-estimator-id-3\" class=\"sk-toggleable__label sk-toggleable__label-arrow\">LogisticRegression</label><div class=\"sk-toggleable__content\"><pre>LogisticRegression(C=1, random_state=77)</pre></div></div></div></div></div>"
      ],
      "text/plain": [
       "LogisticRegression(C=1, random_state=77)"
      ]
     },
     "execution_count": 30,
     "metadata": {},
     "output_type": "execute_result"
    }
   ],
   "source": [
    "logit.fit(X_train, y_train)"
   ]
  },
  {
   "cell_type": "code",
   "execution_count": 31,
   "id": "2fd06533",
   "metadata": {},
   "outputs": [
    {
     "name": "stdout",
     "output_type": "stream",
     "text": [
      "Coefficient: \n",
      " [[-1.46142742e-01 -9.29993617e-01 -2.68065286e-01 -4.85866470e-02\n",
      "   1.46830652e-01  2.59153225e-02  1.34476639e-04]]\n",
      "Intercept: \n",
      " [-0.18861781]\n"
     ]
    }
   ],
   "source": [
    "print('Coefficient: \\n', logit.coef_)\n",
    "print('Intercept: \\n', logit.intercept_)"
   ]
  },
  {
   "cell_type": "code",
   "execution_count": 32,
   "id": "98e41d29",
   "metadata": {},
   "outputs": [],
   "source": [
    "y_pred = logit.predict(X_train)"
   ]
  },
  {
   "cell_type": "code",
   "execution_count": 33,
   "id": "195c1758",
   "metadata": {},
   "outputs": [
    {
     "data": {
      "text/plain": [
       "0.7895003804209992"
      ]
     },
     "execution_count": 33,
     "metadata": {},
     "output_type": "execute_result"
    }
   ],
   "source": [
    "logit.score(X_train, y_train)"
   ]
  },
  {
   "cell_type": "code",
   "execution_count": 34,
   "id": "20844ffe",
   "metadata": {},
   "outputs": [
    {
     "data": {
      "text/html": [
       "<div>\n",
       "<style scoped>\n",
       "    .dataframe tbody tr th:only-of-type {\n",
       "        vertical-align: middle;\n",
       "    }\n",
       "\n",
       "    .dataframe tbody tr th {\n",
       "        vertical-align: top;\n",
       "    }\n",
       "\n",
       "    .dataframe thead th {\n",
       "        text-align: right;\n",
       "    }\n",
       "</style>\n",
       "<table border=\"1\" class=\"dataframe\">\n",
       "  <thead>\n",
       "    <tr style=\"text-align: right;\">\n",
       "      <th></th>\n",
       "      <th>No</th>\n",
       "      <th>Yes</th>\n",
       "    </tr>\n",
       "  </thead>\n",
       "  <tbody>\n",
       "    <tr>\n",
       "      <th>No</th>\n",
       "      <td>2599</td>\n",
       "      <td>298</td>\n",
       "    </tr>\n",
       "    <tr>\n",
       "      <th>Yes</th>\n",
       "      <td>532</td>\n",
       "      <td>514</td>\n",
       "    </tr>\n",
       "  </tbody>\n",
       "</table>\n",
       "</div>"
      ],
      "text/plain": [
       "       No  Yes\n",
       "No   2599  298\n",
       "Yes   532  514"
      ]
     },
     "execution_count": 34,
     "metadata": {},
     "output_type": "execute_result"
    }
   ],
   "source": [
    "labels = sorted(y_train.unique())\n",
    "pd.DataFrame(confusion_matrix(y_train, y_pred), index=labels, columns=labels)"
   ]
  },
  {
   "cell_type": "code",
   "execution_count": 35,
   "id": "5615f3ad",
   "metadata": {},
   "outputs": [
    {
     "name": "stdout",
     "output_type": "stream",
     "text": [
      "              precision    recall  f1-score   support\n",
      "\n",
      "          No       0.83      0.90      0.86      2897\n",
      "         Yes       0.63      0.49      0.55      1046\n",
      "\n",
      "    accuracy                           0.79      3943\n",
      "   macro avg       0.73      0.69      0.71      3943\n",
      "weighted avg       0.78      0.79      0.78      3943\n",
      "\n"
     ]
    }
   ],
   "source": [
    "print(classification_report(y_train, y_pred))"
   ]
  },
  {
   "cell_type": "code",
   "execution_count": 37,
   "id": "cc0b16c1",
   "metadata": {},
   "outputs": [
    {
     "data": {
      "text/plain": [
       "0.7899219304471257"
      ]
     },
     "execution_count": 37,
     "metadata": {},
     "output_type": "execute_result"
    }
   ],
   "source": [
    "train_tree.score(X_test, y_test)"
   ]
  },
  {
   "cell_type": "code",
   "execution_count": 38,
   "id": "73ad8e69",
   "metadata": {},
   "outputs": [
    {
     "data": {
      "text/plain": [
       "0.7856635911994322"
      ]
     },
     "execution_count": 38,
     "metadata": {},
     "output_type": "execute_result"
    }
   ],
   "source": [
    "rf.score(X_test, y_test)"
   ]
  },
  {
   "cell_type": "code",
   "execution_count": 39,
   "id": "bbe3ac4b",
   "metadata": {},
   "outputs": [
    {
     "data": {
      "text/plain": [
       "0.7885024840312278"
      ]
     },
     "execution_count": 39,
     "metadata": {},
     "output_type": "execute_result"
    }
   ],
   "source": [
    "logit.score(X_test, y_test)"
   ]
  },
  {
   "cell_type": "code",
   "execution_count": 36,
   "id": "15cd7e12",
   "metadata": {},
   "outputs": [
    {
     "data": {
      "text/html": [
       "<div>\n",
       "<style scoped>\n",
       "    .dataframe tbody tr th:only-of-type {\n",
       "        vertical-align: middle;\n",
       "    }\n",
       "\n",
       "    .dataframe tbody tr th {\n",
       "        vertical-align: top;\n",
       "    }\n",
       "\n",
       "    .dataframe thead th {\n",
       "        text-align: right;\n",
       "    }\n",
       "</style>\n",
       "<table border=\"1\" class=\"dataframe\">\n",
       "  <thead>\n",
       "    <tr style=\"text-align: right;\">\n",
       "      <th></th>\n",
       "      <th>customer_id</th>\n",
       "    </tr>\n",
       "  </thead>\n",
       "  <tbody>\n",
       "    <tr>\n",
       "      <th>0</th>\n",
       "      <td>0002-ORFBO</td>\n",
       "    </tr>\n",
       "    <tr>\n",
       "      <th>1</th>\n",
       "      <td>0003-MKNFE</td>\n",
       "    </tr>\n",
       "    <tr>\n",
       "      <th>2</th>\n",
       "      <td>0004-TLHLJ</td>\n",
       "    </tr>\n",
       "    <tr>\n",
       "      <th>3</th>\n",
       "      <td>0011-IGKFF</td>\n",
       "    </tr>\n",
       "    <tr>\n",
       "      <th>4</th>\n",
       "      <td>0013-EXCHZ</td>\n",
       "    </tr>\n",
       "    <tr>\n",
       "      <th>...</th>\n",
       "      <td>...</td>\n",
       "    </tr>\n",
       "    <tr>\n",
       "      <th>7038</th>\n",
       "      <td>9987-LUTYD</td>\n",
       "    </tr>\n",
       "    <tr>\n",
       "      <th>7039</th>\n",
       "      <td>9992-RRAMN</td>\n",
       "    </tr>\n",
       "    <tr>\n",
       "      <th>7040</th>\n",
       "      <td>9992-UJOEL</td>\n",
       "    </tr>\n",
       "    <tr>\n",
       "      <th>7041</th>\n",
       "      <td>9993-LHIEB</td>\n",
       "    </tr>\n",
       "    <tr>\n",
       "      <th>7042</th>\n",
       "      <td>9995-HOTOH</td>\n",
       "    </tr>\n",
       "  </tbody>\n",
       "</table>\n",
       "<p>7043 rows × 1 columns</p>\n",
       "</div>"
      ],
      "text/plain": [
       "     customer_id\n",
       "0     0002-ORFBO\n",
       "1     0003-MKNFE\n",
       "2     0004-TLHLJ\n",
       "3     0011-IGKFF\n",
       "4     0013-EXCHZ\n",
       "...          ...\n",
       "7038  9987-LUTYD\n",
       "7039  9992-RRAMN\n",
       "7040  9992-UJOEL\n",
       "7041  9993-LHIEB\n",
       "7042  9995-HOTOH\n",
       "\n",
       "[7043 rows x 1 columns]"
      ]
     },
     "execution_count": 36,
     "metadata": {},
     "output_type": "execute_result"
    }
   ],
   "source": [
    "telco_c = acquire.get_telco_data(nl.get_db_url)\n",
    "telco_c = telco_c.iloc[:, 1:]\n",
    "telco_c = telco_c.drop(['gender', 'senior_citizen', 'partner', 'phone_service', 'tech_support', 'streaming_tv', \n",
    "                    'streaming_movies', 'paperless_billing', 'internet_service_type', 'online_security', 'online_backup', \n",
    "                    'device_protection', 'internet_service_type_id', 'payment_type_id', 'contract_type_id', 'dependents', \n",
    "                    'tenure', 'multiple_lines', 'monthly_charges', 'total_charges', 'churn', 'contract_type', 'payment_type']\n",
    "                   , axis =1)\n",
    "telco_c"
   ]
  },
  {
   "cell_type": "code",
   "execution_count": 46,
   "id": "67342d91",
   "metadata": {},
   "outputs": [
    {
     "data": {
      "text/html": [
       "<div>\n",
       "<style scoped>\n",
       "    .dataframe tbody tr th:only-of-type {\n",
       "        vertical-align: middle;\n",
       "    }\n",
       "\n",
       "    .dataframe tbody tr th {\n",
       "        vertical-align: top;\n",
       "    }\n",
       "\n",
       "    .dataframe thead th {\n",
       "        text-align: right;\n",
       "    }\n",
       "</style>\n",
       "<table border=\"1\" class=\"dataframe\">\n",
       "  <thead>\n",
       "    <tr style=\"text-align: right;\">\n",
       "      <th></th>\n",
       "      <th>0</th>\n",
       "    </tr>\n",
       "  </thead>\n",
       "  <tbody>\n",
       "    <tr>\n",
       "      <th>0</th>\n",
       "      <td>0.876984</td>\n",
       "    </tr>\n",
       "    <tr>\n",
       "      <th>1</th>\n",
       "      <td>0.780220</td>\n",
       "    </tr>\n",
       "    <tr>\n",
       "      <th>2</th>\n",
       "      <td>0.668033</td>\n",
       "    </tr>\n",
       "    <tr>\n",
       "      <th>3</th>\n",
       "      <td>1.000000</td>\n",
       "    </tr>\n",
       "    <tr>\n",
       "      <th>4</th>\n",
       "      <td>1.000000</td>\n",
       "    </tr>\n",
       "    <tr>\n",
       "      <th>...</th>\n",
       "      <td>...</td>\n",
       "    </tr>\n",
       "    <tr>\n",
       "      <th>1404</th>\n",
       "      <td>1.000000</td>\n",
       "    </tr>\n",
       "    <tr>\n",
       "      <th>1405</th>\n",
       "      <td>0.683453</td>\n",
       "    </tr>\n",
       "    <tr>\n",
       "      <th>1406</th>\n",
       "      <td>1.000000</td>\n",
       "    </tr>\n",
       "    <tr>\n",
       "      <th>1407</th>\n",
       "      <td>0.583333</td>\n",
       "    </tr>\n",
       "    <tr>\n",
       "      <th>1408</th>\n",
       "      <td>0.451163</td>\n",
       "    </tr>\n",
       "  </tbody>\n",
       "</table>\n",
       "<p>1409 rows × 1 columns</p>\n",
       "</div>"
      ],
      "text/plain": [
       "             0\n",
       "0     0.876984\n",
       "1     0.780220\n",
       "2     0.668033\n",
       "3     1.000000\n",
       "4     1.000000\n",
       "...        ...\n",
       "1404  1.000000\n",
       "1405  0.683453\n",
       "1406  1.000000\n",
       "1407  0.583333\n",
       "1408  0.451163\n",
       "\n",
       "[1409 rows x 1 columns]"
      ]
     },
     "execution_count": 46,
     "metadata": {},
     "output_type": "execute_result"
    }
   ],
   "source": [
    "churn_prob = train_tree.predict_proba(X_test)\n",
    "churn_prob = pd.DataFrame(churn_prob)\n",
    "churn_prob.drop(columns = 1)"
   ]
  },
  {
   "cell_type": "code",
   "execution_count": 58,
   "id": "e49915db",
   "metadata": {},
   "outputs": [],
   "source": [
    "pred_churn = train_tree.predict(X_test)\n",
    "pred_churn = pd.DataFrame(pred_churn)\n",
    "pred_churn = pred_churn.rename(columns ={0 : 'Churn'})\n"
   ]
  },
  {
   "cell_type": "code",
   "execution_count": 62,
   "id": "9b745f5a",
   "metadata": {},
   "outputs": [
    {
     "data": {
      "text/html": [
       "<div>\n",
       "<style scoped>\n",
       "    .dataframe tbody tr th:only-of-type {\n",
       "        vertical-align: middle;\n",
       "    }\n",
       "\n",
       "    .dataframe tbody tr th {\n",
       "        vertical-align: top;\n",
       "    }\n",
       "\n",
       "    .dataframe thead th {\n",
       "        text-align: right;\n",
       "    }\n",
       "</style>\n",
       "<table border=\"1\" class=\"dataframe\">\n",
       "  <thead>\n",
       "    <tr style=\"text-align: right;\">\n",
       "      <th></th>\n",
       "      <th>customer_id</th>\n",
       "      <th>Retention Chance</th>\n",
       "      <th>Churn</th>\n",
       "    </tr>\n",
       "  </thead>\n",
       "  <tbody>\n",
       "    <tr>\n",
       "      <th>0</th>\n",
       "      <td>0002-ORFBO</td>\n",
       "      <td>0.876984</td>\n",
       "      <td>No</td>\n",
       "    </tr>\n",
       "    <tr>\n",
       "      <th>1</th>\n",
       "      <td>0003-MKNFE</td>\n",
       "      <td>0.780220</td>\n",
       "      <td>No</td>\n",
       "    </tr>\n",
       "    <tr>\n",
       "      <th>2</th>\n",
       "      <td>0004-TLHLJ</td>\n",
       "      <td>0.668033</td>\n",
       "      <td>No</td>\n",
       "    </tr>\n",
       "    <tr>\n",
       "      <th>3</th>\n",
       "      <td>0011-IGKFF</td>\n",
       "      <td>1.000000</td>\n",
       "      <td>No</td>\n",
       "    </tr>\n",
       "    <tr>\n",
       "      <th>4</th>\n",
       "      <td>0013-EXCHZ</td>\n",
       "      <td>1.000000</td>\n",
       "      <td>No</td>\n",
       "    </tr>\n",
       "    <tr>\n",
       "      <th>...</th>\n",
       "      <td>...</td>\n",
       "      <td>...</td>\n",
       "      <td>...</td>\n",
       "    </tr>\n",
       "    <tr>\n",
       "      <th>1404</th>\n",
       "      <td>2075-PUEPR</td>\n",
       "      <td>1.000000</td>\n",
       "      <td>No</td>\n",
       "    </tr>\n",
       "    <tr>\n",
       "      <th>1405</th>\n",
       "      <td>2075-RMJIK</td>\n",
       "      <td>0.683453</td>\n",
       "      <td>No</td>\n",
       "    </tr>\n",
       "    <tr>\n",
       "      <th>1406</th>\n",
       "      <td>2077-DDHJK</td>\n",
       "      <td>1.000000</td>\n",
       "      <td>No</td>\n",
       "    </tr>\n",
       "    <tr>\n",
       "      <th>1407</th>\n",
       "      <td>2077-MPJQO</td>\n",
       "      <td>0.583333</td>\n",
       "      <td>No</td>\n",
       "    </tr>\n",
       "    <tr>\n",
       "      <th>1408</th>\n",
       "      <td>2079-FBMZK</td>\n",
       "      <td>0.451163</td>\n",
       "      <td>Yes</td>\n",
       "    </tr>\n",
       "  </tbody>\n",
       "</table>\n",
       "<p>1409 rows × 3 columns</p>\n",
       "</div>"
      ],
      "text/plain": [
       "     customer_id  Retention Chance Churn\n",
       "0     0002-ORFBO          0.876984    No\n",
       "1     0003-MKNFE          0.780220    No\n",
       "2     0004-TLHLJ          0.668033    No\n",
       "3     0011-IGKFF          1.000000    No\n",
       "4     0013-EXCHZ          1.000000    No\n",
       "...          ...               ...   ...\n",
       "1404  2075-PUEPR          1.000000    No\n",
       "1405  2075-RMJIK          0.683453    No\n",
       "1406  2077-DDHJK          1.000000    No\n",
       "1407  2077-MPJQO          0.583333    No\n",
       "1408  2079-FBMZK          0.451163   Yes\n",
       "\n",
       "[1409 rows x 3 columns]"
      ]
     },
     "execution_count": 62,
     "metadata": {},
     "output_type": "execute_result"
    }
   ],
   "source": [
    "predictions = pd.concat([telco_c, churn_prob, pred_churn], axis = 1).dropna().drop(columns = 1)\n",
    "predictions = predictions.rename(columns = {0 : 'Retention Chance'})\n",
    "predictions"
   ]
  },
  {
   "cell_type": "code",
   "execution_count": 63,
   "id": "b52286fc",
   "metadata": {},
   "outputs": [],
   "source": [
    "predictions.to_csv('final_predictions.csv')"
   ]
  },
  {
   "cell_type": "code",
   "execution_count": null,
   "id": "2a8d9aa2",
   "metadata": {},
   "outputs": [],
   "source": []
  }
 ],
 "metadata": {
  "kernelspec": {
   "display_name": "Python 3 (ipykernel)",
   "language": "python",
   "name": "python3"
  },
  "language_info": {
   "codemirror_mode": {
    "name": "ipython",
    "version": 3
   },
   "file_extension": ".py",
   "mimetype": "text/x-python",
   "name": "python",
   "nbconvert_exporter": "python",
   "pygments_lexer": "ipython3",
   "version": "3.9.13"
  }
 },
 "nbformat": 4,
 "nbformat_minor": 5
}
