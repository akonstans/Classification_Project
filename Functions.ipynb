{
 "cells": [
  {
   "cell_type": "code",
   "execution_count": 22,
   "id": "5dd5de9d",
   "metadata": {},
   "outputs": [],
   "source": [
    "import pandas as pd\n",
    "import seaborn as sns\n",
    "import new_lib as nl\n",
    "import numpy as np\n",
    "import matplotlib.pyplot as plt\n",
    "from scipy import stats\n",
    "from sklearn.model_selection import train_test_split\n",
    "import acquire\n",
    "import warnings\n",
    "warnings.filterwarnings(\"ignore\")\n",
    "from sklearn.tree import DecisionTreeClassifier, plot_tree\n",
    "from sklearn.metrics import classification_report\n",
    "from sklearn.metrics import confusion_matrix\n",
    "from sklearn.ensemble import RandomForestClassifier\n",
    "from sklearn.linear_model import LogisticRegression"
   ]
  },
  {
   "cell_type": "code",
   "execution_count": 23,
   "id": "7c594819",
   "metadata": {},
   "outputs": [],
   "source": [
    "def data(df):\n",
    "    df = acquire.get_telco_data(nl.get_db_url)\n",
    "    df = df.iloc[:, 1:]\n",
    "    df = df.drop(['gender', 'senior_citizen', 'partner', 'phone_service', 'tech_support', 'streaming_tv', \n",
    "                    'streaming_movies', 'paperless_billing', 'internet_service_type', 'online_security', 'online_backup', \n",
    "                    'device_protection', 'internet_service_type_id', 'customer_id', 'multiple_lines'], axis =1)\n",
    "    df = df.dropna()\n",
    "    df.total_charges = df.total_charges.replace(' ', 0).astype(float)\n",
    "    \n",
    "    return df"
   ]
  },
  {
   "cell_type": "code",
   "execution_count": 24,
   "id": "95640c46",
   "metadata": {},
   "outputs": [],
   "source": [
    "telco = data('df')"
   ]
  },
  {
   "cell_type": "code",
   "execution_count": 25,
   "id": "0ebc5b41",
   "metadata": {},
   "outputs": [],
   "source": [
    "def chi2(parameter, df):\n",
    "    chi2, p, degf, expected = chi2, p, degf, expected = stats.chi2_contingency(pd.crosstab(df.churn, df[parameter]))\n",
    "    if p <= .05:\n",
    "        print(f'Comparing relationship between churn and {parameter}')\n",
    "        print(chi2, p)\n",
    "        print('------------------')\n",
    "        print('\\n')\n",
    "        \n",
    "# Using a chi2 test to determine the main drivers behind the churn at Telco \n",
    "# Does not include payments yet, have to drop na and make a seperate test below"
   ]
  },
  {
   "cell_type": "code",
   "execution_count": 26,
   "id": "48fb24ab",
   "metadata": {},
   "outputs": [
    {
     "name": "stdout",
     "output_type": "stream",
     "text": [
      "Comparing relationship between churn and dependents\n",
      "189.12924940423474 4.9249216612154196e-43\n",
      "------------------\n",
      "\n",
      "\n"
     ]
    }
   ],
   "source": [
    "chi2('dependents', telco)"
   ]
  },
  {
   "cell_type": "code",
   "execution_count": 27,
   "id": "895f05b9",
   "metadata": {},
   "outputs": [],
   "source": [
    "def t_test(parameter, df):\n",
    "    churn = df[df.churn == 'Yes'][parameter]\n",
    "    not_churned = df[df.churn == 'No'][parameter]\n",
    "    t, p = stats.ttest_ind(churn, not_churned, equal_var = False)\n",
    "    print(f'Comparing relationship between churn and {parameter}')\n",
    "    print(t, p)\n",
    "    print('------------------')\n",
    "    print('\\n')\n",
    "# T test for the charges because they we are comparing a catagorical variable to a continuous one\n",
    "# The code will print the results in a similar format to the chi2 test above"
   ]
  },
  {
   "cell_type": "code",
   "execution_count": null,
   "id": "fcadf2d2",
   "metadata": {},
   "outputs": [],
   "source": []
  },
  {
   "cell_type": "code",
   "execution_count": 28,
   "id": "20990dad",
   "metadata": {},
   "outputs": [
    {
     "name": "stdout",
     "output_type": "stream",
     "text": [
      "Comparing relationship between churn and monthly_charges\n",
      "18.407526676414673 8.59244933154705e-73\n",
      "------------------\n",
      "\n",
      "\n"
     ]
    }
   ],
   "source": [
    "t_test('monthly_charges', telco)"
   ]
  },
  {
   "cell_type": "code",
   "execution_count": 29,
   "id": "b6922a05",
   "metadata": {},
   "outputs": [],
   "source": [
    "def data_split(df, target):\n",
    "    train, validate, test, X_train, y_train, X_val, y_val, X_test, y_test= nl.train_vailidate_test_split(df, target)\n",
    "    \n",
    "    return train, validate, test, X_train, y_train, X_val, y_val, X_test, y_test\n",
    "# Creating splits for the data using custom libraray function"
   ]
  },
  {
   "cell_type": "code",
   "execution_count": 30,
   "id": "cc442773",
   "metadata": {},
   "outputs": [],
   "source": [
    "train, validate, test, X_train, y_train, X_val, y_val, X_test, y_test = data_split(telco, 'churn')"
   ]
  },
  {
   "cell_type": "code",
   "execution_count": 31,
   "id": "08c99c77",
   "metadata": {},
   "outputs": [
    {
     "data": {
      "text/html": [
       "<div>\n",
       "<style scoped>\n",
       "    .dataframe tbody tr th:only-of-type {\n",
       "        vertical-align: middle;\n",
       "    }\n",
       "\n",
       "    .dataframe tbody tr th {\n",
       "        vertical-align: top;\n",
       "    }\n",
       "\n",
       "    .dataframe thead th {\n",
       "        text-align: right;\n",
       "    }\n",
       "</style>\n",
       "<table border=\"1\" class=\"dataframe\">\n",
       "  <thead>\n",
       "    <tr style=\"text-align: right;\">\n",
       "      <th></th>\n",
       "      <th>payment_type_id</th>\n",
       "      <th>contract_type_id</th>\n",
       "      <th>dependents</th>\n",
       "      <th>tenure</th>\n",
       "      <th>monthly_charges</th>\n",
       "      <th>total_charges</th>\n",
       "      <th>churn</th>\n",
       "      <th>contract_type</th>\n",
       "      <th>payment_type</th>\n",
       "    </tr>\n",
       "  </thead>\n",
       "  <tbody>\n",
       "    <tr>\n",
       "      <th>1320</th>\n",
       "      <td>2</td>\n",
       "      <td>1</td>\n",
       "      <td>No</td>\n",
       "      <td>1</td>\n",
       "      <td>20.40</td>\n",
       "      <td>20.40</td>\n",
       "      <td>Yes</td>\n",
       "      <td>Month-to-month</td>\n",
       "      <td>Mailed check</td>\n",
       "    </tr>\n",
       "    <tr>\n",
       "      <th>6590</th>\n",
       "      <td>2</td>\n",
       "      <td>1</td>\n",
       "      <td>No</td>\n",
       "      <td>4</td>\n",
       "      <td>20.70</td>\n",
       "      <td>73.05</td>\n",
       "      <td>No</td>\n",
       "      <td>Month-to-month</td>\n",
       "      <td>Mailed check</td>\n",
       "    </tr>\n",
       "    <tr>\n",
       "      <th>3490</th>\n",
       "      <td>3</td>\n",
       "      <td>1</td>\n",
       "      <td>No</td>\n",
       "      <td>28</td>\n",
       "      <td>59.55</td>\n",
       "      <td>1646.45</td>\n",
       "      <td>No</td>\n",
       "      <td>Month-to-month</td>\n",
       "      <td>Bank transfer (automatic)</td>\n",
       "    </tr>\n",
       "    <tr>\n",
       "      <th>4745</th>\n",
       "      <td>3</td>\n",
       "      <td>3</td>\n",
       "      <td>Yes</td>\n",
       "      <td>60</td>\n",
       "      <td>20.95</td>\n",
       "      <td>1270.55</td>\n",
       "      <td>No</td>\n",
       "      <td>Two year</td>\n",
       "      <td>Bank transfer (automatic)</td>\n",
       "    </tr>\n",
       "    <tr>\n",
       "      <th>3268</th>\n",
       "      <td>4</td>\n",
       "      <td>3</td>\n",
       "      <td>No</td>\n",
       "      <td>63</td>\n",
       "      <td>79.85</td>\n",
       "      <td>4861.45</td>\n",
       "      <td>No</td>\n",
       "      <td>Two year</td>\n",
       "      <td>Credit card (automatic)</td>\n",
       "    </tr>\n",
       "  </tbody>\n",
       "</table>\n",
       "</div>"
      ],
      "text/plain": [
       "      payment_type_id  contract_type_id dependents  tenure  monthly_charges  \\\n",
       "1320                2                 1         No       1            20.40   \n",
       "6590                2                 1         No       4            20.70   \n",
       "3490                3                 1         No      28            59.55   \n",
       "4745                3                 3        Yes      60            20.95   \n",
       "3268                4                 3         No      63            79.85   \n",
       "\n",
       "      total_charges churn   contract_type               payment_type  \n",
       "1320          20.40   Yes  Month-to-month               Mailed check  \n",
       "6590          73.05    No  Month-to-month               Mailed check  \n",
       "3490        1646.45    No  Month-to-month  Bank transfer (automatic)  \n",
       "4745        1270.55    No        Two year  Bank transfer (automatic)  \n",
       "3268        4861.45    No        Two year    Credit card (automatic)  "
      ]
     },
     "execution_count": 31,
     "metadata": {},
     "output_type": "execute_result"
    }
   ],
   "source": [
    "train.head()"
   ]
  },
  {
   "cell_type": "code",
   "execution_count": 32,
   "id": "4bd22d0f",
   "metadata": {},
   "outputs": [],
   "source": [
    "def contract_plot(df, x, hue):\n",
    "    sns.countplot(x = df[x], hue = df[hue])\n",
    "# Creating a count plot for contract_type hued by churn to visualize churn by each contract type"
   ]
  },
  {
   "cell_type": "code",
   "execution_count": 33,
   "id": "354215b5",
   "metadata": {},
   "outputs": [
    {
     "data": {
      "image/png": "[encoded data removed]",
      "text/plain": [
       "<Figure size 640x480 with 1 Axes>"
      ]
     },
     "metadata": {},
     "output_type": "display_data"
    }
   ],
   "source": [
    "contract_plot(train, 'contract_type', 'churn')"
   ]
  },
  {
   "cell_type": "code",
   "execution_count": 34,
   "id": "94d4b8ee",
   "metadata": {},
   "outputs": [],
   "source": [
    "def payment_plot(df, y, hue):\n",
    "    sns.countplot(y = df[y], hue = df[hue])\n",
    "#Count Plot that visualizes payment_type and the count of churn within each type of payment"
   ]
  },
  {
   "cell_type": "code",
   "execution_count": 35,
   "id": "775ad8a8",
   "metadata": {},
   "outputs": [
    {
     "data": {
      "image/png": "[encoded data removed]",
      "text/plain": [
       "<Figure size 640x480 with 1 Axes>"
      ]
     },
     "metadata": {},
     "output_type": "display_data"
    }
   ],
   "source": [
    "payment_plot(train, 'payment_type', 'churn')"
   ]
  },
  {
   "cell_type": "code",
   "execution_count": 36,
   "id": "d5e64811",
   "metadata": {},
   "outputs": [],
   "source": [
    "def dependents_plot(df, x, hue):\n",
    "    sns.countplot(x = df[x], hue = df[hue])\n",
    "# Countplot for dependents"
   ]
  },
  {
   "cell_type": "code",
   "execution_count": 37,
   "id": "0135f820",
   "metadata": {},
   "outputs": [
    {
     "data": {
      "image/png": "[encoded data removed]",
      "text/plain": [
       "<Figure size 640x480 with 1 Axes>"
      ]
     },
     "metadata": {},
     "output_type": "display_data"
    }
   ],
   "source": [
    "dependents_plot(train, 'dependents', 'churn')"
   ]
  },
  {
   "cell_type": "code",
   "execution_count": 38,
   "id": "e7513c92",
   "metadata": {},
   "outputs": [],
   "source": [
    "def hist_plot(df, target, parameter, color1, color2, alpha1, alpha2, edgecolor, label1, label2, xlabel, ylabel, title):\n",
    "    yes_churn = df[df[target] == 'Yes'][parameter]\n",
    "    no_churn = df[df[target] =='No'][parameter]\n",
    "    plt.hist(x = yes_churn, color = color1, alpha = alpha1, edgecolor = edgecolor, label = label1)\n",
    "    plt.hist(x = no_churn, color = color2, alpha = alpha2, edgecolor = edgecolor, label = label2)\n",
    "    plt.legend(loc = 'upper right')\n",
    "    plt.xlabel(xlabel)\n",
    "    plt.ylabel(ylabel)\n",
    "    plt.title(title)\n",
    "    plt.show()\n",
    "# Creating two histograms to overlay on each other using monthly charges\n",
    "# Seperated by churn status\n",
    "# Originally tried to do in seaborn but cann only do using matplot"
   ]
  },
  {
   "cell_type": "code",
   "execution_count": 39,
   "id": "e1f052c1",
   "metadata": {},
   "outputs": [
    {
     "data": {
      "image/png": "[encoded data removed]",
      "text/plain": [
       "<Figure size 640x480 with 1 Axes>"
      ]
     },
     "metadata": {},
     "output_type": "display_data"
    }
   ],
   "source": [
    "hist_plot(train, 'churn', 'monthly_charges', 'red', 'blue', \n",
    "          .5, .1, 'black', 'churned', 'did not churn', 'Monthly Charges', 'Amount of Customers', 'Churn Based on Monthly Charges')"
   ]
  },
  {
   "cell_type": "code",
   "execution_count": 40,
   "id": "f7d0a582",
   "metadata": {},
   "outputs": [],
   "source": [
    "def make_binary(df, parameter):\n",
    "    df[parameter] = np.where(df[parameter] == 'Yes', 1, 0)"
   ]
  },
  {
   "cell_type": "code",
   "execution_count": 41,
   "id": "2220dbba",
   "metadata": {},
   "outputs": [],
   "source": [
    "make_binary(telco, 'dependents')"
   ]
  },
  {
   "cell_type": "code",
   "execution_count": 42,
   "id": "4dc49e2e",
   "metadata": {},
   "outputs": [],
   "source": [
    "def drop_cols(df, drop1, drop2, ax):\n",
    "    df = df.drop([drop1, drop2], axis = ax)\n",
    "    return df"
   ]
  },
  {
   "cell_type": "code",
   "execution_count": 43,
   "id": "103d7c2e",
   "metadata": {},
   "outputs": [],
   "source": [
    "telco2 = drop_cols(telco, 'contract_type', 'payment_type', 1)"
   ]
  },
  {
   "cell_type": "code",
   "execution_count": 44,
   "id": "ec503db5",
   "metadata": {},
   "outputs": [],
   "source": [
    "train, validate, test, X_train, y_train, X_val, y_val, X_test, y_test = data_split(telco2, 'churn')"
   ]
  },
  {
   "cell_type": "code",
   "execution_count": 45,
   "id": "686bf544",
   "metadata": {},
   "outputs": [],
   "source": [
    "def baseline(df, target):\n",
    "    baseline = len(df[df[target] == 'No'])/ len(df)\n",
    "    return baseline"
   ]
  },
  {
   "cell_type": "code",
   "execution_count": 46,
   "id": "13fe23d5",
   "metadata": {},
   "outputs": [
    {
     "data": {
      "text/plain": [
       "0.7346301292063041"
      ]
     },
     "execution_count": 46,
     "metadata": {},
     "output_type": "execute_result"
    }
   ],
   "source": [
    "baseline(telco, 'churn')"
   ]
  },
  {
   "cell_type": "code",
   "execution_count": 47,
   "id": "a9a596e2",
   "metadata": {},
   "outputs": [
    {
     "data": {
      "text/html": [
       "<div>\n",
       "<style scoped>\n",
       "    .dataframe tbody tr th:only-of-type {\n",
       "        vertical-align: middle;\n",
       "    }\n",
       "\n",
       "    .dataframe tbody tr th {\n",
       "        vertical-align: top;\n",
       "    }\n",
       "\n",
       "    .dataframe thead th {\n",
       "        text-align: right;\n",
       "    }\n",
       "</style>\n",
       "<table border=\"1\" class=\"dataframe\">\n",
       "  <thead>\n",
       "    <tr style=\"text-align: right;\">\n",
       "      <th></th>\n",
       "      <th>payment_type_id</th>\n",
       "      <th>contract_type_id</th>\n",
       "      <th>dependents</th>\n",
       "      <th>tenure</th>\n",
       "      <th>monthly_charges</th>\n",
       "      <th>total_charges</th>\n",
       "    </tr>\n",
       "  </thead>\n",
       "  <tbody>\n",
       "    <tr>\n",
       "      <th>1320</th>\n",
       "      <td>2</td>\n",
       "      <td>1</td>\n",
       "      <td>0</td>\n",
       "      <td>1</td>\n",
       "      <td>20.40</td>\n",
       "      <td>20.40</td>\n",
       "    </tr>\n",
       "    <tr>\n",
       "      <th>6590</th>\n",
       "      <td>2</td>\n",
       "      <td>1</td>\n",
       "      <td>0</td>\n",
       "      <td>4</td>\n",
       "      <td>20.70</td>\n",
       "      <td>73.05</td>\n",
       "    </tr>\n",
       "    <tr>\n",
       "      <th>3490</th>\n",
       "      <td>3</td>\n",
       "      <td>1</td>\n",
       "      <td>0</td>\n",
       "      <td>28</td>\n",
       "      <td>59.55</td>\n",
       "      <td>1646.45</td>\n",
       "    </tr>\n",
       "    <tr>\n",
       "      <th>4745</th>\n",
       "      <td>3</td>\n",
       "      <td>3</td>\n",
       "      <td>1</td>\n",
       "      <td>60</td>\n",
       "      <td>20.95</td>\n",
       "      <td>1270.55</td>\n",
       "    </tr>\n",
       "    <tr>\n",
       "      <th>3268</th>\n",
       "      <td>4</td>\n",
       "      <td>3</td>\n",
       "      <td>0</td>\n",
       "      <td>63</td>\n",
       "      <td>79.85</td>\n",
       "      <td>4861.45</td>\n",
       "    </tr>\n",
       "    <tr>\n",
       "      <th>...</th>\n",
       "      <td>...</td>\n",
       "      <td>...</td>\n",
       "      <td>...</td>\n",
       "      <td>...</td>\n",
       "      <td>...</td>\n",
       "      <td>...</td>\n",
       "    </tr>\n",
       "    <tr>\n",
       "      <th>4890</th>\n",
       "      <td>1</td>\n",
       "      <td>1</td>\n",
       "      <td>0</td>\n",
       "      <td>4</td>\n",
       "      <td>91.65</td>\n",
       "      <td>365.40</td>\n",
       "    </tr>\n",
       "    <tr>\n",
       "      <th>1831</th>\n",
       "      <td>4</td>\n",
       "      <td>1</td>\n",
       "      <td>0</td>\n",
       "      <td>41</td>\n",
       "      <td>81.30</td>\n",
       "      <td>3190.65</td>\n",
       "    </tr>\n",
       "    <tr>\n",
       "      <th>4341</th>\n",
       "      <td>2</td>\n",
       "      <td>1</td>\n",
       "      <td>0</td>\n",
       "      <td>1</td>\n",
       "      <td>19.75</td>\n",
       "      <td>19.75</td>\n",
       "    </tr>\n",
       "    <tr>\n",
       "      <th>996</th>\n",
       "      <td>1</td>\n",
       "      <td>3</td>\n",
       "      <td>0</td>\n",
       "      <td>57</td>\n",
       "      <td>95.25</td>\n",
       "      <td>5464.65</td>\n",
       "    </tr>\n",
       "    <tr>\n",
       "      <th>1124</th>\n",
       "      <td>1</td>\n",
       "      <td>1</td>\n",
       "      <td>1</td>\n",
       "      <td>32</td>\n",
       "      <td>100.40</td>\n",
       "      <td>3217.65</td>\n",
       "    </tr>\n",
       "  </tbody>\n",
       "</table>\n",
       "<p>3943 rows × 6 columns</p>\n",
       "</div>"
      ],
      "text/plain": [
       "      payment_type_id  contract_type_id  dependents  tenure  monthly_charges  \\\n",
       "1320                2                 1           0       1            20.40   \n",
       "6590                2                 1           0       4            20.70   \n",
       "3490                3                 1           0      28            59.55   \n",
       "4745                3                 3           1      60            20.95   \n",
       "3268                4                 3           0      63            79.85   \n",
       "...               ...               ...         ...     ...              ...   \n",
       "4890                1                 1           0       4            91.65   \n",
       "1831                4                 1           0      41            81.30   \n",
       "4341                2                 1           0       1            19.75   \n",
       "996                 1                 3           0      57            95.25   \n",
       "1124                1                 1           1      32           100.40   \n",
       "\n",
       "      total_charges  \n",
       "1320          20.40  \n",
       "6590          73.05  \n",
       "3490        1646.45  \n",
       "4745        1270.55  \n",
       "3268        4861.45  \n",
       "...             ...  \n",
       "4890         365.40  \n",
       "1831        3190.65  \n",
       "4341          19.75  \n",
       "996         5464.65  \n",
       "1124        3217.65  \n",
       "\n",
       "[3943 rows x 6 columns]"
      ]
     },
     "execution_count": 47,
     "metadata": {},
     "output_type": "execute_result"
    }
   ],
   "source": [
    "X_train"
   ]
  },
  {
   "cell_type": "code",
   "execution_count": 48,
   "id": "055825d9",
   "metadata": {},
   "outputs": [],
   "source": [
    "def dec_tree(x, y, depth):\n",
    "    train_tree = DecisionTreeClassifier(max_depth= depth, random_state=77)\n",
    "    train_tree.fit(x, y)\n",
    "    plt.figure(figsize=(13, 7))\n",
    "    plot_tree(train_tree, feature_names=x.columns, class_names=train_tree.classes_, rounded=True)\n",
    "\n",
    "    return train_tree"
   ]
  },
  {
   "cell_type": "code",
   "execution_count": 49,
   "id": "d692a480",
   "metadata": {},
   "outputs": [
    {
     "data": {
      "text/html": [
       "<style>#sk-container-id-1 {color: black;background-color: white;}#sk-container-id-1 pre{padding: 0;}#sk-container-id-1 div.sk-toggleable {background-color: white;}#sk-container-id-1 label.sk-toggleable__label {cursor: pointer;display: block;width: 100%;margin-bottom: 0;padding: 0.3em;box-sizing: border-box;text-align: center;}#sk-container-id-1 label.sk-toggleable__label-arrow:before {content: \"▸\";float: left;margin-right: 0.25em;color: #696969;}#sk-container-id-1 label.sk-toggleable__label-arrow:hover:before {color: black;}#sk-container-id-1 div.sk-estimator:hover label.sk-toggleable__label-arrow:before {color: black;}#sk-container-id-1 div.sk-toggleable__content {max-height: 0;max-width: 0;overflow: hidden;text-align: left;background-color: #f0f8ff;}#sk-container-id-1 div.sk-toggleable__content pre {margin: 0.2em;color: black;border-radius: 0.25em;background-color: #f0f8ff;}#sk-container-id-1 input.sk-toggleable__control:checked~div.sk-toggleable__content {max-height: 200px;max-width: 100%;overflow: auto;}#sk-container-id-1 input.sk-toggleable__control:checked~label.sk-toggleable__label-arrow:before {content: \"▾\";}#sk-container-id-1 div.sk-estimator input.sk-toggleable__control:checked~label.sk-toggleable__label {background-color: #d4ebff;}#sk-container-id-1 div.sk-label input.sk-toggleable__control:checked~label.sk-toggleable__label {background-color: #d4ebff;}#sk-container-id-1 input.sk-hidden--visually {border: 0;clip: rect(1px 1px 1px 1px);clip: rect(1px, 1px, 1px, 1px);height: 1px;margin: -1px;overflow: hidden;padding: 0;position: absolute;width: 1px;}#sk-container-id-1 div.sk-estimator {font-family: monospace;background-color: #f0f8ff;border: 1px dotted black;border-radius: 0.25em;box-sizing: border-box;margin-bottom: 0.5em;}#sk-container-id-1 div.sk-estimator:hover {background-color: #d4ebff;}#sk-container-id-1 div.sk-parallel-item::after {content: \"\";width: 100%;border-bottom: 1px solid gray;flex-grow: 1;}#sk-container-id-1 div.sk-label:hover label.sk-toggleable__label {background-color: #d4ebff;}#sk-container-id-1 div.sk-serial::before {content: \"\";position: absolute;border-left: 1px solid gray;box-sizing: border-box;top: 0;bottom: 0;left: 50%;z-index: 0;}#sk-container-id-1 div.sk-serial {display: flex;flex-direction: column;align-items: center;background-color: white;padding-right: 0.2em;padding-left: 0.2em;position: relative;}#sk-container-id-1 div.sk-item {position: relative;z-index: 1;}#sk-container-id-1 div.sk-parallel {display: flex;align-items: stretch;justify-content: center;background-color: white;position: relative;}#sk-container-id-1 div.sk-item::before, #sk-container-id-1 div.sk-parallel-item::before {content: \"\";position: absolute;border-left: 1px solid gray;box-sizing: border-box;top: 0;bottom: 0;left: 50%;z-index: -1;}#sk-container-id-1 div.sk-parallel-item {display: flex;flex-direction: column;z-index: 1;position: relative;background-color: white;}#sk-container-id-1 div.sk-parallel-item:first-child::after {align-self: flex-end;width: 50%;}#sk-container-id-1 div.sk-parallel-item:last-child::after {align-self: flex-start;width: 50%;}#sk-container-id-1 div.sk-parallel-item:only-child::after {width: 0;}#sk-container-id-1 div.sk-dashed-wrapped {border: 1px dashed gray;margin: 0 0.4em 0.5em 0.4em;box-sizing: border-box;padding-bottom: 0.4em;background-color: white;}#sk-container-id-1 div.sk-label label {font-family: monospace;font-weight: bold;display: inline-block;line-height: 1.2em;}#sk-container-id-1 div.sk-label-container {text-align: center;}#sk-container-id-1 div.sk-container {/* jupyter's `normalize.less` sets `[hidden] { display: none; }` but bootstrap.min.css set `[hidden] { display: none !important; }` so we also need the `!important` here to be able to override the default hidden behavior on the sphinx rendered scikit-learn.org. See: https://github.com/scikit-learn/scikit-learn/issues/21755 */display: inline-block !important;position: relative;}#sk-container-id-1 div.sk-text-repr-fallback {display: none;}</style><div id=\"sk-container-id-1\" class=\"sk-top-container\"><div class=\"sk-text-repr-fallback\"><pre>DecisionTreeClassifier(max_depth=6, random_state=77)</pre><b>In a Jupyter environment, please rerun this cell to show the HTML representation or trust the notebook. <br />On GitHub, the HTML representation is unable to render, please try loading this page with nbviewer.org.</b></div><div class=\"sk-container\" hidden><div class=\"sk-item\"><div class=\"sk-estimator sk-toggleable\"><input class=\"sk-toggleable__control sk-hidden--visually\" id=\"sk-estimator-id-1\" type=\"checkbox\" checked><label for=\"sk-estimator-id-1\" class=\"sk-toggleable__label sk-toggleable__label-arrow\">DecisionTreeClassifier</label><div class=\"sk-toggleable__content\"><pre>DecisionTreeClassifier(max_depth=6, random_state=77)</pre></div></div></div></div></div>"
      ],
      "text/plain": [
       "DecisionTreeClassifier(max_depth=6, random_state=77)"
      ]
     },
     "execution_count": 49,
     "metadata": {},
     "output_type": "execute_result"
    },
    {
     "data": {
      "image/png": "[encoded data removed]",
      "text/plain": [
       "<Figure size 1300x700 with 1 Axes>"
      ]
     },
     "metadata": {},
     "output_type": "display_data"
    }
   ],
   "source": [
    "dec_tree(X_train, y_train, 6)"
   ]
  },
  {
   "cell_type": "code",
   "execution_count": 85,
   "id": "81122a44",
   "metadata": {},
   "outputs": [],
   "source": [
    "def tree_score(x,y,depth):\n",
    "    train_tree = DecisionTreeClassifier(max_depth= depth, random_state=77)\n",
    "    train_tree.fit(X_train, y_train)\n",
    "    train_tree.score(x,y)\n",
    "    return train_tree.score(x,y)"
   ]
  },
  {
   "cell_type": "code",
   "execution_count": 88,
   "id": "b0db771e",
   "metadata": {},
   "outputs": [
    {
     "data": {
      "text/plain": [
       "0.7899219304471257"
      ]
     },
     "execution_count": 88,
     "metadata": {},
     "output_type": "execute_result"
    }
   ],
   "source": [
    "tree_score(X_test, y_test, 7)"
   ]
  },
  {
   "cell_type": "code",
   "execution_count": 52,
   "id": "866ea995",
   "metadata": {},
   "outputs": [],
   "source": [
    "def tree_matrix(x, y, depth):\n",
    "    train_tree = DecisionTreeClassifier(max_depth= depth, random_state=77)\n",
    "    train_tree.fit(x, y)\n",
    "    pred = train_tree.predict(x)\n",
    "    labels = sorted(y.unique())\n",
    "    df = pd.DataFrame(confusion_matrix(y, pred), index=labels, columns=labels)\n",
    "    return df\n",
    "    "
   ]
  },
  {
   "cell_type": "code",
   "execution_count": 77,
   "id": "85020250",
   "metadata": {},
   "outputs": [
    {
     "data": {
      "text/html": [
       "<div>\n",
       "<style scoped>\n",
       "    .dataframe tbody tr th:only-of-type {\n",
       "        vertical-align: middle;\n",
       "    }\n",
       "\n",
       "    .dataframe tbody tr th {\n",
       "        vertical-align: top;\n",
       "    }\n",
       "\n",
       "    .dataframe thead th {\n",
       "        text-align: right;\n",
       "    }\n",
       "</style>\n",
       "<table border=\"1\" class=\"dataframe\">\n",
       "  <thead>\n",
       "    <tr style=\"text-align: right;\">\n",
       "      <th></th>\n",
       "      <th>No</th>\n",
       "      <th>Yes</th>\n",
       "    </tr>\n",
       "  </thead>\n",
       "  <tbody>\n",
       "    <tr>\n",
       "      <th>No</th>\n",
       "      <td>2589</td>\n",
       "      <td>308</td>\n",
       "    </tr>\n",
       "    <tr>\n",
       "      <th>Yes</th>\n",
       "      <td>449</td>\n",
       "      <td>597</td>\n",
       "    </tr>\n",
       "  </tbody>\n",
       "</table>\n",
       "</div>"
      ],
      "text/plain": [
       "       No  Yes\n",
       "No   2589  308\n",
       "Yes   449  597"
      ]
     },
     "execution_count": 77,
     "metadata": {},
     "output_type": "execute_result"
    }
   ],
   "source": [
    "tree_matrix(X_train, y_train, 6)"
   ]
  },
  {
   "cell_type": "code",
   "execution_count": 81,
   "id": "3dbe39e5",
   "metadata": {},
   "outputs": [],
   "source": [
    "def tree_report(x, y, depth):\n",
    "    train_tree = DecisionTreeClassifier(max_depth= depth, random_state=77)\n",
    "    train_tree.fit(x, y)\n",
    "    pred = train_tree.predict(x)\n",
    "    print(classification_report(y, pred))"
   ]
  },
  {
   "cell_type": "code",
   "execution_count": 82,
   "id": "714c0398",
   "metadata": {},
   "outputs": [
    {
     "name": "stdout",
     "output_type": "stream",
     "text": [
      "              precision    recall  f1-score   support\n",
      "\n",
      "          No       0.85      0.89      0.87      2897\n",
      "         Yes       0.66      0.57      0.61      1046\n",
      "\n",
      "    accuracy                           0.81      3943\n",
      "   macro avg       0.76      0.73      0.74      3943\n",
      "weighted avg       0.80      0.81      0.80      3943\n",
      "\n"
     ]
    }
   ],
   "source": [
    "tree_report(X_train, y_train, 6)"
   ]
  },
  {
   "cell_type": "code",
   "execution_count": 89,
   "id": "5f5e8b57",
   "metadata": {},
   "outputs": [],
   "source": [
    "def ran_score(x, y, depth):\n",
    "    rf = RandomForestClassifier(bootstrap=True, \n",
    "                            class_weight=None, \n",
    "                            criterion='gini',\n",
    "                            min_samples_leaf=3,\n",
    "                            n_estimators=100,\n",
    "                            max_depth=depth, \n",
    "                            random_state=77)\n",
    "    rf.fit(X_train, y_train)\n",
    "    pred = rf.predict(x)\n",
    "    rf.score(x, y)\n",
    "    return rf.score(x, y)\n"
   ]
  },
  {
   "cell_type": "code",
   "execution_count": 91,
   "id": "28692ccd",
   "metadata": {},
   "outputs": [
    {
     "data": {
      "text/plain": [
       "0.7892122072391767"
      ]
     },
     "execution_count": 91,
     "metadata": {},
     "output_type": "execute_result"
    }
   ],
   "source": [
    "ran_score(X_test, y_test, 7)"
   ]
  },
  {
   "cell_type": "code",
   "execution_count": 92,
   "id": "068c430b",
   "metadata": {},
   "outputs": [],
   "source": [
    "def ran_matrix(x, y, depth):\n",
    "    rf = RandomForestClassifier(bootstrap=True, \n",
    "                            class_weight=None, \n",
    "                            criterion='gini',\n",
    "                            min_samples_leaf=3,\n",
    "                            n_estimators=100,\n",
    "                            max_depth=depth, \n",
    "                            random_state=77)\n",
    "    rf.fit(x, y)\n",
    "    pred = rf.predict(x)\n",
    "    labels = sorted(y.unique())\n",
    "    df = pd.DataFrame(confusion_matrix(y, pred), index=labels, columns=labels)\n",
    "    return df"
   ]
  },
  {
   "cell_type": "code",
   "execution_count": 93,
   "id": "a5eb1b19",
   "metadata": {},
   "outputs": [
    {
     "data": {
      "text/html": [
       "<div>\n",
       "<style scoped>\n",
       "    .dataframe tbody tr th:only-of-type {\n",
       "        vertical-align: middle;\n",
       "    }\n",
       "\n",
       "    .dataframe tbody tr th {\n",
       "        vertical-align: top;\n",
       "    }\n",
       "\n",
       "    .dataframe thead th {\n",
       "        text-align: right;\n",
       "    }\n",
       "</style>\n",
       "<table border=\"1\" class=\"dataframe\">\n",
       "  <thead>\n",
       "    <tr style=\"text-align: right;\">\n",
       "      <th></th>\n",
       "      <th>No</th>\n",
       "      <th>Yes</th>\n",
       "    </tr>\n",
       "  </thead>\n",
       "  <tbody>\n",
       "    <tr>\n",
       "      <th>No</th>\n",
       "      <td>2665</td>\n",
       "      <td>232</td>\n",
       "    </tr>\n",
       "    <tr>\n",
       "      <th>Yes</th>\n",
       "      <td>502</td>\n",
       "      <td>544</td>\n",
       "    </tr>\n",
       "  </tbody>\n",
       "</table>\n",
       "</div>"
      ],
      "text/plain": [
       "       No  Yes\n",
       "No   2665  232\n",
       "Yes   502  544"
      ]
     },
     "execution_count": 93,
     "metadata": {},
     "output_type": "execute_result"
    }
   ],
   "source": [
    "ran_matrix(X_train, y_train, 6)"
   ]
  },
  {
   "cell_type": "code",
   "execution_count": 69,
   "id": "e0a52f13",
   "metadata": {},
   "outputs": [],
   "source": [
    "def ran_report(x, y, depth):\n",
    "    rf = RandomForestClassifier(bootstrap=True, \n",
    "                            class_weight=None, \n",
    "                            criterion='gini',\n",
    "                            min_samples_leaf=3,\n",
    "                            n_estimators=100,\n",
    "                            max_depth=depth, \n",
    "                            random_state=77)\n",
    "    rf.fit(x, y)\n",
    "    pred = rf.predict(x)\n",
    "    print(classification_report(y, pred))"
   ]
  },
  {
   "cell_type": "code",
   "execution_count": 70,
   "id": "e31c830b",
   "metadata": {},
   "outputs": [
    {
     "name": "stdout",
     "output_type": "stream",
     "text": [
      "              precision    recall  f1-score   support\n",
      "\n",
      "          No       0.84      0.92      0.88      2897\n",
      "         Yes       0.70      0.52      0.60      1046\n",
      "\n",
      "    accuracy                           0.81      3943\n",
      "   macro avg       0.77      0.72      0.74      3943\n",
      "weighted avg       0.80      0.81      0.80      3943\n",
      "\n"
     ]
    }
   ],
   "source": [
    "ran_report(X_train, y_train, 6)"
   ]
  },
  {
   "cell_type": "code",
   "execution_count": 71,
   "id": "6e899a70",
   "metadata": {},
   "outputs": [],
   "source": [
    "def log_reg_score(x, y, c):\n",
    "    logit = LogisticRegression(C= c, random_state=77, intercept_scaling=1, solver='lbfgs')\n",
    "    logit.fit(x, y)\n",
    "    pred = logit.predict(x)\n",
    "    logit.score(x, y)\n",
    "    return logit.score(x, y)"
   ]
  },
  {
   "cell_type": "code",
   "execution_count": 72,
   "id": "6d27df38",
   "metadata": {},
   "outputs": [
    {
     "data": {
      "text/plain": [
       "0.7895003804209992"
      ]
     },
     "execution_count": 72,
     "metadata": {},
     "output_type": "execute_result"
    }
   ],
   "source": [
    "log_reg_score(X_train, y_train, 1)"
   ]
  },
  {
   "cell_type": "code",
   "execution_count": 73,
   "id": "856378a1",
   "metadata": {},
   "outputs": [],
   "source": [
    "def log_matrix(x, y, c):\n",
    "    logit = LogisticRegression(C= c, random_state=77, intercept_scaling=1, solver='lbfgs')\n",
    "    logit.fit(x, y)\n",
    "    pred = logit.predict(x)\n",
    "    labels = sorted(y.unique())\n",
    "    df = pd.DataFrame(confusion_matrix(y, pred), index=labels, columns=labels)\n",
    "    return df"
   ]
  },
  {
   "cell_type": "code",
   "execution_count": 74,
   "id": "9f9ffd7e",
   "metadata": {},
   "outputs": [
    {
     "data": {
      "text/html": [
       "<div>\n",
       "<style scoped>\n",
       "    .dataframe tbody tr th:only-of-type {\n",
       "        vertical-align: middle;\n",
       "    }\n",
       "\n",
       "    .dataframe tbody tr th {\n",
       "        vertical-align: top;\n",
       "    }\n",
       "\n",
       "    .dataframe thead th {\n",
       "        text-align: right;\n",
       "    }\n",
       "</style>\n",
       "<table border=\"1\" class=\"dataframe\">\n",
       "  <thead>\n",
       "    <tr style=\"text-align: right;\">\n",
       "      <th></th>\n",
       "      <th>No</th>\n",
       "      <th>Yes</th>\n",
       "    </tr>\n",
       "  </thead>\n",
       "  <tbody>\n",
       "    <tr>\n",
       "      <th>No</th>\n",
       "      <td>2596</td>\n",
       "      <td>301</td>\n",
       "    </tr>\n",
       "    <tr>\n",
       "      <th>Yes</th>\n",
       "      <td>529</td>\n",
       "      <td>517</td>\n",
       "    </tr>\n",
       "  </tbody>\n",
       "</table>\n",
       "</div>"
      ],
      "text/plain": [
       "       No  Yes\n",
       "No   2596  301\n",
       "Yes   529  517"
      ]
     },
     "execution_count": 74,
     "metadata": {},
     "output_type": "execute_result"
    }
   ],
   "source": [
    "log_matrix(X_train, y_train, 1)"
   ]
  },
  {
   "cell_type": "code",
   "execution_count": 75,
   "id": "1728b878",
   "metadata": {},
   "outputs": [],
   "source": [
    "def log_report(x, y, c):\n",
    "    logit = LogisticRegression(C= c, random_state=77, intercept_scaling=1, solver='lbfgs')\n",
    "    logit.fit(x, y)\n",
    "    pred = logit.predict(x)\n",
    "    print(classification_report(y, pred))"
   ]
  },
  {
   "cell_type": "code",
   "execution_count": 76,
   "id": "5089031c",
   "metadata": {},
   "outputs": [
    {
     "name": "stdout",
     "output_type": "stream",
     "text": [
      "              precision    recall  f1-score   support\n",
      "\n",
      "          No       0.83      0.90      0.86      2897\n",
      "         Yes       0.63      0.49      0.55      1046\n",
      "\n",
      "    accuracy                           0.79      3943\n",
      "   macro avg       0.73      0.70      0.71      3943\n",
      "weighted avg       0.78      0.79      0.78      3943\n",
      "\n"
     ]
    }
   ],
   "source": [
    "log_report(X_train, y_train, 1)"
   ]
  },
  {
   "cell_type": "code",
   "execution_count": null,
   "id": "2f42e3e5",
   "metadata": {},
   "outputs": [],
   "source": []
  },
  {
   "cell_type": "code",
   "execution_count": null,
   "id": "9b0e2e7b",
   "metadata": {},
   "outputs": [],
   "source": []
  }
 ],
 "metadata": {
  "kernelspec": {
   "display_name": "Python 3 (ipykernel)",
   "language": "python",
   "name": "python3"
  },
  "language_info": {
   "codemirror_mode": {
    "name": "ipython",
    "version": 3
   },
   "file_extension": ".py",
   "mimetype": "text/x-python",
   "name": "python",
   "nbconvert_exporter": "python",
   "pygments_lexer": "ipython3",
   "version": "3.9.13"
  }
 },
 "nbformat": 4,
 "nbformat_minor": 5
}
