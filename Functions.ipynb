{
 "cells": [
  {
   "cell_type": "code",
   "execution_count": 1,
   "id": "76fb3147",
   "metadata": {},
   "outputs": [],
   "source": [
    "import pandas as pd\n",
    "import seaborn as sns\n",
    "import new_lib as nl\n",
    "import numpy as np\n",
    "import matplotlib.pyplot as plt\n",
    "from scipy import stats\n",
    "from sklearn.model_selection import train_test_split\n",
    "import acquire\n",
    "import warnings\n",
    "warnings.filterwarnings(\"ignore\")\n",
    "from sklearn.tree import DecisionTreeClassifier, plot_tree\n",
    "from sklearn.metrics import classification_report\n",
    "from sklearn.metrics import confusion_matrix\n",
    "from sklearn.ensemble import RandomForestClassifier\n",
    "from sklearn.linear_model import LogisticRegression"
   ]
  },
  {
   "cell_type": "code",
   "execution_count": 2,
   "id": "39b21df7",
   "metadata": {},
   "outputs": [],
   "source": [
    "def data(df):\n",
    "    df = acquire.get_telco_data(nl.get_db_url)\n",
    "    df = df.iloc[:, 1:]\n",
    "    df = df.drop(['gender', 'senior_citizen', 'partner', 'phone_service', 'tech_support', 'streaming_tv', \n",
    "                    'streaming_movies', 'paperless_billing', 'internet_service_type', 'online_security', 'online_backup', \n",
    "                    'device_protection', 'internet_service_type_id', 'customer_id'], axis =1)\n",
    "    df = df.dropna()\n",
    "    df.total_charges = df.total_charges.replace(' ', 0).astype(float)\n",
    "    \n",
    "    return df"
   ]
  },
  {
   "cell_type": "code",
   "execution_count": 3,
   "id": "4d25da03",
   "metadata": {},
   "outputs": [],
   "source": [
    "telco = data('df')"
   ]
  },
  {
   "cell_type": "code",
   "execution_count": 4,
   "id": "959bd8df",
   "metadata": {},
   "outputs": [],
   "source": [
    "def chi2(parameter, df):\n",
    "    chi2, p, degf, expected = chi2, p, degf, expected = stats.chi2_contingency(pd.crosstab(df.churn, df[parameter]))\n",
    "    if p <= .05:\n",
    "        print(f'Comparing relationship between churn and {parameter}')\n",
    "        print(chi2, p)\n",
    "        print('------------------')\n",
    "        print('\\n')\n",
    "        \n",
    "# Using a chi2 test to determine the main drivers behind the churn at Telco \n",
    "# Does not include payments yet, have to drop na and make a seperate test below"
   ]
  },
  {
   "cell_type": "code",
   "execution_count": 12,
   "id": "f8e6126a",
   "metadata": {},
   "outputs": [
    {
     "name": "stdout",
     "output_type": "stream",
     "text": [
      "Comparing relationship between churn and dependents\n",
      "189.12924940423474 4.9249216612154196e-43\n",
      "------------------\n",
      "\n",
      "\n"
     ]
    }
   ],
   "source": [
    "chi2('dependents', telco)"
   ]
  },
  {
   "cell_type": "code",
   "execution_count": 5,
   "id": "411ea4c0",
   "metadata": {},
   "outputs": [],
   "source": [
    "def t_test(parameter, df):\n",
    "    churn = df[df.churn == 'Yes'][parameter]\n",
    "    not_churned = df[df.churn == 'No'][parameter]\n",
    "    t, p = stats.ttest_ind(churn, not_churned, equal_var = False)\n",
    "    print(f'Comparing relationship between churn and {parameter}')\n",
    "    print(t, p)\n",
    "    print('------------------')\n",
    "    print('\\n')\n",
    "# T test for the charges because they we are comparing a catagorical variable to a continuous one\n",
    "# The code will print the results in a similar format to the chi2 test above"
   ]
  },
  {
   "cell_type": "code",
   "execution_count": null,
   "id": "f02d9c09",
   "metadata": {},
   "outputs": [],
   "source": []
  },
  {
   "cell_type": "code",
   "execution_count": 6,
   "id": "676282c0",
   "metadata": {},
   "outputs": [
    {
     "name": "stdout",
     "output_type": "stream",
     "text": [
      "Comparing relationship between churn and monthly_charges\n",
      "18.407526676414673 8.59244933154705e-73\n",
      "------------------\n",
      "\n",
      "\n"
     ]
    }
   ],
   "source": [
    "t_test('monthly_charges', telco)"
   ]
  },
  {
   "cell_type": "code",
   "execution_count": 7,
   "id": "e46ba585",
   "metadata": {},
   "outputs": [],
   "source": [
    "def data_split(df, target):\n",
    "    train, validate, test, X_train, y_train, X_val, y_val, X_test, y_test= nl.train_vailidate_test_split(df, target)\n",
    "    \n",
    "    return train, validate, test, X_train, y_train, X_val, y_val, X_test, y_test\n",
    "# Creating splits for the data using custom libraray function"
   ]
  },
  {
   "cell_type": "code",
   "execution_count": 34,
   "id": "b08cf141",
   "metadata": {},
   "outputs": [
    {
     "ename": "NameError",
     "evalue": "name 'train' is not defined",
     "output_type": "error",
     "traceback": [
      "\u001b[0;31m---------------------------------------------------------------------------\u001b[0m",
      "\u001b[0;31mNameError\u001b[0m                                 Traceback (most recent call last)",
      "Input \u001b[0;32mIn [34]\u001b[0m, in \u001b[0;36m<cell line: 1>\u001b[0;34m()\u001b[0m\n\u001b[0;32m----> 1\u001b[0m \u001b[43mtrain\u001b[49m\u001b[38;5;241m.\u001b[39mhead()\n",
      "\u001b[0;31mNameError\u001b[0m: name 'train' is not defined"
     ]
    }
   ],
   "source": [
    "train.head()"
   ]
  },
  {
   "cell_type": "code",
   "execution_count": 8,
   "id": "0632b221",
   "metadata": {},
   "outputs": [],
   "source": [
    "train, validate, test, X_train, y_train, X_val, y_val, X_test, y_test = data_split(telco, 'churn')"
   ]
  },
  {
   "cell_type": "code",
   "execution_count": 9,
   "id": "3bf8a31a",
   "metadata": {},
   "outputs": [
    {
     "data": {
      "text/html": [
       "<div>\n",
       "<style scoped>\n",
       "    .dataframe tbody tr th:only-of-type {\n",
       "        vertical-align: middle;\n",
       "    }\n",
       "\n",
       "    .dataframe tbody tr th {\n",
       "        vertical-align: top;\n",
       "    }\n",
       "\n",
       "    .dataframe thead th {\n",
       "        text-align: right;\n",
       "    }\n",
       "</style>\n",
       "<table border=\"1\" class=\"dataframe\">\n",
       "  <thead>\n",
       "    <tr style=\"text-align: right;\">\n",
       "      <th></th>\n",
       "      <th>payment_type_id</th>\n",
       "      <th>contract_type_id</th>\n",
       "      <th>dependents</th>\n",
       "      <th>tenure</th>\n",
       "      <th>multiple_lines</th>\n",
       "      <th>monthly_charges</th>\n",
       "      <th>total_charges</th>\n",
       "      <th>churn</th>\n",
       "      <th>contract_type</th>\n",
       "      <th>payment_type</th>\n",
       "    </tr>\n",
       "  </thead>\n",
       "  <tbody>\n",
       "    <tr>\n",
       "      <th>1320</th>\n",
       "      <td>2</td>\n",
       "      <td>1</td>\n",
       "      <td>No</td>\n",
       "      <td>1</td>\n",
       "      <td>No</td>\n",
       "      <td>20.40</td>\n",
       "      <td>20.40</td>\n",
       "      <td>Yes</td>\n",
       "      <td>Month-to-month</td>\n",
       "      <td>Mailed check</td>\n",
       "    </tr>\n",
       "    <tr>\n",
       "      <th>6590</th>\n",
       "      <td>2</td>\n",
       "      <td>1</td>\n",
       "      <td>No</td>\n",
       "      <td>4</td>\n",
       "      <td>No</td>\n",
       "      <td>20.70</td>\n",
       "      <td>73.05</td>\n",
       "      <td>No</td>\n",
       "      <td>Month-to-month</td>\n",
       "      <td>Mailed check</td>\n",
       "    </tr>\n",
       "    <tr>\n",
       "      <th>3490</th>\n",
       "      <td>3</td>\n",
       "      <td>1</td>\n",
       "      <td>No</td>\n",
       "      <td>28</td>\n",
       "      <td>No</td>\n",
       "      <td>59.55</td>\n",
       "      <td>1646.45</td>\n",
       "      <td>No</td>\n",
       "      <td>Month-to-month</td>\n",
       "      <td>Bank transfer (automatic)</td>\n",
       "    </tr>\n",
       "    <tr>\n",
       "      <th>4745</th>\n",
       "      <td>3</td>\n",
       "      <td>3</td>\n",
       "      <td>Yes</td>\n",
       "      <td>60</td>\n",
       "      <td>No</td>\n",
       "      <td>20.95</td>\n",
       "      <td>1270.55</td>\n",
       "      <td>No</td>\n",
       "      <td>Two year</td>\n",
       "      <td>Bank transfer (automatic)</td>\n",
       "    </tr>\n",
       "    <tr>\n",
       "      <th>3268</th>\n",
       "      <td>4</td>\n",
       "      <td>3</td>\n",
       "      <td>No</td>\n",
       "      <td>63</td>\n",
       "      <td>Yes</td>\n",
       "      <td>79.85</td>\n",
       "      <td>4861.45</td>\n",
       "      <td>No</td>\n",
       "      <td>Two year</td>\n",
       "      <td>Credit card (automatic)</td>\n",
       "    </tr>\n",
       "  </tbody>\n",
       "</table>\n",
       "</div>"
      ],
      "text/plain": [
       "      payment_type_id  contract_type_id dependents  tenure multiple_lines  \\\n",
       "1320                2                 1         No       1             No   \n",
       "6590                2                 1         No       4             No   \n",
       "3490                3                 1         No      28             No   \n",
       "4745                3                 3        Yes      60             No   \n",
       "3268                4                 3         No      63            Yes   \n",
       "\n",
       "      monthly_charges  total_charges churn   contract_type  \\\n",
       "1320            20.40          20.40   Yes  Month-to-month   \n",
       "6590            20.70          73.05    No  Month-to-month   \n",
       "3490            59.55        1646.45    No  Month-to-month   \n",
       "4745            20.95        1270.55    No        Two year   \n",
       "3268            79.85        4861.45    No        Two year   \n",
       "\n",
       "                   payment_type  \n",
       "1320               Mailed check  \n",
       "6590               Mailed check  \n",
       "3490  Bank transfer (automatic)  \n",
       "4745  Bank transfer (automatic)  \n",
       "3268    Credit card (automatic)  "
      ]
     },
     "execution_count": 9,
     "metadata": {},
     "output_type": "execute_result"
    }
   ],
   "source": [
    "train.head()"
   ]
  },
  {
   "cell_type": "code",
   "execution_count": 10,
   "id": "317d80fd",
   "metadata": {},
   "outputs": [],
   "source": [
    "def contract_plot(df, x, hue):\n",
    "    sns.countplot(x = df[x], hue = df[hue])\n",
    "# Creating a count plot for contract_type hued by churn to visualize churn by each contract type"
   ]
  },
  {
   "cell_type": "code",
   "execution_count": 11,
   "id": "49aa1c99",
   "metadata": {},
   "outputs": [
    {
     "data": {
      "image/png": "[encoded data removed]",
      "text/plain": [
       "<Figure size 640x480 with 1 Axes>"
      ]
     },
     "metadata": {},
     "output_type": "display_data"
    }
   ],
   "source": [
    "contract_plot(train, 'contract_type', 'churn')"
   ]
  },
  {
   "cell_type": "code",
   "execution_count": 12,
   "id": "6b0c2614",
   "metadata": {},
   "outputs": [],
   "source": [
    "def payment_plot(df, y, hue):\n",
    "    sns.countplot(y = df[y], hue = df[hue])\n",
    "#Count Plot that visualizes payment_type and the count of churn within each type of payment"
   ]
  },
  {
   "cell_type": "code",
   "execution_count": 13,
   "id": "ab710b6d",
   "metadata": {},
   "outputs": [
    {
     "data": {
      "image/png": "[encoded data removed]",
      "text/plain": [
       "<Figure size 640x480 with 1 Axes>"
      ]
     },
     "metadata": {},
     "output_type": "display_data"
    }
   ],
   "source": [
    "payment_plot(train, 'payment_type', 'churn')"
   ]
  },
  {
   "cell_type": "code",
   "execution_count": 14,
   "id": "3f42af26",
   "metadata": {},
   "outputs": [],
   "source": [
    "def dependents_plot(df, x, hue):\n",
    "    sns.countplot(x = df[x], hue = df[hue])\n",
    "# Countplot for dependents"
   ]
  },
  {
   "cell_type": "code",
   "execution_count": 15,
   "id": "cc71f230",
   "metadata": {},
   "outputs": [
    {
     "data": {
      "image/png": "[encoded data removed]",
      "text/plain": [
       "<Figure size 640x480 with 1 Axes>"
      ]
     },
     "metadata": {},
     "output_type": "display_data"
    }
   ],
   "source": [
    "dependents_plot(train, 'dependents', 'churn')"
   ]
  },
  {
   "cell_type": "code",
   "execution_count": 16,
   "id": "c01dc0aa",
   "metadata": {},
   "outputs": [],
   "source": [
    "def hist_plot(df, target, parameter, color1, color2, alpha1, alpha2, edgecolor, label1, label2, xlabel, ylabel, title):\n",
    "    yes_churn = df[df[target] == 'Yes'][parameter]\n",
    "    no_churn = df[df[target] =='No'][parameter]\n",
    "    plt.hist(x = yes_churn, color = color1, alpha = alpha1, edgecolor = edgecolor, label = label1)\n",
    "    plt.hist(x = no_churn, color = color2, alpha = alpha2, edgecolor = edgecolor, label = label2)\n",
    "    plt.legend(loc = 'upper right')\n",
    "    plt.xlabel(xlabel)\n",
    "    plt.ylabel(ylabel)\n",
    "    plt.title(title)\n",
    "    plt.show()\n",
    "# Creating two histograms to overlay on each other using monthly charges\n",
    "# Seperated by churn status\n",
    "# Originally tried to do in seaborn but cann only do using matplot"
   ]
  },
  {
   "cell_type": "code",
   "execution_count": 17,
   "id": "a1065f88",
   "metadata": {},
   "outputs": [
    {
     "data": {
      "image/png": "[encoded data removed]",
      "text/plain": [
       "<Figure size 640x480 with 1 Axes>"
      ]
     },
     "metadata": {},
     "output_type": "display_data"
    }
   ],
   "source": [
    "hist_plot(train, 'churn', 'monthly_charges', 'red', 'blue', \n",
    "          .5, .1, 'black', 'churned', 'did not churn', 'Monthly Charges', 'Amount of Customers', 'Churn Based on Monthly Charges')"
   ]
  },
  {
   "cell_type": "code",
   "execution_count": 18,
   "id": "7f2d0576",
   "metadata": {},
   "outputs": [],
   "source": [
    "def make_binary(df, parameter):\n",
    "    df[parameter] = np.where(df[parameter] == 'Yes', 1, 0)"
   ]
  },
  {
   "cell_type": "code",
   "execution_count": null,
   "id": "e8dfca33",
   "metadata": {},
   "outputs": [],
   "source": []
  },
  {
   "cell_type": "code",
   "execution_count": 19,
   "id": "b1286442",
   "metadata": {},
   "outputs": [],
   "source": [
    "make_binary(telco, 'dependents')"
   ]
  },
  {
   "cell_type": "code",
   "execution_count": 20,
   "id": "eeae08a3",
   "metadata": {},
   "outputs": [],
   "source": [
    "make_binary(telco, 'multiple_lines')"
   ]
  },
  {
   "cell_type": "code",
   "execution_count": 21,
   "id": "63c2db0a",
   "metadata": {},
   "outputs": [],
   "source": [
    "def drop_cols(df, drop1, drop2, ax):\n",
    "    df = df.drop([drop1, drop2], axis = ax)\n",
    "    return df"
   ]
  },
  {
   "cell_type": "code",
   "execution_count": 22,
   "id": "2697b0cd",
   "metadata": {},
   "outputs": [],
   "source": [
    "telco2 = drop_cols(telco, 'contract_type', 'payment_type', 1)"
   ]
  },
  {
   "cell_type": "code",
   "execution_count": 23,
   "id": "526118b3",
   "metadata": {},
   "outputs": [],
   "source": [
    "train, validate, test, X_train, y_train, X_val, y_val, X_test, y_test = data_split(telco2, 'churn')"
   ]
  },
  {
   "cell_type": "code",
   "execution_count": 24,
   "id": "e3ec34d5",
   "metadata": {},
   "outputs": [],
   "source": [
    "def baseline(df, target):\n",
    "    baseline = len(df[df[target] == 'No'])/ len(df)\n",
    "    return baseline"
   ]
  },
  {
   "cell_type": "code",
   "execution_count": 25,
   "id": "b6da5ad6",
   "metadata": {},
   "outputs": [
    {
     "data": {
      "text/plain": [
       "0.7346301292063041"
      ]
     },
     "execution_count": 25,
     "metadata": {},
     "output_type": "execute_result"
    }
   ],
   "source": [
    "baseline(telco, 'churn')"
   ]
  },
  {
   "cell_type": "code",
   "execution_count": 26,
   "id": "9f3ca2dc",
   "metadata": {},
   "outputs": [
    {
     "data": {
      "text/html": [
       "<div>\n",
       "<style scoped>\n",
       "    .dataframe tbody tr th:only-of-type {\n",
       "        vertical-align: middle;\n",
       "    }\n",
       "\n",
       "    .dataframe tbody tr th {\n",
       "        vertical-align: top;\n",
       "    }\n",
       "\n",
       "    .dataframe thead th {\n",
       "        text-align: right;\n",
       "    }\n",
       "</style>\n",
       "<table border=\"1\" class=\"dataframe\">\n",
       "  <thead>\n",
       "    <tr style=\"text-align: right;\">\n",
       "      <th></th>\n",
       "      <th>payment_type_id</th>\n",
       "      <th>contract_type_id</th>\n",
       "      <th>dependents</th>\n",
       "      <th>tenure</th>\n",
       "      <th>multiple_lines</th>\n",
       "      <th>monthly_charges</th>\n",
       "      <th>total_charges</th>\n",
       "    </tr>\n",
       "  </thead>\n",
       "  <tbody>\n",
       "    <tr>\n",
       "      <th>1320</th>\n",
       "      <td>2</td>\n",
       "      <td>1</td>\n",
       "      <td>0</td>\n",
       "      <td>1</td>\n",
       "      <td>0</td>\n",
       "      <td>20.40</td>\n",
       "      <td>20.40</td>\n",
       "    </tr>\n",
       "    <tr>\n",
       "      <th>6590</th>\n",
       "      <td>2</td>\n",
       "      <td>1</td>\n",
       "      <td>0</td>\n",
       "      <td>4</td>\n",
       "      <td>0</td>\n",
       "      <td>20.70</td>\n",
       "      <td>73.05</td>\n",
       "    </tr>\n",
       "    <tr>\n",
       "      <th>3490</th>\n",
       "      <td>3</td>\n",
       "      <td>1</td>\n",
       "      <td>0</td>\n",
       "      <td>28</td>\n",
       "      <td>0</td>\n",
       "      <td>59.55</td>\n",
       "      <td>1646.45</td>\n",
       "    </tr>\n",
       "    <tr>\n",
       "      <th>4745</th>\n",
       "      <td>3</td>\n",
       "      <td>3</td>\n",
       "      <td>1</td>\n",
       "      <td>60</td>\n",
       "      <td>0</td>\n",
       "      <td>20.95</td>\n",
       "      <td>1270.55</td>\n",
       "    </tr>\n",
       "    <tr>\n",
       "      <th>3268</th>\n",
       "      <td>4</td>\n",
       "      <td>3</td>\n",
       "      <td>0</td>\n",
       "      <td>63</td>\n",
       "      <td>1</td>\n",
       "      <td>79.85</td>\n",
       "      <td>4861.45</td>\n",
       "    </tr>\n",
       "    <tr>\n",
       "      <th>...</th>\n",
       "      <td>...</td>\n",
       "      <td>...</td>\n",
       "      <td>...</td>\n",
       "      <td>...</td>\n",
       "      <td>...</td>\n",
       "      <td>...</td>\n",
       "      <td>...</td>\n",
       "    </tr>\n",
       "    <tr>\n",
       "      <th>4890</th>\n",
       "      <td>1</td>\n",
       "      <td>1</td>\n",
       "      <td>0</td>\n",
       "      <td>4</td>\n",
       "      <td>1</td>\n",
       "      <td>91.65</td>\n",
       "      <td>365.40</td>\n",
       "    </tr>\n",
       "    <tr>\n",
       "      <th>1831</th>\n",
       "      <td>4</td>\n",
       "      <td>1</td>\n",
       "      <td>0</td>\n",
       "      <td>41</td>\n",
       "      <td>1</td>\n",
       "      <td>81.30</td>\n",
       "      <td>3190.65</td>\n",
       "    </tr>\n",
       "    <tr>\n",
       "      <th>4341</th>\n",
       "      <td>2</td>\n",
       "      <td>1</td>\n",
       "      <td>0</td>\n",
       "      <td>1</td>\n",
       "      <td>0</td>\n",
       "      <td>19.75</td>\n",
       "      <td>19.75</td>\n",
       "    </tr>\n",
       "    <tr>\n",
       "      <th>996</th>\n",
       "      <td>1</td>\n",
       "      <td>3</td>\n",
       "      <td>0</td>\n",
       "      <td>57</td>\n",
       "      <td>0</td>\n",
       "      <td>95.25</td>\n",
       "      <td>5464.65</td>\n",
       "    </tr>\n",
       "    <tr>\n",
       "      <th>1124</th>\n",
       "      <td>1</td>\n",
       "      <td>1</td>\n",
       "      <td>1</td>\n",
       "      <td>32</td>\n",
       "      <td>1</td>\n",
       "      <td>100.40</td>\n",
       "      <td>3217.65</td>\n",
       "    </tr>\n",
       "  </tbody>\n",
       "</table>\n",
       "<p>3943 rows × 7 columns</p>\n",
       "</div>"
      ],
      "text/plain": [
       "      payment_type_id  contract_type_id  dependents  tenure  multiple_lines  \\\n",
       "1320                2                 1           0       1               0   \n",
       "6590                2                 1           0       4               0   \n",
       "3490                3                 1           0      28               0   \n",
       "4745                3                 3           1      60               0   \n",
       "3268                4                 3           0      63               1   \n",
       "...               ...               ...         ...     ...             ...   \n",
       "4890                1                 1           0       4               1   \n",
       "1831                4                 1           0      41               1   \n",
       "4341                2                 1           0       1               0   \n",
       "996                 1                 3           0      57               0   \n",
       "1124                1                 1           1      32               1   \n",
       "\n",
       "      monthly_charges  total_charges  \n",
       "1320            20.40          20.40  \n",
       "6590            20.70          73.05  \n",
       "3490            59.55        1646.45  \n",
       "4745            20.95        1270.55  \n",
       "3268            79.85        4861.45  \n",
       "...               ...            ...  \n",
       "4890            91.65         365.40  \n",
       "1831            81.30        3190.65  \n",
       "4341            19.75          19.75  \n",
       "996             95.25        5464.65  \n",
       "1124           100.40        3217.65  \n",
       "\n",
       "[3943 rows x 7 columns]"
      ]
     },
     "execution_count": 26,
     "metadata": {},
     "output_type": "execute_result"
    }
   ],
   "source": [
    "X_train"
   ]
  },
  {
   "cell_type": "code",
   "execution_count": 68,
   "id": "dc2131dd",
   "metadata": {},
   "outputs": [],
   "source": [
    "def dec_tree(x, y, depth):\n",
    "    train_tree = DecisionTreeClassifier(max_depth= depth, random_state=77)\n",
    "    train_tree.fit(x, y)\n",
    "    plt.figure(figsize=(13, 7))\n",
    "    plot_tree(train_tree, feature_names=x.columns, class_names=train_tree.classes_, rounded=True)\n",
    "\n",
    "    return train_tree"
   ]
  },
  {
   "cell_type": "code",
   "execution_count": 69,
   "id": "25d46c1f",
   "metadata": {},
   "outputs": [
    {
     "data": {
      "text/html": [
       "<style>#sk-container-id-2 {color: black;background-color: white;}#sk-container-id-2 pre{padding: 0;}#sk-container-id-2 div.sk-toggleable {background-color: white;}#sk-container-id-2 label.sk-toggleable__label {cursor: pointer;display: block;width: 100%;margin-bottom: 0;padding: 0.3em;box-sizing: border-box;text-align: center;}#sk-container-id-2 label.sk-toggleable__label-arrow:before {content: \"▸\";float: left;margin-right: 0.25em;color: #696969;}#sk-container-id-2 label.sk-toggleable__label-arrow:hover:before {color: black;}#sk-container-id-2 div.sk-estimator:hover label.sk-toggleable__label-arrow:before {color: black;}#sk-container-id-2 div.sk-toggleable__content {max-height: 0;max-width: 0;overflow: hidden;text-align: left;background-color: #f0f8ff;}#sk-container-id-2 div.sk-toggleable__content pre {margin: 0.2em;color: black;border-radius: 0.25em;background-color: #f0f8ff;}#sk-container-id-2 input.sk-toggleable__control:checked~div.sk-toggleable__content {max-height: 200px;max-width: 100%;overflow: auto;}#sk-container-id-2 input.sk-toggleable__control:checked~label.sk-toggleable__label-arrow:before {content: \"▾\";}#sk-container-id-2 div.sk-estimator input.sk-toggleable__control:checked~label.sk-toggleable__label {background-color: #d4ebff;}#sk-container-id-2 div.sk-label input.sk-toggleable__control:checked~label.sk-toggleable__label {background-color: #d4ebff;}#sk-container-id-2 input.sk-hidden--visually {border: 0;clip: rect(1px 1px 1px 1px);clip: rect(1px, 1px, 1px, 1px);height: 1px;margin: -1px;overflow: hidden;padding: 0;position: absolute;width: 1px;}#sk-container-id-2 div.sk-estimator {font-family: monospace;background-color: #f0f8ff;border: 1px dotted black;border-radius: 0.25em;box-sizing: border-box;margin-bottom: 0.5em;}#sk-container-id-2 div.sk-estimator:hover {background-color: #d4ebff;}#sk-container-id-2 div.sk-parallel-item::after {content: \"\";width: 100%;border-bottom: 1px solid gray;flex-grow: 1;}#sk-container-id-2 div.sk-label:hover label.sk-toggleable__label {background-color: #d4ebff;}#sk-container-id-2 div.sk-serial::before {content: \"\";position: absolute;border-left: 1px solid gray;box-sizing: border-box;top: 0;bottom: 0;left: 50%;z-index: 0;}#sk-container-id-2 div.sk-serial {display: flex;flex-direction: column;align-items: center;background-color: white;padding-right: 0.2em;padding-left: 0.2em;position: relative;}#sk-container-id-2 div.sk-item {position: relative;z-index: 1;}#sk-container-id-2 div.sk-parallel {display: flex;align-items: stretch;justify-content: center;background-color: white;position: relative;}#sk-container-id-2 div.sk-item::before, #sk-container-id-2 div.sk-parallel-item::before {content: \"\";position: absolute;border-left: 1px solid gray;box-sizing: border-box;top: 0;bottom: 0;left: 50%;z-index: -1;}#sk-container-id-2 div.sk-parallel-item {display: flex;flex-direction: column;z-index: 1;position: relative;background-color: white;}#sk-container-id-2 div.sk-parallel-item:first-child::after {align-self: flex-end;width: 50%;}#sk-container-id-2 div.sk-parallel-item:last-child::after {align-self: flex-start;width: 50%;}#sk-container-id-2 div.sk-parallel-item:only-child::after {width: 0;}#sk-container-id-2 div.sk-dashed-wrapped {border: 1px dashed gray;margin: 0 0.4em 0.5em 0.4em;box-sizing: border-box;padding-bottom: 0.4em;background-color: white;}#sk-container-id-2 div.sk-label label {font-family: monospace;font-weight: bold;display: inline-block;line-height: 1.2em;}#sk-container-id-2 div.sk-label-container {text-align: center;}#sk-container-id-2 div.sk-container {/* jupyter's `normalize.less` sets `[hidden] { display: none; }` but bootstrap.min.css set `[hidden] { display: none !important; }` so we also need the `!important` here to be able to override the default hidden behavior on the sphinx rendered scikit-learn.org. See: https://github.com/scikit-learn/scikit-learn/issues/21755 */display: inline-block !important;position: relative;}#sk-container-id-2 div.sk-text-repr-fallback {display: none;}</style><div id=\"sk-container-id-2\" class=\"sk-top-container\"><div class=\"sk-text-repr-fallback\"><pre>DecisionTreeClassifier(max_depth=6, random_state=77)</pre><b>In a Jupyter environment, please rerun this cell to show the HTML representation or trust the notebook. <br />On GitHub, the HTML representation is unable to render, please try loading this page with nbviewer.org.</b></div><div class=\"sk-container\" hidden><div class=\"sk-item\"><div class=\"sk-estimator sk-toggleable\"><input class=\"sk-toggleable__control sk-hidden--visually\" id=\"sk-estimator-id-2\" type=\"checkbox\" checked><label for=\"sk-estimator-id-2\" class=\"sk-toggleable__label sk-toggleable__label-arrow\">DecisionTreeClassifier</label><div class=\"sk-toggleable__content\"><pre>DecisionTreeClassifier(max_depth=6, random_state=77)</pre></div></div></div></div></div>"
      ],
      "text/plain": [
       "DecisionTreeClassifier(max_depth=6, random_state=77)"
      ]
     },
     "execution_count": 69,
     "metadata": {},
     "output_type": "execute_result"
    },
    {
     "data": {
      "image/png": "[encoded data removed]",
      "text/plain": [
       "<Figure size 1300x700 with 1 Axes>"
      ]
     },
     "metadata": {},
     "output_type": "display_data"
    }
   ],
   "source": [
    "dec_tree(X_train, y_train, 6)"
   ]
  },
  {
   "cell_type": "code",
   "execution_count": 72,
   "id": "682fc100",
   "metadata": {},
   "outputs": [],
   "source": [
    "def tree_score(x,y,depth):\n",
    "    train_tree = DecisionTreeClassifier(max_depth= depth, random_state=77)\n",
    "    train_tree.fit(x, y)\n",
    "    train_tree.score(x,y)\n",
    "    return train_tree.score(x,y)"
   ]
  },
  {
   "cell_type": "code",
   "execution_count": 73,
   "id": "74ab3365",
   "metadata": {},
   "outputs": [
    {
     "data": {
      "text/plain": [
       "0.8080142023839716"
      ]
     },
     "execution_count": 73,
     "metadata": {},
     "output_type": "execute_result"
    }
   ],
   "source": [
    "tree_score(X_train, y_train, 6)"
   ]
  },
  {
   "cell_type": "code",
   "execution_count": 127,
   "id": "57af6b5d",
   "metadata": {},
   "outputs": [],
   "source": [
    "def tree_matrix(x, y, depth):\n",
    "    train_tree = DecisionTreeClassifier(max_depth= depth, random_state=77)\n",
    "    train_tree.fit(x, y)\n",
    "    pred = train_tree.predict(x)\n",
    "    labels = sorted(y.unique())\n",
    "    df = pd.DataFrame(confusion_matrix(y, pred), index=labels, columns=labels)\n",
    "    return df\n",
    "    "
   ]
  },
  {
   "cell_type": "code",
   "execution_count": 97,
   "id": "4778211c",
   "metadata": {},
   "outputs": [
    {
     "data": {
      "text/html": [
       "<div>\n",
       "<style scoped>\n",
       "    .dataframe tbody tr th:only-of-type {\n",
       "        vertical-align: middle;\n",
       "    }\n",
       "\n",
       "    .dataframe tbody tr th {\n",
       "        vertical-align: top;\n",
       "    }\n",
       "\n",
       "    .dataframe thead th {\n",
       "        text-align: right;\n",
       "    }\n",
       "</style>\n",
       "<table border=\"1\" class=\"dataframe\">\n",
       "  <thead>\n",
       "    <tr style=\"text-align: right;\">\n",
       "      <th></th>\n",
       "      <th>No</th>\n",
       "      <th>Yes</th>\n",
       "    </tr>\n",
       "  </thead>\n",
       "  <tbody>\n",
       "    <tr>\n",
       "      <th>No</th>\n",
       "      <td>2589</td>\n",
       "      <td>308</td>\n",
       "    </tr>\n",
       "    <tr>\n",
       "      <th>Yes</th>\n",
       "      <td>449</td>\n",
       "      <td>597</td>\n",
       "    </tr>\n",
       "  </tbody>\n",
       "</table>\n",
       "</div>"
      ],
      "text/plain": [
       "       No  Yes\n",
       "No   2589  308\n",
       "Yes   449  597"
      ]
     },
     "execution_count": 97,
     "metadata": {},
     "output_type": "execute_result"
    }
   ],
   "source": [
    "create_matrix(X_train, y_train, 6)"
   ]
  },
  {
   "cell_type": "code",
   "execution_count": 123,
   "id": "e9e4b4c9",
   "metadata": {},
   "outputs": [],
   "source": [
    "def tree_report(x, y, depth):\n",
    "    train_tree = DecisionTreeClassifier(max_depth= depth, random_state=77)\n",
    "    train_tree.fit(x, y)\n",
    "    pred = train_tree.predict(x)\n",
    "    print(classification_report(y, pred))"
   ]
  },
  {
   "cell_type": "code",
   "execution_count": 124,
   "id": "33606917",
   "metadata": {},
   "outputs": [
    {
     "name": "stdout",
     "output_type": "stream",
     "text": [
      "              precision    recall  f1-score   support\n",
      "\n",
      "          No       0.85      0.89      0.87      2897\n",
      "         Yes       0.66      0.57      0.61      1046\n",
      "\n",
      "    accuracy                           0.81      3943\n",
      "   macro avg       0.76      0.73      0.74      3943\n",
      "weighted avg       0.80      0.81      0.80      3943\n",
      "\n"
     ]
    }
   ],
   "source": [
    "tree_report(X_train, y_train, 6)"
   ]
  },
  {
   "cell_type": "code",
   "execution_count": 130,
   "id": "c8b2d8c9",
   "metadata": {},
   "outputs": [],
   "source": [
    "def ran_score(x, y, depth):\n",
    "    rf = RandomForestClassifier(bootstrap=True, \n",
    "                            class_weight=None, \n",
    "                            criterion='gini',\n",
    "                            min_samples_leaf=3,\n",
    "                            n_estimators=100,\n",
    "                            max_depth=depth, \n",
    "                            random_state=77)\n",
    "    rf.fit(x, y)\n",
    "    pred = rf.predict(x)\n",
    "    rf.score(x, y)\n",
    "    return rf.score(x, y)\n"
   ]
  },
  {
   "cell_type": "code",
   "execution_count": 131,
   "id": "c908851a",
   "metadata": {},
   "outputs": [
    {
     "data": {
      "text/plain": [
       "0.8141009383717981"
      ]
     },
     "execution_count": 131,
     "metadata": {},
     "output_type": "execute_result"
    }
   ],
   "source": [
    "ran_score(X_train, y_train, 6)"
   ]
  },
  {
   "cell_type": "code",
   "execution_count": 128,
   "id": "993d8721",
   "metadata": {},
   "outputs": [],
   "source": [
    "def ran_matrix(x, y, depth):\n",
    "    rf = RandomForestClassifier(bootstrap=True, \n",
    "                            class_weight=None, \n",
    "                            criterion='gini',\n",
    "                            min_samples_leaf=3,\n",
    "                            n_estimators=100,\n",
    "                            max_depth=depth, \n",
    "                            random_state=77)\n",
    "    rf.fit(x, y)\n",
    "    pred = rf.predict(x)\n",
    "    labels = sorted(y.unique())\n",
    "    df = pd.DataFrame(confusion_matrix(y, pred), index=labels, columns=labels)\n",
    "    return df"
   ]
  },
  {
   "cell_type": "code",
   "execution_count": 129,
   "id": "f41d4dd2",
   "metadata": {},
   "outputs": [
    {
     "data": {
      "text/html": [
       "<div>\n",
       "<style scoped>\n",
       "    .dataframe tbody tr th:only-of-type {\n",
       "        vertical-align: middle;\n",
       "    }\n",
       "\n",
       "    .dataframe tbody tr th {\n",
       "        vertical-align: top;\n",
       "    }\n",
       "\n",
       "    .dataframe thead th {\n",
       "        text-align: right;\n",
       "    }\n",
       "</style>\n",
       "<table border=\"1\" class=\"dataframe\">\n",
       "  <thead>\n",
       "    <tr style=\"text-align: right;\">\n",
       "      <th></th>\n",
       "      <th>No</th>\n",
       "      <th>Yes</th>\n",
       "    </tr>\n",
       "  </thead>\n",
       "  <tbody>\n",
       "    <tr>\n",
       "      <th>No</th>\n",
       "      <td>2679</td>\n",
       "      <td>218</td>\n",
       "    </tr>\n",
       "    <tr>\n",
       "      <th>Yes</th>\n",
       "      <td>515</td>\n",
       "      <td>531</td>\n",
       "    </tr>\n",
       "  </tbody>\n",
       "</table>\n",
       "</div>"
      ],
      "text/plain": [
       "       No  Yes\n",
       "No   2679  218\n",
       "Yes   515  531"
      ]
     },
     "execution_count": 129,
     "metadata": {},
     "output_type": "execute_result"
    }
   ],
   "source": [
    "ran_matrix(X_train, y_train, 6)"
   ]
  },
  {
   "cell_type": "code",
   "execution_count": 132,
   "id": "5b40dc68",
   "metadata": {},
   "outputs": [],
   "source": [
    "def ran_report(x, y, depth):\n",
    "    rf = RandomForestClassifier(bootstrap=True, \n",
    "                            class_weight=None, \n",
    "                            criterion='gini',\n",
    "                            min_samples_leaf=3,\n",
    "                            n_estimators=100,\n",
    "                            max_depth=depth, \n",
    "                            random_state=77)\n",
    "    rf.fit(x, y)\n",
    "    pred = rf.predict(x)\n",
    "    print(classification_report(y, pred))"
   ]
  },
  {
   "cell_type": "code",
   "execution_count": 133,
   "id": "8add1a4f",
   "metadata": {},
   "outputs": [
    {
     "name": "stdout",
     "output_type": "stream",
     "text": [
      "              precision    recall  f1-score   support\n",
      "\n",
      "          No       0.84      0.92      0.88      2897\n",
      "         Yes       0.71      0.51      0.59      1046\n",
      "\n",
      "    accuracy                           0.81      3943\n",
      "   macro avg       0.77      0.72      0.74      3943\n",
      "weighted avg       0.80      0.81      0.80      3943\n",
      "\n"
     ]
    }
   ],
   "source": [
    "ran_report(X_train, y_train, 6)"
   ]
  },
  {
   "cell_type": "code",
   "execution_count": 117,
   "id": "262dd032",
   "metadata": {},
   "outputs": [],
   "source": [
    "def log_reg_score(x, y, c):\n",
    "    logit = LogisticRegression(C= c, random_state=77, intercept_scaling=1, solver='lbfgs')\n",
    "    logit.fit(x, y)\n",
    "    pred = logit.predict(x)\n",
    "    logit.score(x, y)\n",
    "    return logit.score(x, y)"
   ]
  },
  {
   "cell_type": "code",
   "execution_count": 118,
   "id": "d23d99d0",
   "metadata": {},
   "outputs": [
    {
     "data": {
      "text/plain": [
       "0.7895003804209992"
      ]
     },
     "execution_count": 118,
     "metadata": {},
     "output_type": "execute_result"
    }
   ],
   "source": [
    "log_reg_score(X_train, y_train, 1)"
   ]
  },
  {
   "cell_type": "code",
   "execution_count": 137,
   "id": "58ca15ce",
   "metadata": {},
   "outputs": [],
   "source": [
    "def log_matrix(x, y, c):\n",
    "    logit = LogisticRegression(C= c, random_state=77, intercept_scaling=1, solver='lbfgs')\n",
    "    logit.fit(x, y)\n",
    "    pred = logit.predict(x)\n",
    "    labels = sorted(y.unique())\n",
    "    df = pd.DataFrame(confusion_matrix(y, pred), index=labels, columns=labels)\n",
    "    return df"
   ]
  },
  {
   "cell_type": "code",
   "execution_count": 138,
   "id": "bfd98623",
   "metadata": {},
   "outputs": [
    {
     "data": {
      "text/html": [
       "<div>\n",
       "<style scoped>\n",
       "    .dataframe tbody tr th:only-of-type {\n",
       "        vertical-align: middle;\n",
       "    }\n",
       "\n",
       "    .dataframe tbody tr th {\n",
       "        vertical-align: top;\n",
       "    }\n",
       "\n",
       "    .dataframe thead th {\n",
       "        text-align: right;\n",
       "    }\n",
       "</style>\n",
       "<table border=\"1\" class=\"dataframe\">\n",
       "  <thead>\n",
       "    <tr style=\"text-align: right;\">\n",
       "      <th></th>\n",
       "      <th>No</th>\n",
       "      <th>Yes</th>\n",
       "    </tr>\n",
       "  </thead>\n",
       "  <tbody>\n",
       "    <tr>\n",
       "      <th>No</th>\n",
       "      <td>2599</td>\n",
       "      <td>298</td>\n",
       "    </tr>\n",
       "    <tr>\n",
       "      <th>Yes</th>\n",
       "      <td>532</td>\n",
       "      <td>514</td>\n",
       "    </tr>\n",
       "  </tbody>\n",
       "</table>\n",
       "</div>"
      ],
      "text/plain": [
       "       No  Yes\n",
       "No   2599  298\n",
       "Yes   532  514"
      ]
     },
     "execution_count": 138,
     "metadata": {},
     "output_type": "execute_result"
    }
   ],
   "source": [
    "log_matrix(X_train, y_train, 1)"
   ]
  },
  {
   "cell_type": "code",
   "execution_count": 135,
   "id": "c49845aa",
   "metadata": {},
   "outputs": [],
   "source": [
    "def log_report(x, y, c):\n",
    "    logit = LogisticRegression(C= c, random_state=77, intercept_scaling=1, solver='lbfgs')\n",
    "    logit.fit(x, y)\n",
    "    pred = logit.predict(x)\n",
    "    print(classification_report(y, pred))"
   ]
  },
  {
   "cell_type": "code",
   "execution_count": 136,
   "id": "7e79514b",
   "metadata": {},
   "outputs": [
    {
     "name": "stdout",
     "output_type": "stream",
     "text": [
      "              precision    recall  f1-score   support\n",
      "\n",
      "          No       0.83      0.90      0.86      2897\n",
      "         Yes       0.63      0.49      0.55      1046\n",
      "\n",
      "    accuracy                           0.79      3943\n",
      "   macro avg       0.73      0.69      0.71      3943\n",
      "weighted avg       0.78      0.79      0.78      3943\n",
      "\n"
     ]
    }
   ],
   "source": [
    "log_report(X_train, y_train, 1)"
   ]
  },
  {
   "cell_type": "code",
   "execution_count": null,
   "id": "6bfed24f",
   "metadata": {},
   "outputs": [],
   "source": []
  }
 ],
 "metadata": {
  "kernelspec": {
   "display_name": "Python 3 (ipykernel)",
   "language": "python",
   "name": "python3"
  },
  "language_info": {
   "codemirror_mode": {
    "name": "ipython",
    "version": 3
   },
   "file_extension": ".py",
   "mimetype": "text/x-python",
   "name": "python",
   "nbconvert_exporter": "python",
   "pygments_lexer": "ipython3",
   "version": "3.9.13"
  }
 },
 "nbformat": 4,
 "nbformat_minor": 5
}
